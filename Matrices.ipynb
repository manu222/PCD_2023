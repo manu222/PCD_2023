{
 "cells": [
  {
   "cell_type": "markdown",
   "id": "2b12509a-5a6a-4578-9feb-0df8c5156ff1",
   "metadata": {},
   "source": [
    "### Matriz A que tenga 300x300 que dentro tendra numeros aleatorios de 0 a 222"
   ]
  },
  {
   "cell_type": "code",
   "execution_count": 55,
   "id": "39430a89-3926-4374-82d5-0c98c934574f",
   "metadata": {},
   "outputs": [
    {
     "name": "stdout",
     "output_type": "stream",
     "text": [
      "Las matrices no son multiplicables.\n"
     ]
    }
   ],
   "source": [
    "import random as rd\n",
    "\n",
    "def multiplica_matrices(matriz1, matriz2):\n",
    "\n",
    "    # Obtiene las dimensiones de las matrices de entrada\n",
    "    filas_matriz1 = len(matriz1)\n",
    "    col_matriz1 = len(matriz1[0])\n",
    "    filas_matriz2 = len(matriz2)\n",
    "    col_matriz2 = len(matriz2[0])\n",
    "\n",
    "    # Inicializa una matriz resultante llena de ceros\n",
    "    resultado = [[0 for _ in range(col_matriz2)] for _ in range(filas_matriz1)]\n",
    "\n",
    "    # Realiza la multiplicación de matrices\n",
    "    for i in range(filas_matriz1):\n",
    "        for j in range(col_matriz2):\n",
    "            for k in range(col_matriz1):\n",
    "                resultado[i][j] += matriz1[i][k] * matriz2[k][j]\n",
    "\n",
    "    return resultado\n",
    "\n",
    "def son_multiplicables(matriz1, matriz2):\n",
    "\n",
    "    return len(matriz1[0]) == len(matriz2)\n",
    "    \n",
    "def recorre_matriz(matriz):\n",
    "    num_filas = len(matriz)\n",
    "    num_columnas = len(matriz[0])\n",
    "    \n",
    "    for i in range(num_filas):\n",
    "        for j in range(num_columnas):\n",
    "            print(matriz[i][j], end=\"\")\n",
    "            if j < num_columnas - 1:  # Coma solo si no es el último elemento de la fila\n",
    "                print(\",\", end=\"\")\n",
    "        print()\n",
    "\n",
    "# Crear la matriz A con números aleatorios de 0 a 222\n",
    "matriz_A = [[rd.randint(0, 222) for num_filas in range(300)] for num_columnas in range(300)]\n",
    "matriz_B = [[rd.randint(0, 222) for num_filas in range(200)] for num_columnas in range(150)]\n",
    "\n",
    "num_filasA=len(matriz_A)\n",
    "num_colA=len(matriz_A[0])\n",
    "num_filasB=len(matriz_B)\n",
    "num_colB=len(matriz_B[0])\n",
    "\n",
    "if son_multiplicables(matriz_A,matriz_B):\n",
    "     print(\"Las matrices son multiplicables.\")\n",
    "else:\n",
    "    print(\"Las matrices no son multiplicables.\")\n"
   ]
  },
  {
   "cell_type": "code",
   "execution_count": 65,
   "id": "0bdb3f97-901a-4728-882d-f074ad52dd94",
   "metadata": {},
   "outputs": [
    {
     "name": "stdin",
     "output_type": "stream",
     "text": [
      "Ingrese las filas de A : 5\n",
      "Ingrese las columnas de A : 5\n",
      "Ingrese las filas de B : 5\n",
      "Ingrese las columnas de B : 5\n"
     ]
    },
    {
     "name": "stdout",
     "output_type": "stream",
     "text": [
      "Dimensiones de A: 5 x 5\n",
      "Dimensiones de B: 5 x 5\n",
      "Las matrices son multiplicables.\n",
      "MATRIZ A\n",
      "96,121,144,43,13\n",
      "109,165,61,133,194\n",
      "50,114,105,82,92\n",
      "69,186,1,179,193\n",
      "185,51,220,217,208\n",
      "MATRIZ B\n",
      "208,179,130,189,6\n",
      "193,80,98,89,36\n",
      "57,135,173,177,142\n",
      "34,140,135,200,28\n",
      "42,177,113,117,123\n",
      "Resultado\n",
      "53537,54625,56524,64522,28183\n",
      "70664,93904,80770,95381,42842\n",
      "45039,60009,57303,65345,32926\n",
      "64499,86587,73345,88153,36003\n",
      "76977,134091,119907,146180,65846\n"
     ]
    }
   ],
   "source": [
    "filas_A = int(input('Ingrese las filas de A :'))\n",
    "col_A = int(input('Ingrese las columnas de A :'))\n",
    "matriz_A = [[rd.randint(0, 222) for num_filas in range(filas_A)] for num_columnas in range(col_A)]\n",
    "filas_B = int(input('Ingrese las filas de B :'))\n",
    "col_B = int(input('Ingrese las columnas de B :'))\n",
    "matriz_B = [[rd.randint(0, 222) for num_filas in range(filas_B)] for num_columnas in range(col_B)]\n",
    "\n",
    "print(\"Dimensiones de A:\", filas_A, \"x\", col_A)\n",
    "print(\"Dimensiones de B:\", filas_B, \"x\", col_B)\n",
    "\n",
    "if son_multiplicables(matriz_A,matriz_B):\n",
    "     print(\"Las matrices son multiplicables.\")\n",
    "     resultado = multiplica_matrices(matriz_A,matriz_B)\n",
    "     print(\"MATRIZ A\")\n",
    "     recorre_matriz(matriz_A)\n",
    "     print(\"MATRIZ B\")\n",
    "     recorre_matriz(matriz_B)\n",
    "     print(\"Resultado\")\n",
    "     recorre_matriz(resultado)\n",
    "else:\n",
    "    print(\"Las matrices no son multiplicables.\")"
   ]
  },
  {
   "cell_type": "code",
   "execution_count": null,
   "id": "1e6f7ec6-82bd-4a25-bda7-0b1fbc63a790",
   "metadata": {},
   "outputs": [],
   "source": []
  }
 ],
 "metadata": {
  "kernelspec": {
   "display_name": "Python 3 (ipykernel)",
   "language": "python",
   "name": "python3"
  },
  "language_info": {
   "codemirror_mode": {
    "name": "ipython",
    "version": 3
   },
   "file_extension": ".py",
   "mimetype": "text/x-python",
   "name": "python",
   "nbconvert_exporter": "python",
   "pygments_lexer": "ipython3",
   "version": "3.11.5"
  }
 },
 "nbformat": 4,
 "nbformat_minor": 5
}
