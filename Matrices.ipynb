{
 "cells": [
  {
   "cell_type": "markdown",
   "id": "2b12509a-5a6a-4578-9feb-0df8c5156ff1",
   "metadata": {},
   "source": [
    "### Matriz A que tenga 300x300 que dentro tendra numeros aleatorios de 0 a 222"
   ]
  },
  {
   "cell_type": "code",
   "execution_count": 2,
   "id": "39430a89-3926-4374-82d5-0c98c934574f",
   "metadata": {},
   "outputs": [
    {
     "name": "stdout",
     "output_type": "stream",
     "text": [
      "Las matrices no son multiplicables.\n"
     ]
    }
   ],
   "source": [
    "import random as rd, multiprocessing as mp, math\n",
    "\n",
    "def multiplica_matrices(matriz1, matriz2):\n",
    "\n",
    "    # Obtiene las dimensiones de las matrices de entrada\n",
    "    filas_matriz1 = len(matriz1)\n",
    "    col_matriz1 = len(matriz1[0])\n",
    "    filas_matriz2 = len(matriz2)\n",
    "    col_matriz2 = len(matriz2[0])\n",
    "\n",
    "    # Inicializa una matriz resultante llena de ceros\n",
    "    resultado = [[0 for rows in range(col_matriz2)] for cols in range(filas_matriz1)]\n",
    "    print(resultado)\n",
    "    # Realiza la multiplicación de matrices\n",
    "    for i in range(filas_matriz1):\n",
    "        for j in range(col_matriz2):\n",
    "            for k in range(col_matriz1):\n",
    "                resultado[i][j] += matriz1[i][k] * matriz2[k][j]\n",
    "\n",
    "    return resultado\n",
    "\n",
    "def son_multiplicables(matriz1, matriz2):\n",
    "\n",
    "    return len(matriz1[0]) == len(matriz2)\n",
    "    \n",
    "def recorre_matriz(matriz):\n",
    "    num_filas = len(matriz)\n",
    "    num_columnas = len(matriz[0])\n",
    "    \n",
    "    for i in range(num_filas):\n",
    "        for j in range(num_columnas):\n",
    "            print(matriz[i][j], end=\"\")\n",
    "            if j < num_columnas - 1:  # Coma solo si no es el último elemento de la fila\n",
    "                print(\",\", end=\"\")\n",
    "        print()\n",
    "\n",
    "# Crear la matriz A con números aleatorios de 0 a 222\n",
    "matriz_A = [[rd.randint(0, 222) for num_filas in range(300)] for num_columnas in range(300)]\n",
    "matriz_B = [[rd.randint(0, 222) for num_filas in range(200)] for num_columnas in range(150)]\n",
    "\n",
    "num_filasA=len(matriz_A)\n",
    "num_colA=len(matriz_A[0])\n",
    "num_filasB=len(matriz_B)\n",
    "num_colB=len(matriz_B[0])\n",
    "\n",
    "if son_multiplicables(matriz_A,matriz_B):\n",
    "     print(\"Las matrices son multiplicables.\")\n",
    "else:\n",
    "    print(\"Las matrices no son multiplicables.\")\n"
   ]
  },
  {
   "cell_type": "code",
   "execution_count": 5,
   "id": "c65e14e3-104e-4394-960c-2ad277c48475",
   "metadata": {},
   "outputs": [],
   "source": [
    "def par_mult():\n",
    "    num_cores = mp.cpu_count()\n",
    "\n",
    "    size_col = (n_col_B/num_cores)\n",
    "    size_fil = (n_fil_A/num_cores)\n",
    "    MC=RawArray('i',n_fil_A*n_col_B)\n",
    "    cores = []\n",
    "    for core in range(num_cores):\n",
    "        i_MC=(core*size_fil,n_fil_A)\n",
    "        f_MC=((core+1)*size_fil,n_fil_A)\n",
    "        cores.append(mp.Process(target=par_core),args=(A,B,MC,i_MC,f_MC))\n",
    "    for core in cores:\n",
    "        core.start()\n",
    "    for core in cores:\n",
    "        core.join()\n",
    "    C_2D = [[0]*num_colB for i in range(n_fil_A)]\n",
    "    for i in range(n_fil_A):\n",
    "        for j in range(n_col_B):\n",
    "            C_2D[i][j]=MC[i*n_col_B+j]\n",
    "    return C_2D\n",
    "    \n",
    "def par_core(A,B,MC,i_MC,f_MC)):\n",
    "    for i in range(i_MC,f_MC):\n",
    "        for j in range(len(B[0])):\n",
    "            for k in range(len(A[0]):\n",
    "            MC[i*len(B[0])+j] += A[i][k]*B[k][j]\n",
    "    "
   ]
  },
  {
   "cell_type": "code",
   "execution_count": 10,
   "id": "0bdb3f97-901a-4728-882d-f074ad52dd94",
   "metadata": {},
   "outputs": [
    {
     "name": "stdout",
     "output_type": "stream",
     "text": [
      "Dimensiones de A: 10 x 5\n",
      "Dimensiones de B: 5 x 10\n",
      "Las matrices son multiplicables.\n",
      "[[1, 1, 1, 1, 1], [1, 1, 1, 1, 1], [1, 1, 1, 1, 1], [1, 1, 1, 1, 1], [1, 1, 1, 1, 1]]\n",
      "MATRIZ A\n",
      "220,88,72,96,192,114,125,20,155,125\n",
      "24,142,69,215,200,199,52,221,86,72\n",
      "72,166,87,2,61,88,124,213,112,104\n",
      "112,106,195,126,184,36,70,217,126,56\n",
      "75,147,181,206,21,178,85,93,34,209\n",
      "MATRIZ B\n",
      "57,8,16,211,173\n",
      "196,219,184,55,157\n",
      "199,198,212,68,68\n",
      "170,41,122,74,24\n",
      "195,206,45,170,156\n",
      "42,59,10,187,94\n",
      "142,8,136,129,58\n",
      "128,174,84,0,215\n",
      "193,27,113,57,159\n",
      "6,64,23,71,193\n",
      "Resultado\n",
      "153640,102168,95539,151054,160065\n",
      "179542,152509,115371,121412,164306\n",
      "136997,119731,103814,86977,153138\n",
      "187148,153219,129923,110247,165948\n",
      "147488,123062,122499,116061,143983\n"
     ]
    }
   ],
   "source": [
    "import random as rd\n",
    "filas_A = int(input('Ingrese las filas de A :'))\n",
    "col_A = int(input('Ingrese las columnas de A :'))\n",
    "matriz_A = [[rd.randint(0, 222) for num_filas in range(filas_A)] for num_columnas in range(col_A)]\n",
    "filas_B = int(input('Ingrese las filas de B :'))\n",
    "col_B = int(input('Ingrese las columnas de B :'))\n",
    "matriz_B = [[rd.randint(0, 222) for num_filas in range(filas_B)] for num_columnas in range(col_B)]\n",
    "\n",
    "print(\"Dimensiones de A:\", filas_A, \"x\", col_A)\n",
    "print(\"Dimensiones de B:\", filas_B, \"x\", col_B)\n",
    "\n",
    "if son_multiplicables(matriz_A,matriz_B):\n",
    "     print(\"Las matrices son multiplicables.\")\n",
    "     resultado = multiplica_matrices(matriz_A,matriz_B)\n",
    "     print(\"MATRIZ A\")\n",
    "     recorre_matriz(matriz_A)\n",
    "     print(\"MATRIZ B\")\n",
    "     recorre_matriz(matriz_B)\n",
    "     print(\"Resultado\")\n",
    "     recorre_matriz(resultado)\n",
    "    par_mult(matriz_A,matriz_B)\n",
    "else:\n",
    "    print(\"Las matrices no son multiplicables.\")"
   ]
  },
  {
   "cell_type": "code",
   "execution_count": 1,
   "id": "eaf932a0-892e-4832-b188-0534a076ec0a",
   "metadata": {},
   "outputs": [
    {
     "name": "stdout",
     "output_type": "stream",
     "text": [
      "Python 3.12.0\n"
     ]
    }
   ],
   "source": [
    "!python --version"
   ]
  },
  {
   "cell_type": "code",
   "execution_count": null,
   "id": "f2952f06-ae50-455f-9ce5-8e3882088d25",
   "metadata": {},
   "outputs": [],
   "source": []
  }
 ],
 "metadata": {
  "kernelspec": {
   "display_name": "Python 3 (ipykernel)",
   "language": "python",
   "name": "python3"
  },
  "language_info": {
   "codemirror_mode": {
    "name": "ipython",
    "version": 3
   },
   "file_extension": ".py",
   "mimetype": "text/x-python",
   "name": "python",
   "nbconvert_exporter": "python",
   "pygments_lexer": "ipython3",
   "version": "3.12.0"
  }
 },
 "nbformat": 4,
 "nbformat_minor": 5
}
