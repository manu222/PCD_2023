{
 "cells": [
  {
   "cell_type": "code",
   "execution_count": 1,
   "id": "b38050f5-cb07-42d3-a336-1374d5adfbfe",
   "metadata": {},
   "outputs": [
    {
     "name": "stderr",
     "output_type": "stream",
     "text": [
      "Cloning into 'PCD_2023'...\n"
     ]
    }
   ],
   "source": [
    "!gh repo clone manu222/PCD_2023"
   ]
  },
  {
   "cell_type": "code",
   "execution_count": 37,
   "id": "8850787a-3e5d-4d27-82fc-0dcd6559c2e7",
   "metadata": {},
   "outputs": [],
   "source": [
    "import os, threading as th, time, urllib.request as rq,concurrent as ct,IPython as IP"
   ]
  },
  {
   "cell_type": "code",
   "execution_count": 11,
   "id": "2f0a9bc3-0563-43fd-a063-dbcc823cf6ea",
   "metadata": {},
   "outputs": [
    {
     "name": "stdin",
     "output_type": "stream",
     "text": [
      "Numero de la imagen inicial:  00\n"
     ]
    }
   ],
   "source": [
    "img = int(input(\"Numero de la imagen inicial: \"))"
   ]
  },
  {
   "cell_type": "code",
   "execution_count": 12,
   "id": "c655d376-2e57-4a76-ba81-f466b23a3d61",
   "metadata": {},
   "outputs": [
    {
     "data": {
      "text/plain": [
       "'C:\\\\Users\\\\user\\\\PCD\\\\PCD_2023\\\\Examen'"
      ]
     },
     "execution_count": 12,
     "metadata": {},
     "output_type": "execute_result"
    }
   ],
   "source": [
    "pwd"
   ]
  },
  {
   "cell_type": "code",
   "execution_count": 22,
   "id": "41a9876f-cac3-4837-83a5-ba88d370f0f1",
   "metadata": {},
   "outputs": [],
   "source": [
    "img_url = 'https://storage.cloud.google.com/pcd-images-threads/IMG_3727.jpeg'"
   ]
  },
  {
   "cell_type": "code",
   "execution_count": 23,
   "id": "ffe3fb53-762e-42e4-add4-417fb77b2652",
   "metadata": {},
   "outputs": [
    {
     "data": {
      "text/plain": [
       "'https://storage.cloud.google.com/pcd-images-threads/IMG_3727.jpeg'"
      ]
     },
     "execution_count": 23,
     "metadata": {},
     "output_type": "execute_result"
    }
   ],
   "source": [
    "img_url"
   ]
  },
  {
   "cell_type": "code",
   "execution_count": 16,
   "id": "d011566f-3fe2-4ab9-a4dd-eddb459150ba",
   "metadata": {},
   "outputs": [],
   "source": [
    "a_url_=[]"
   ]
  },
  {
   "cell_type": "code",
   "execution_count": 28,
   "id": "237530eb-f86b-4a64-8076-57e7bae0951a",
   "metadata": {},
   "outputs": [
    {
     "name": "stdout",
     "output_type": "stream",
     "text": [
      "https://storage.cloud.google.com/pcd-images-threads/IMG_3727.jpeg\n",
      "https://storage.cloud.google.com/pcd-images-threads/IMG_3728.jpeg\n",
      "https://storage.cloud.google.com/pcd-images-threads/IMG_3729.jpeg\n",
      "https://storage.cloud.google.com/pcd-images-threads/IMG_3730.jpeg\n",
      "https://storage.cloud.google.com/pcd-images-threads/IMG_3731.jpeg\n",
      "https://storage.cloud.google.com/pcd-images-threads/IMG_3732.jpeg\n",
      "https://storage.cloud.google.com/pcd-images-threads/IMG_3733.jpeg\n",
      "https://storage.cloud.google.com/pcd-images-threads/IMG_3734.jpeg\n",
      "https://storage.cloud.google.com/pcd-images-threads/IMG_3735.jpeg\n",
      "https://storage.cloud.google.com/pcd-images-threads/IMG_3736.jpeg\n"
     ]
    }
   ],
   "source": [
    "for i in range(10):\n",
    "    img_uri_='https://storage.cloud.google.com/pcd-images-threads/IMG_'+str(i+3727)+'.jpeg'\n",
    "    print(img_uri_)\n",
    "    a_url_.append(img_uri_)"
   ]
  },
  {
   "cell_type": "code",
   "execution_count": 21,
   "id": "17eb1406-1303-435a-8aea-547f891b24a7",
   "metadata": {},
   "outputs": [],
   "source": [
    "def seq_download_images(image_numbers):\n",
    "    total_bytes = 0\n",
    "    for num in image_numbers:\n",
    "        total_bytes += _download_image(num)\n",
    "    return total_bytes"
   ]
  },
  {
   "cell_type": "code",
   "execution_count": null,
   "id": "4f6da35a-0626-47d4-9184-40913b30e84b",
   "metadata": {},
   "outputs": [],
   "source": [
    "def _download_image():"
   ]
  },
  {
   "cell_type": "code",
   "execution_count": 8,
   "id": "1448ed87-dbe1-4147-8b3a-9319adf5cf68",
   "metadata": {},
   "outputs": [],
   "source": [
    "def dwn_Img(lt):\n",
    "    ##code\n",
    "    wt=0\n",
    "    for i in lt:\n",
    "        wt+=dwl(i)\n",
    "    return wt"
   ]
  },
  {
   "cell_type": "code",
   "execution_count": null,
   "id": "d4ca5329-c83d-4c89-b368-9a0e4f6dacdd",
   "metadata": {},
   "outputs": [],
   "source": [
    "response = rq.get(url)"
   ]
  },
  {
   "cell_type": "code",
   "execution_count": null,
   "id": "346da487-5388-4737-a7b0-ddf838f34d54",
   "metadata": {},
   "outputs": [],
   "source": [
    "contenido = response.getcontent()"
   ]
  },
  {
   "cell_type": "code",
   "execution_count": 29,
   "id": "89b59ed2-594d-451f-9fc6-f63962f0e93c",
   "metadata": {},
   "outputs": [
    {
     "name": "stdin",
     "output_type": "stream",
     "text": [
      "numero 10\n"
     ]
    }
   ],
   "source": [
    "numero=int(input(\"numero\"))"
   ]
  },
  {
   "cell_type": "code",
   "execution_count": 50,
   "id": "f59ab4b4-0551-4ea4-8d67-10fce0fa415f",
   "metadata": {},
   "outputs": [
    {
     "name": "stdin",
     "output_type": "stream",
     "text": [
      "Número:  500\n"
     ]
    },
    {
     "name": "stdout",
     "output_type": "stream",
     "text": [
      "Imagen descargas/image_503.jpg descargada con éxito.\n",
      "Imagen descargas/image_500.jpg descargada con éxito.\n",
      "Imagen descargas/image_508.jpg descargada con éxito.\n",
      "Imagen descargas/image_504.jpg descargada con éxito.\n",
      "Imagen descargas/image_501.jpg descargada con éxito.\n",
      "Imagen descargas/image_505.jpg descargada con éxito.\n",
      "Imagen descargas/image_509.jpg descargada con éxito.\n",
      "Imagen descargas/image_506.jpg descargada con éxito.\n",
      "Imagen descargas/image_507.jpg descargada con éxito.\n",
      "Imagen descargas/image_502.jpg descargada con éxito.\n",
      "Todas las imágenes han sido descargadas.\n"
     ]
    }
   ],
   "source": [
    "##Importamos lo necesario\n",
    "import requests\n",
    "import os\n",
    "import threading\n",
    "##Funcion para descargar la imagen\n",
    "def descargar_imagen(url, nombre_archivo):\n",
    "    response = requests.get(url)\n",
    "    if response.status_code == 200:##Si la solicitud tiene exito \n",
    "        with open(nombre_archivo, 'wb') as file:\n",
    "            file.write(response.content)\n",
    "        print(f'Imagen {nombre_archivo} descargada con éxito.')\n",
    "    else:\n",
    "        print(f'No se pudo descargar la imagen {nombre_archivo}. Código de estado: {response.status_code}')\n",
    "\n",
    "## Numero el cual vamos a empezar a descargar\n",
    "numero = int(input(\"Número: \"))\n",
    "# Carpeta donde se guardarán las imágenes\n",
    "output_directory = 'descargas/'  \n",
    "# Número de hilos simultáneos (10 por que queremos descargar 10 imagenes)\n",
    "num_threads = 10\n",
    "\n",
    "# Aseguramos que el directorio exista y si no se crea\n",
    "if not os.path.exists(output_directory):\n",
    "    os.makedirs(output_directory)\n",
    "\n",
    "# Lista de hilos\n",
    "threads = []\n",
    "\n",
    "# Descarga las imágenes en hilos separados\n",
    "for i in range(10): ## Aqui 10 porque queremos 10 imgs\n",
    "    ## URL desde la cual empezamos a descargar\n",
    "    img_url = 'https://picsum.photos/id/' + str(numero+i) + '/200' \n",
    "    ##nombramos el archivo y donde lo vamos a descargar\n",
    "    nombre_archivo = os.path.join(output_directory, f'image_{i+numero}.jpg')\n",
    "    ## Un nuevo hilo por cara iteracion, y ese hilo llama a la funcion para descargar la siguiente imagen\n",
    "    thread = threading.Thread(target=descargar_imagen, args=(img_url, nombre_archivo))\n",
    "    ## cada hilo creado se guarda en un array\n",
    "    threads.append(thread)\n",
    "    ## iniciamos el hilo\n",
    "    thread.start()\n",
    "\n",
    "    # Limita el número de hilos activos para evitar sobrecargar\n",
    "    if len(threads) >= num_threads:\n",
    "        for thread in threads:\n",
    "            thread.join()\n",
    "        threads = []\n",
    "\n",
    "# Espera a que los hilos restantes terminen\n",
    "for thread in threads:\n",
    "    thread.join()\n",
    "\n",
    "print(\"Todas las imágenes han sido descargadas.\")\n"
   ]
  },
  {
   "cell_type": "code",
   "execution_count": 31,
   "id": "775377f1-952f-4659-aa0a-57b74d3c600a",
   "metadata": {},
   "outputs": [],
   "source": [
    "a_url_2=[]"
   ]
  },
  {
   "cell_type": "code",
   "execution_count": 33,
   "id": "9645b5cc-d3c2-4eb6-9669-d3fbb2a6d0cb",
   "metadata": {},
   "outputs": [
    {
     "name": "stdout",
     "output_type": "stream",
     "text": [
      "https://picsum.photos/id/10237/200/300\n",
      "https://picsum.photos/id/10237/200/300\n",
      "https://picsum.photos/id/10237/200/300\n",
      "https://picsum.photos/id/10237/200/300\n",
      "https://picsum.photos/id/10237/200/300\n",
      "https://picsum.photos/id/10237/200/300\n",
      "https://picsum.photos/id/10237/200/300\n",
      "https://picsum.photos/id/10237/200/300\n",
      "https://picsum.photos/id/10237/200/300\n",
      "https://picsum.photos/id/10237/200/300\n"
     ]
    }
   ],
   "source": [
    "for i in range(10):\n",
    "    img_uri_2= 'https://picsum.photos/id/'+str(numero)+'237/200/300'\n",
    "    print(img_uri_2)\n",
    "    a_url_2.append(img_uri_2)"
   ]
  },
  {
   "cell_type": "code",
   "execution_count": null,
   "id": "a255be97-75a3-4618-a32d-dbc27d8ae2db",
   "metadata": {},
   "outputs": [],
   "source": []
  }
 ],
 "metadata": {
  "kernelspec": {
   "display_name": "Python 3 (ipykernel)",
   "language": "python",
   "name": "python3"
  },
  "language_info": {
   "codemirror_mode": {
    "name": "ipython",
    "version": 3
   },
   "file_extension": ".py",
   "mimetype": "text/x-python",
   "name": "python",
   "nbconvert_exporter": "python",
   "pygments_lexer": "ipython3",
   "version": "3.11.5"
  }
 },
 "nbformat": 4,
 "nbformat_minor": 5
}
