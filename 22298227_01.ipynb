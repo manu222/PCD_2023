{
 "cells": [
  {
   "cell_type": "markdown",
   "id": "37a90ba0-e9ee-46ec-a9c7-0915c8c58793",
   "metadata": {},
   "source": [
    "## Primera clase PCD"
   ]
  },
  {
   "cell_type": "markdown",
   "id": "33ea5deb-e79a-4890-9b01-6fd77d5a8585",
   "metadata": {},
   "source": [
    "1. Muestra que version de pip tiene"
   ]
  },
  {
   "cell_type": "code",
   "execution_count": 1,
   "id": "0829c07b-c28c-49cc-9a66-e1ea6661b709",
   "metadata": {},
   "outputs": [
    {
     "name": "stdout",
     "output_type": "stream",
     "text": [
      "pip 23.2.1 from C:\\Users\\user\\AppData\\Local\\Programs\\Python\\Python311\\Lib\\site-packages\\pip (python 3.11)\n",
      "\n"
     ]
    }
   ],
   "source": [
    "!pip --version"
   ]
  },
  {
   "cell_type": "markdown",
   "id": "9b817614-c2a2-436f-b799-e986e78b9212",
   "metadata": {},
   "source": [
    "### System Specs"
   ]
  },
  {
   "cell_type": "code",
   "execution_count": 2,
   "id": "b6d5e9f2-0a72-4943-91e8-a91100bead48",
   "metadata": {},
   "outputs": [],
   "source": [
    "import platform as pt"
   ]
  },
  {
   "cell_type": "code",
   "execution_count": 11,
   "id": "5431b418-d78e-4d6a-b3b5-696492e16b4b",
   "metadata": {},
   "outputs": [
    {
     "data": {
      "text/plain": [
       "uname_result(system='Windows', node='manu-acer', release='10', version='10.0.19045', machine='AMD64')"
      ]
     },
     "execution_count": 11,
     "metadata": {},
     "output_type": "execute_result"
    }
   ],
   "source": [
    "pt.uname()"
   ]
  },
  {
   "cell_type": "code",
   "execution_count": 12,
   "id": "4f503e5e-f9e6-4ffe-a2e1-0bdd892d5195",
   "metadata": {},
   "outputs": [
    {
     "data": {
      "text/plain": [
       "'Windows-10-10.0.19045-SP0'"
      ]
     },
     "execution_count": 12,
     "metadata": {},
     "output_type": "execute_result"
    }
   ],
   "source": [
    "pt.platform()"
   ]
  },
  {
   "cell_type": "markdown",
   "id": "9266b1ab-99df-466e-90e7-ada10fda5fe2",
   "metadata": {},
   "source": [
    "#### Cores"
   ]
  },
  {
   "cell_type": "code",
   "execution_count": 14,
   "id": "d8598cd3-ad99-4165-9e68-2fbf329db9c5",
   "metadata": {},
   "outputs": [],
   "source": [
    "import os"
   ]
  },
  {
   "cell_type": "code",
   "execution_count": 16,
   "id": "bd036bf5-5484-40e5-a123-48958d632ef6",
   "metadata": {},
   "outputs": [
    {
     "data": {
      "text/plain": [
       "12"
      ]
     },
     "execution_count": 16,
     "metadata": {},
     "output_type": "execute_result"
    }
   ],
   "source": [
    "os.cpu_count()"
   ]
  }
 ],
 "metadata": {
  "kernelspec": {
   "display_name": "Python 3 (ipykernel)",
   "language": "python",
   "name": "python3"
  },
  "language_info": {
   "codemirror_mode": {
    "name": "ipython",
    "version": 3
   },
   "file_extension": ".py",
   "mimetype": "text/x-python",
   "name": "python",
   "nbconvert_exporter": "python",
   "pygments_lexer": "ipython3",
   "version": "3.11.5"
  }
 },
 "nbformat": 4,
 "nbformat_minor": 5
}
