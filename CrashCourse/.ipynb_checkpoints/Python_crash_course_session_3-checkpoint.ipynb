{
 "cells": [
  {
   "cell_type": "markdown",
   "id": "e99b3835-6f04-48ac-bac2-1ec40d8b8d09",
   "metadata": {},
   "source": [
    "<!-- PROFILE LINK -->\n",
    "<h1 style = \"text-align:center; font-size: 30px\">PROGRAMACIÓN CONCURRENTE Y DISTRIBUIDA</h1>\n",
    "<a href =\"https://github.com/sukuzhanay\">\n",
    "<img src=\"https://avatars.githubusercontent.com/u/17354471?v=4\" style=\"float:left;vertical-align:centre\" width=\"110\" height=\"110\" title = \"Christian Vlaldimir Sucuzhanay Arevalo 21535220\">\n",
    "<a href =\"https://github.com/sukuzhanay?tab=repositories\">\n",
    "<img src=\"https://media-exp1.licdn.com/dms/image/C4D0BAQEu_Aa76fcmPw/company-logo_200_200/0/1630998679429?e=2159024400&v=beta&t=2feC9GG7RWCWizTqsK5HzDWB1TL2DOQuAVwnMf6FFvk\" title = \"M41\" alt=\"UE\" width=\"110\" height=\"110\" style=\"float:right;vertical-align:centre\">"
   ]
  },
  {
   "cell_type": "markdown",
   "id": "b5aae5fa",
   "metadata": {},
   "source": [
    "# Introducción a NumPy\n",
    "## *Session 3*"
   ]
  },
  {
   "cell_type": "markdown",
   "id": "3aa5a3e9",
   "metadata": {},
   "source": [
    "NumPy (Numerical Python) es el paquete indispensable para llevar a cabo tareas de alto rendimiento y de análisis de datos. Como\n",
    "ejemplo, NumPy es la base para el funcionamiento de la otra\n",
    "librería que veremos, Pandas. Pandas se sitúa en un nivel por\n",
    "encima de NumPy, aprovechándose de todas las características de\n",
    "esta librería.\n",
    "\n",
    " Esta librería está **especializada en el cálculo numérico y el análisis de datos, especialmente para un gran volumen de datos**.\n",
    "\n",
    "Al estar en un nivel superior de abstracción, Pandas ofrece unas\n",
    "funciones más cercanas al usuario para facilitar el análisis de datos.\n",
    "Igualmente, también ofrece operaciones de bajo nivel como Numpy\n",
    "\n",
    "\n",
    "Incorpora una nueva clase de objetos llamados **arrays** que permite representar colecciones de datos de un mismo tipo en varias dimensiones, y funciones muy eficientes para su manipulación."
   ]
  },
  {
   "cell_type": "markdown",
   "id": "760e93cc-4c52-4d6e-9448-3479985babfd",
   "metadata": {},
   "source": [
    "!C:\\Python312\\python.exe -m pip install --user numpy\n",
    "!C:\\Users\\user\\AppData\\Local\\Programs\\Python\\Python311\\python.exe -m pip install --user numpy\n",
    "!C:\\Users\\user\\AppData\\Local\\Programs\\Python\\Python311\\python.exe -m pip install --upgrade pip"
   ]
  },
  {
   "cell_type": "code",
   "execution_count": 1,
   "id": "31141aa3-16df-4982-aa7f-98c4df9b4738",
   "metadata": {},
   "outputs": [],
   "source": [
    "import numpy as np"
   ]
  },
  {
   "cell_type": "code",
   "execution_count": 2,
   "id": "196ee7be-0165-4997-91d2-ce622b57c9b7",
   "metadata": {},
   "outputs": [
    {
     "name": "stdout",
     "output_type": "stream",
     "text": [
      "pip 23.3.1 from C:\\Python312\\Lib\\site-packages\\pip (python 3.12)\n",
      "\n"
     ]
    }
   ],
   "source": [
    "!pip3  --version"
   ]
  },
  {
   "cell_type": "code",
   "execution_count": 3,
   "id": "1811b181-c5d0-4030-9f3f-8fe24711694c",
   "metadata": {},
   "outputs": [],
   "source": [
    "import numpy as np"
   ]
  },
  {
   "cell_type": "markdown",
   "id": "dda204d3",
   "metadata": {},
   "source": [
    "Una de las características más importantes de NumPy es su array\n",
    "multidimensional, ndarray, que sirve para almacenar conjuntos de\n",
    "datos. Este tipo de objeto permite realizar operaciones\n",
    "matemáticas en bloques de datos completos de una manera muy\n",
    "natural.\n",
    "\n",
    "- Creación de un array: \n",
    "\n",
    "**np.array()** : Crea un array y devuelve una referencia a él. El número de dimensiones del array dependerá de las listas o tuplas anidadas en lista:\n",
    "\n",
    "- Para una lista de valores se crea un array de *una dimensión*, también conocido como **vector**.\n",
    "\n",
    "- Para una lista de listas de valores se crea un array de *dos dimensiones*, también conocido como **matriz**.\n",
    "\n",
    "- Para una lista de listas de listas de valores se crea un array de *tres dimensiones*, también conocido como **cubo**.\n",
    "\n",
    "- Y así sucesivamente. No hay límite en el número de dimensiones del array más allá de la memoria disponible en el sistema.\n",
    "\n",
    "**Importante:** Los datos que contiene un objeto de tipo ndarray son homogéneos,\n",
    "es decir, todos los elementos deben ser del mismo tipo.\n",
    "\n",
    "Un array puede ser un número, se considera entonces como un array de 0 dimensiones."
   ]
  },
  {
   "cell_type": "code",
   "execution_count": 4,
   "id": "ab685f52",
   "metadata": {},
   "outputs": [
    {
     "name": "stdout",
     "output_type": "stream",
     "text": [
      "80\n"
     ]
    }
   ],
   "source": [
    "array_0 = np.array(80)\n",
    "print(array_0)"
   ]
  },
  {
   "cell_type": "code",
   "execution_count": 5,
   "id": "48f3bafc",
   "metadata": {},
   "outputs": [
    {
     "data": {
      "text/plain": [
       "array([ 1,  2,  3,  5,  7, 11])"
      ]
     },
     "execution_count": 5,
     "metadata": {},
     "output_type": "execute_result"
    }
   ],
   "source": [
    "# Array de una dimensión\n",
    "array_1 = np.array([1, 2, 3, 5, 7, 11])\n",
    "array_1"
   ]
  },
  {
   "cell_type": "code",
   "execution_count": 6,
   "id": "5538fa96",
   "metadata": {},
   "outputs": [
    {
     "name": "stdout",
     "output_type": "stream",
     "text": [
      "[[  1   2   3   5   7  11]\n",
      " [  1   4   9  25  49 121]]\n"
     ]
    }
   ],
   "source": [
    "# Array de dos dimensiones\n",
    "array_2 = np.array([[1, 2, 3, 5, 7, 11],[1, 4, 9, 25, 49, 121]])\n",
    "print(array_2)"
   ]
  },
  {
   "cell_type": "code",
   "execution_count": 7,
   "id": "19202676",
   "metadata": {},
   "outputs": [
    {
     "name": "stdout",
     "output_type": "stream",
     "text": [
      "[[[  1   2   3   5   7  11]\n",
      "  [  1   4   9  25  49 121]]\n",
      "\n",
      " [[  1   2   3   5   7  11]\n",
      "  [  1   4   9  25  49 121]]]\n"
     ]
    }
   ],
   "source": [
    "# Array de tres dimensiones\n",
    "array_3 = np.array([[[1, 2, 3, 5, 7, 11],[1, 4, 9, 25, 49, 121]],[[1, 2, 3, 5, 7, 11],[1, 4, 9, 25, 49, 121]]])\n",
    "print(array_3)"
   ]
  },
  {
   "cell_type": "markdown",
   "id": "1667f397",
   "metadata": {},
   "source": [
    "#### Tipos de datos para ndarray\n",
    "\n",
    "Los tipos de datos son una de las partes que hace a NumPy tan\n",
    "flexible. En la mayoría de los casos, estos tipos de datos tienen un\n",
    "mapeo directo con su representación en memoria, facilitando a la\n",
    "máquina la lectura y escritura de los mismos."
   ]
  },
  {
   "cell_type": "code",
   "execution_count": 8,
   "id": "8686af51",
   "metadata": {},
   "outputs": [
    {
     "data": {
      "text/plain": [
       "array([1., 2., 3.])"
      ]
     },
     "execution_count": 8,
     "metadata": {},
     "output_type": "execute_result"
    }
   ],
   "source": [
    "arr1 = np.array([1, 2, 3], dtype=np.float64)\n",
    "arr1"
   ]
  },
  {
   "cell_type": "code",
   "execution_count": 10,
   "id": "fb3e0453",
   "metadata": {},
   "outputs": [
    {
     "name": "stderr",
     "output_type": "stream",
     "text": [
      "C:\\Users\\user\\AppData\\Local\\Temp\\ipykernel_13888\\3810206640.py:1: DeprecationWarning: NumPy will stop allowing conversion of out-of-bound Python integers to integer arrays.  The conversion of 300 to int8 will fail in the future.\n",
      "For the old behavior, usually:\n",
      "    np.array(value).astype(dtype)\n",
      "will give the desired result (the cast overflows).\n",
      "  arr2 = np.array([1, 2, 300, 500], dtype=np.int8)\n",
      "C:\\Users\\user\\AppData\\Local\\Temp\\ipykernel_13888\\3810206640.py:1: DeprecationWarning: NumPy will stop allowing conversion of out-of-bound Python integers to integer arrays.  The conversion of 500 to int8 will fail in the future.\n",
      "For the old behavior, usually:\n",
      "    np.array(value).astype(dtype)\n",
      "will give the desired result (the cast overflows).\n",
      "  arr2 = np.array([1, 2, 300, 500], dtype=np.int8)\n"
     ]
    },
    {
     "data": {
      "text/plain": [
       "array([  1,   2,  44, -12], dtype=int8)"
      ]
     },
     "execution_count": 10,
     "metadata": {},
     "output_type": "execute_result"
    }
   ],
   "source": [
    "arr2 = np.array([1, 2, 300, 500], dtype=np.int8)\n",
    "arr2"
   ]
  },
  {
   "cell_type": "code",
   "execution_count": 107,
   "id": "100308ce-8a43-4f36-8b75-4b76649c57cc",
   "metadata": {},
   "outputs": [],
   "source": [
    "import multiprocessing as mp"
   ]
  },
  {
   "cell_type": "code",
   "execution_count": 155,
   "id": "17b11d5e-153b-4a67-91f3-a927a54214ee",
   "metadata": {},
   "outputs": [],
   "source": [
    "a1 = np.empty((40, 20))\n",
    "a2 = np.empty((20, 6))"
   ]
  },
  {
   "cell_type": "code",
   "execution_count": 156,
   "id": "675d4592-3e75-480e-a4df-d3baaf12a37f",
   "metadata": {},
   "outputs": [
    {
     "data": {
      "text/plain": [
       "array([[6.98544213e-312, 6.98543643e-312, 7.65801751e-321,\n",
       "        5.82997462e-321,             nan,             nan,\n",
       "                    nan,             nan,             nan,\n",
       "        3.60123765e-293,             nan, 2.32585906e-295,\n",
       "                    nan,             nan,             nan,\n",
       "        5.16231271e-297, 3.13151306e-292,             nan,\n",
       "        1.61317855e-307,             nan],\n",
       "       [            nan,             nan,             nan,\n",
       "                    nan,             nan,             nan,\n",
       "                    nan,             nan, 1.65167595e-295,\n",
       "                    nan, 1.14003676e-303,             nan,\n",
       "                    nan,             nan,             nan,\n",
       "                    nan,             nan,             nan,\n",
       "                    nan,             nan],\n",
       "       [            nan, 1.02752772e-294, 3.35391613e-302,\n",
       "                    nan,             nan,             nan,\n",
       "                    nan,             nan,             nan,\n",
       "                    nan,             nan,             nan,\n",
       "        6.26302613e-294,             nan,             nan,\n",
       "                    nan, 1.87910016e-293,             nan,\n",
       "        3.66974187e-296,             nan],\n",
       "       [            nan, 5.13067100e-288, 7.87441178e-302,\n",
       "                    nan,             nan, 5.49505619e-298,\n",
       "                    nan, 2.27847391e-304, 2.19802247e-297,\n",
       "                    nan,             nan,             nan,\n",
       "        1.49544737e-305,             nan, 2.16620718e-299,\n",
       "                    nan,             nan, 8.12311930e-298,\n",
       "                    nan, 3.63255326e-292],\n",
       "       [8.90361439e-308, 5.00641618e-308,             nan,\n",
       "                    nan,             nan, 1.56575653e-293,\n",
       "                    nan, 9.17833271e-297,             nan,\n",
       "                    nan,             nan,             nan,\n",
       "                    nan,             nan,             nan,\n",
       "                    nan,             nan,             nan,\n",
       "        2.50521045e-291, 6.67522158e-308],\n",
       "       [            nan,             nan,             nan,\n",
       "                    nan,             nan,             nan,\n",
       "                    nan, 1.85986824e-289,             nan,\n",
       "                    nan,             nan, 6.60757933e-304,\n",
       "                    nan,             nan, 6.76615769e-301,\n",
       "                    nan,             nan,             nan,\n",
       "                    nan,             nan],\n",
       "       [            nan,             nan,             nan,\n",
       "                    nan,             nan, 4.92150736e-303,\n",
       "        4.97033753e-290,             nan,             nan,\n",
       "                    nan, 1.76581861e-304, 5.34017387e-307,\n",
       "        4.59708122e-287, 6.93056294e-289,             nan,\n",
       "                    nan, 2.62024698e-304,             nan,\n",
       "        6.85018482e-295, 1.00792414e-299],\n",
       "       [            nan,             nan,             nan,\n",
       "                    nan,             nan, 5.69618908e-304,\n",
       "                    nan, 3.69408312e-288,             nan,\n",
       "                    nan,             nan, 1.25260523e-291,\n",
       "                    nan,             nan,             nan,\n",
       "        1.78036438e-305, 6.87147238e-299,             nan,\n",
       "                    nan, 1.14679361e-297],\n",
       "       [            nan,             nan,             nan,\n",
       "                    nan, 1.24257124e-297,             nan,\n",
       "                    nan,             nan,             nan,\n",
       "        2.21650109e-301, 1.16208493e-295,             nan,\n",
       "                    nan,             nan, 2.38915486e-297,\n",
       "                    nan,             nan,             nan,\n",
       "                    nan,             nan],\n",
       "       [4.77830749e-299, 6.49850123e-297,             nan,\n",
       "        2.34863480e-294,             nan,             nan,\n",
       "                    nan,             nan,             nan,\n",
       "                    nan,             nan,             nan,\n",
       "                    nan,             nan,             nan,\n",
       "                    nan,             nan, 4.22754028e-293,\n",
       "        7.16746095e-298, 8.95933074e-300],\n",
       "       [7.29112202e-304,             nan,             nan,\n",
       "                    nan,             nan,             nan,\n",
       "                    nan, 2.48516877e-290,             nan,\n",
       "                    nan,             nan,             nan,\n",
       "                    nan, 9.68351285e-305, 5.54244931e-288,\n",
       "        6.06788678e-301,             nan,             nan,\n",
       "                    nan,             nan],\n",
       "       [            nan,             nan,             nan,\n",
       "        3.84527097e-305,             nan,             nan,\n",
       "        3.03310676e-301, 4.28136552e-296, 2.56881931e-295,\n",
       "                    nan,             nan,             nan,\n",
       "                    nan,             nan, 5.13067100e-290,\n",
       "        1.67717057e-302,             nan, 2.97493741e-293,\n",
       "                    nan, 2.58028725e-297],\n",
       "       [            nan,             nan,             nan,\n",
       "        1.50192485e-307,             nan,             nan,\n",
       "                    nan,             nan,             nan,\n",
       "                    nan,             nan, 2.44981700e-301,\n",
       "                    nan,             nan, 1.85167539e-305,\n",
       "                    nan,             nan,             nan,\n",
       "                    nan,             nan],\n",
       "       [            nan,             nan,             nan,\n",
       "                    nan,             nan, 2.33315905e-301,\n",
       "                    nan,             nan,             nan,\n",
       "        6.83764332e-305,             nan, 1.69101705e-292,\n",
       "                    nan, 1.51305022e-306,             nan,\n",
       "        3.41771345e-305,             nan,             nan,\n",
       "                    nan,             nan],\n",
       "       [            nan, 8.86579949e-287, 2.81401193e-295,\n",
       "                    nan,             nan,             nan,\n",
       "                    nan,             nan,             nan,\n",
       "                    nan,             nan,             nan,\n",
       "                    nan,             nan, 1.52316675e-290,\n",
       "                    nan, 1.94153810e-292,             nan,\n",
       "                    nan, 2.19205914e-293],\n",
       "       [            nan,             nan,             nan,\n",
       "                    nan,             nan,             nan,\n",
       "                    nan, 1.18502081e-296,             nan,\n",
       "                    nan,             nan,             nan,\n",
       "                    nan, 1.13548050e-293,             nan,\n",
       "                    nan,             nan,             nan,\n",
       "                    nan,             nan],\n",
       "       [            nan,             nan, 1.33107702e-293,\n",
       "                    nan,             nan,             nan,\n",
       "                    nan,             nan,             nan,\n",
       "                    nan,             nan,             nan,\n",
       "        1.49322179e-299,             nan, 3.18044295e-295,\n",
       "                    nan,             nan,             nan,\n",
       "                    nan,             nan],\n",
       "       [2.56488436e-305,             nan, 1.25316073e-304,\n",
       "        1.94118833e-299,             nan,             nan,\n",
       "                    nan,             nan, 2.39239941e-304,\n",
       "                    nan, 4.78479883e-304,             nan,\n",
       "                    nan,             nan,             nan,\n",
       "        1.49524963e-305, 5.26094194e-292, 2.55189271e-303,\n",
       "                    nan,             nan],\n",
       "       [            nan,             nan,             nan,\n",
       "                    nan,             nan,             nan,\n",
       "                    nan, 3.73305270e-301, 1.75841681e-296,\n",
       "                    nan,             nan,             nan,\n",
       "                    nan,             nan,             nan,\n",
       "                    nan,             nan,             nan,\n",
       "        2.83712140e-299,             nan],\n",
       "       [            nan, 1.23037684e-303,             nan,\n",
       "                    nan,             nan,             nan,\n",
       "        1.44495528e-286,             nan,             nan,\n",
       "                    nan,             nan,             nan,\n",
       "                    nan,             nan,             nan,\n",
       "        1.03976020e-295,             nan,             nan,\n",
       "                    nan, 1.72443224e-307],\n",
       "       [            nan, 4.50937881e-292, 5.59957889e-300,\n",
       "                    nan,             nan, 2.33315905e-302,\n",
       "        8.25947416e-305, 5.12657017e-305, 1.19457743e-297,\n",
       "                    nan, 1.45260501e-296,             nan,\n",
       "                    nan, 5.01042090e-292,             nan,\n",
       "        6.56725577e-288,             nan, 1.73164148e-303,\n",
       "                    nan,             nan],\n",
       "       [            nan,             nan,             nan,\n",
       "        2.56647495e-301,             nan,             nan,\n",
       "        1.45332945e-296,             nan,             nan,\n",
       "        4.77830973e-298,             nan,             nan,\n",
       "                    nan,             nan,             nan,\n",
       "        7.58413320e-295, 1.02136508e-302,             nan,\n",
       "                    nan,             nan],\n",
       "       [            nan, 2.77141964e-297,             nan,\n",
       "                    nan, 4.39604495e-297,             nan,\n",
       "                    nan,             nan,             nan,\n",
       "                    nan,             nan, 3.22535907e-298,\n",
       "                    nan, 7.82878266e-294, 6.89772896e-307,\n",
       "                    nan, 3.38307884e-301,             nan,\n",
       "        2.96247377e-304,             nan],\n",
       "       [            nan,             nan,             nan,\n",
       "                    nan,             nan,             nan,\n",
       "                    nan, 1.00208343e-291,             nan,\n",
       "        9.11390252e-304,             nan,             nan,\n",
       "                    nan,             nan,             nan,\n",
       "        3.49973857e-301,             nan,             nan,\n",
       "                    nan,             nan],\n",
       "       [            nan,             nan,             nan,\n",
       "                    nan,             nan, 2.83793371e-294,\n",
       "                    nan,             nan,             nan,\n",
       "        1.29016185e-297,             nan,             nan,\n",
       "        1.53920130e-288,             nan, 8.79208990e-297,\n",
       "        2.18733661e-302, 1.09366830e-303, 3.05811823e-295,\n",
       "                    nan,             nan],\n",
       "       [4.37467321e-303, 6.11623645e-297,             nan,\n",
       "        3.58427548e-298, 6.88710053e-297,             nan,\n",
       "                    nan, 1.07665099e-294,             nan,\n",
       "                    nan,             nan,             nan,\n",
       "                    nan,             nan,             nan,\n",
       "                    nan,             nan,             nan,\n",
       "                    nan,             nan],\n",
       "       [3.18116164e-288,             nan,             nan,\n",
       "        1.28323748e-301, 1.91195457e-298,             nan,\n",
       "                    nan,             nan,             nan,\n",
       "                    nan,             nan,             nan,\n",
       "                    nan,             nan,             nan,\n",
       "                    nan,             nan, 2.20205231e-295,\n",
       "                    nan,             nan],\n",
       "       [            nan,             nan, 3.38422543e-306,\n",
       "                    nan,             nan,             nan,\n",
       "                    nan,             nan,             nan,\n",
       "                    nan,             nan,             nan,\n",
       "        2.16517159e-299,             nan,             nan,\n",
       "                    nan,             nan,             nan,\n",
       "        3.43440787e-299,             nan],\n",
       "       [            nan, 8.62260243e-288,             nan,\n",
       "                    nan,             nan,             nan,\n",
       "        2.33632588e-307,             nan, 1.44655790e-300,\n",
       "                    nan,             nan,             nan,\n",
       "                    nan,             nan,             nan,\n",
       "                    nan,             nan,             nan,\n",
       "                    nan,             nan],\n",
       "       [            nan, 3.73365827e-300, 1.79186615e-299,\n",
       "        3.03365179e-294,             nan,             nan,\n",
       "                    nan,             nan,             nan,\n",
       "                    nan,             nan, 2.87317576e-288,\n",
       "        3.50729463e-292,             nan,             nan,\n",
       "                    nan,             nan,             nan,\n",
       "                    nan,             nan],\n",
       "       [5.83289762e-301,             nan, 5.28455041e-308,\n",
       "                    nan,             nan,             nan,\n",
       "                    nan,             nan,             nan,\n",
       "        2.84809319e-306,             nan,             nan,\n",
       "        2.46272208e-288,             nan,             nan,\n",
       "        2.48471960e-297,             nan,             nan,\n",
       "        4.45339441e-308,             nan],\n",
       "       [            nan,             nan,             nan,\n",
       "                    nan,             nan, 2.86698404e-298,\n",
       "                    nan,             nan, 1.22324729e-296,\n",
       "                    nan,             nan,             nan,\n",
       "                    nan,             nan,             nan,\n",
       "                    nan,             nan,             nan,\n",
       "                    nan,             nan],\n",
       "       [            nan, 3.18986588e-304,             nan,\n",
       "                    nan,             nan, 2.82254627e-289,\n",
       "                    nan,             nan,             nan,\n",
       "                    nan,             nan, 1.63765436e-305,\n",
       "                    nan,             nan,             nan,\n",
       "                    nan,             nan, 3.20900272e-291,\n",
       "                    nan,             nan],\n",
       "       [            nan,             nan,             nan,\n",
       "                    nan,             nan,             nan,\n",
       "        9.56959765e-304,             nan,             nan,\n",
       "                    nan,             nan, 7.23336164e-308,\n",
       "                    nan,             nan,             nan,\n",
       "        3.47798081e-308, 2.06486854e-305,             nan,\n",
       "                    nan,             nan],\n",
       "       [            nan,             nan,             nan,\n",
       "                    nan,             nan,             nan,\n",
       "                    nan, 4.06156327e-298, 5.84081888e-308,\n",
       "        8.66068638e-299,             nan, 2.66794737e-288,\n",
       "                    nan,             nan,             nan,\n",
       "                    nan,             nan, 5.83374136e-301,\n",
       "                    nan,             nan],\n",
       "       [5.01293495e-304,             nan,             nan,\n",
       "                    nan, 8.25691921e-296, 2.33410177e-300,\n",
       "                    nan,             nan, 1.27240641e-287,\n",
       "                    nan,             nan,             nan,\n",
       "                    nan, 2.55883494e-307,             nan,\n",
       "                    nan,             nan, 8.51770798e-292,\n",
       "                    nan,             nan],\n",
       "       [4.01127415e-303, 4.10537605e-287,             nan,\n",
       "                    nan,             nan,             nan,\n",
       "                    nan,             nan,             nan,\n",
       "                    nan,             nan,             nan,\n",
       "                    nan, 2.11442539e-302, 1.98777685e-296,\n",
       "                    nan,             nan,             nan,\n",
       "        1.91132273e-296, 1.02353397e-306],\n",
       "       [            nan,             nan,             nan,\n",
       "                    nan, 1.27941747e-307, 3.71867176e-294,\n",
       "                    nan,             nan,             nan,\n",
       "        9.01875762e-292, 1.22324729e-294,             nan,\n",
       "        9.52252538e-287, 1.23949074e-302,             nan,\n",
       "                    nan,             nan,             nan,\n",
       "                    nan, 1.60424234e-290],\n",
       "       [3.46402001e-303, 1.13012391e-302, 1.02613358e-287,\n",
       "                    nan,             nan, 1.69105479e-306,\n",
       "                    nan,             nan, 9.56299919e-298,\n",
       "        1.28350812e-290,             nan,             nan,\n",
       "                    nan,             nan,             nan,\n",
       "                    nan,             nan, 3.22585851e-298,\n",
       "        2.67585345e-297,             nan],\n",
       "       [            nan,             nan, 4.98416544e-306,\n",
       "                    nan,             nan,             nan,\n",
       "        7.21500610e-291,             nan, 1.41303176e-303,\n",
       "                    nan,             nan,             nan,\n",
       "                    nan, 7.82983391e-294,             nan,\n",
       "        3.43551518e-299,             nan,             nan,\n",
       "                    nan,             nan]])"
      ]
     },
     "execution_count": 156,
     "metadata": {},
     "output_type": "execute_result"
    }
   ],
   "source": [
    "a1"
   ]
  },
  {
   "cell_type": "code",
   "execution_count": 157,
   "id": "42f0c49f-42c8-4df5-a2b0-e0ab3687cd70",
   "metadata": {},
   "outputs": [
    {
     "data": {
      "text/plain": [
       "array([[0.00000000e+000, 0.00000000e+000, 0.00000000e+000,\n",
       "        6.95234077e-310, 0.00000000e+000, 6.98534368e-312],\n",
       "       [3.95252517e-322, 0.00000000e+000, 6.95234058e-310,\n",
       "        0.00000000e+000, 0.00000000e+000, 0.00000000e+000],\n",
       "       [6.98538568e-312, 6.95234066e-310, 6.98538568e-312,\n",
       "        6.98538568e-312, 6.98538568e-312, 6.95234056e-310],\n",
       "       [0.00000000e+000, 6.95234063e-310, 6.95234055e-310,\n",
       "        6.95234056e-310, 6.98538568e-312, 5.30509825e-315],\n",
       "       [0.00000000e+000, 6.95234055e-310, 6.95234057e-310,\n",
       "        6.95234057e-310, 3.55727265e-322, 0.00000000e+000],\n",
       "       [6.95234066e-310, 0.00000000e+000, 6.98538568e-312,\n",
       "        6.95234080e-310, 6.95234077e-310, 6.98742741e-312],\n",
       "       [0.00000000e+000, 0.00000000e+000, 7.90505033e-323,\n",
       "        6.95234061e-310, 6.95234055e-310, 6.95234056e-310],\n",
       "       [6.95234055e-310, 0.00000000e+000, 6.98748271e-312,\n",
       "        0.00000000e+000, 0.00000000e+000, 0.00000000e+000],\n",
       "       [0.00000000e+000, 0.00000000e+000, 0.00000000e+000,\n",
       "        0.00000000e+000, 0.00000000e+000, 0.00000000e+000],\n",
       "       [0.00000000e+000, 0.00000000e+000, 0.00000000e+000,\n",
       "        0.00000000e+000, 0.00000000e+000, 0.00000000e+000],\n",
       "       [0.00000000e+000, 0.00000000e+000, 0.00000000e+000,\n",
       "        0.00000000e+000, 0.00000000e+000, 0.00000000e+000],\n",
       "       [0.00000000e+000, 0.00000000e+000, 0.00000000e+000,\n",
       "        0.00000000e+000, 0.00000000e+000, 0.00000000e+000],\n",
       "       [0.00000000e+000, 0.00000000e+000, 0.00000000e+000,\n",
       "        0.00000000e+000, 0.00000000e+000, 0.00000000e+000],\n",
       "       [0.00000000e+000, 0.00000000e+000, 0.00000000e+000,\n",
       "        0.00000000e+000, 0.00000000e+000, 0.00000000e+000],\n",
       "       [0.00000000e+000, 0.00000000e+000, 0.00000000e+000,\n",
       "        0.00000000e+000, 0.00000000e+000, 0.00000000e+000],\n",
       "       [0.00000000e+000, 0.00000000e+000, 0.00000000e+000,\n",
       "        0.00000000e+000, 0.00000000e+000, 0.00000000e+000],\n",
       "       [0.00000000e+000, 0.00000000e+000, 0.00000000e+000,\n",
       "        0.00000000e+000, 0.00000000e+000, 0.00000000e+000],\n",
       "       [0.00000000e+000, 0.00000000e+000, 0.00000000e+000,\n",
       "        0.00000000e+000, 0.00000000e+000, 0.00000000e+000],\n",
       "       [6.98534368e-312, 0.00000000e+000, 6.98534269e-312,\n",
       "        0.00000000e+000, 0.00000000e+000, 0.00000000e+000],\n",
       "       [0.00000000e+000, 0.00000000e+000, 0.00000000e+000,\n",
       "        0.00000000e+000, 0.00000000e+000, 0.00000000e+000]])"
      ]
     },
     "execution_count": 157,
     "metadata": {},
     "output_type": "execute_result"
    }
   ],
   "source": [
    "a2"
   ]
  },
  {
   "cell_type": "code",
   "execution_count": 158,
   "id": "a4d19739-cddf-4d86-ac20-a6cd057bd4ea",
   "metadata": {},
   "outputs": [
    {
     "data": {
      "text/plain": [
       "240"
      ]
     },
     "execution_count": 158,
     "metadata": {},
     "output_type": "execute_result"
    }
   ],
   "source": [
    "result = np.dot(a1,a2)\n",
    "result.size"
   ]
  },
  {
   "cell_type": "code",
   "execution_count": 146,
   "id": "fb69897c-9b04-43d9-8822-aea6f36d3963",
   "metadata": {},
   "outputs": [
    {
     "data": {
      "text/plain": [
       "<bound method BaseContext.RawArray of <multiprocessing.context.DefaultContext object at 0x00000149496B1DD0>>"
      ]
     },
     "execution_count": 146,
     "metadata": {},
     "output_type": "execute_result"
    }
   ],
   "source": [
    "mp.RawArray"
   ]
  },
  {
   "cell_type": "code",
   "execution_count": 11,
   "id": "c8e2e684",
   "metadata": {},
   "outputs": [
    {
     "name": "stdout",
     "output_type": "stream",
     "text": [
      "Machine parameters for int32\n",
      "---------------------------------------------------------------\n",
      "min = -2147483648\n",
      "max = 2147483647\n",
      "---------------------------------------------------------------\n",
      "\n",
      "Machine parameters for int8\n",
      "---------------------------------------------------------------\n",
      "min = -128\n",
      "max = 127\n",
      "---------------------------------------------------------------\n",
      "\n",
      "Machine parameters for int16\n",
      "---------------------------------------------------------------\n",
      "min = -32768\n",
      "max = 32767\n",
      "---------------------------------------------------------------\n",
      "\n",
      "Machine parameters for int32\n",
      "---------------------------------------------------------------\n",
      "min = -2147483648\n",
      "max = 2147483647\n",
      "---------------------------------------------------------------\n",
      "\n",
      "Machine parameters for int64\n",
      "---------------------------------------------------------------\n",
      "min = -9223372036854775808\n",
      "max = 9223372036854775807\n",
      "---------------------------------------------------------------\n",
      "\n"
     ]
    }
   ],
   "source": [
    "tipos = [int, np.int8, np.int16, np.int32, np.int64]\n",
    "for k in tipos:\n",
    "    print(np.iinfo(k))"
   ]
  },
  {
   "cell_type": "code",
   "execution_count": 12,
   "id": "cf5cad1e",
   "metadata": {},
   "outputs": [
    {
     "ename": "AttributeError",
     "evalue": "module 'numpy' has no attribute 'float128'",
     "output_type": "error",
     "traceback": [
      "\u001b[1;31m---------------------------------------------------------------------------\u001b[0m",
      "\u001b[1;31mAttributeError\u001b[0m                            Traceback (most recent call last)",
      "Cell \u001b[1;32mIn[12], line 1\u001b[0m\n\u001b[1;32m----> 1\u001b[0m tipos_float \u001b[38;5;241m=\u001b[39m [\u001b[38;5;28mfloat\u001b[39m, np\u001b[38;5;241m.\u001b[39mfloat16, np\u001b[38;5;241m.\u001b[39mfloat32, np\u001b[38;5;241m.\u001b[39mfloat64, \u001b[43mnp\u001b[49m\u001b[38;5;241;43m.\u001b[39;49m\u001b[43mfloat128\u001b[49m]\n\u001b[0;32m      2\u001b[0m \u001b[38;5;28;01mfor\u001b[39;00m s \u001b[38;5;129;01min\u001b[39;00m tipos_float:\n\u001b[0;32m      3\u001b[0m     \u001b[38;5;28mprint\u001b[39m(np\u001b[38;5;241m.\u001b[39mfinfo(s))\n",
      "File \u001b[1;32m~\\AppData\\Roaming\\Python\\Python311\\site-packages\\numpy\\__init__.py:347\u001b[0m, in \u001b[0;36m__getattr__\u001b[1;34m(attr)\u001b[0m\n\u001b[0;32m    344\u001b[0m     \u001b[38;5;124m\"\u001b[39m\u001b[38;5;124mRemoved in NumPy 1.25.0\u001b[39m\u001b[38;5;124m\"\u001b[39m\n\u001b[0;32m    345\u001b[0m     \u001b[38;5;28;01mraise\u001b[39;00m \u001b[38;5;167;01mRuntimeError\u001b[39;00m(\u001b[38;5;124m\"\u001b[39m\u001b[38;5;124mTester was removed in NumPy 1.25.\u001b[39m\u001b[38;5;124m\"\u001b[39m)\n\u001b[1;32m--> 347\u001b[0m \u001b[38;5;28;01mraise\u001b[39;00m \u001b[38;5;167;01mAttributeError\u001b[39;00m(\u001b[38;5;124m\"\u001b[39m\u001b[38;5;124mmodule \u001b[39m\u001b[38;5;132;01m{!r}\u001b[39;00m\u001b[38;5;124m has no attribute \u001b[39m\u001b[38;5;124m\"\u001b[39m\n\u001b[0;32m    348\u001b[0m                      \u001b[38;5;124m\"\u001b[39m\u001b[38;5;132;01m{!r}\u001b[39;00m\u001b[38;5;124m\"\u001b[39m\u001b[38;5;241m.\u001b[39mformat(\u001b[38;5;18m__name__\u001b[39m, attr))\n",
      "\u001b[1;31mAttributeError\u001b[0m: module 'numpy' has no attribute 'float128'"
     ]
    }
   ],
   "source": [
    "tipos_float = [float, np.float16, np.float32, np.float64, np.float128]\n",
    "for s in tipos_float:\n",
    "    print(np.finfo(s))"
   ]
  },
  {
   "cell_type": "code",
   "execution_count": 13,
   "id": "aa95806f",
   "metadata": {},
   "outputs": [
    {
     "ename": "AttributeError",
     "evalue": "module 'numpy' has no attribute 'complex256'",
     "output_type": "error",
     "traceback": [
      "\u001b[1;31m---------------------------------------------------------------------------\u001b[0m",
      "\u001b[1;31mAttributeError\u001b[0m                            Traceback (most recent call last)",
      "Cell \u001b[1;32mIn[13], line 1\u001b[0m\n\u001b[1;32m----> 1\u001b[0m tipos_complex \u001b[38;5;241m=\u001b[39m [\u001b[38;5;28mcomplex\u001b[39m, np\u001b[38;5;241m.\u001b[39mcomplex64, np\u001b[38;5;241m.\u001b[39mcomplex128, \u001b[43mnp\u001b[49m\u001b[38;5;241;43m.\u001b[39;49m\u001b[43mcomplex256\u001b[49m]\n\u001b[0;32m      2\u001b[0m \u001b[38;5;28;01mfor\u001b[39;00m s \u001b[38;5;129;01min\u001b[39;00m tipos_complex:\n\u001b[0;32m      3\u001b[0m     \u001b[38;5;28mprint\u001b[39m(np\u001b[38;5;241m.\u001b[39mfinfo(s))\n",
      "File \u001b[1;32m~\\AppData\\Roaming\\Python\\Python311\\site-packages\\numpy\\__init__.py:347\u001b[0m, in \u001b[0;36m__getattr__\u001b[1;34m(attr)\u001b[0m\n\u001b[0;32m    344\u001b[0m     \u001b[38;5;124m\"\u001b[39m\u001b[38;5;124mRemoved in NumPy 1.25.0\u001b[39m\u001b[38;5;124m\"\u001b[39m\n\u001b[0;32m    345\u001b[0m     \u001b[38;5;28;01mraise\u001b[39;00m \u001b[38;5;167;01mRuntimeError\u001b[39;00m(\u001b[38;5;124m\"\u001b[39m\u001b[38;5;124mTester was removed in NumPy 1.25.\u001b[39m\u001b[38;5;124m\"\u001b[39m)\n\u001b[1;32m--> 347\u001b[0m \u001b[38;5;28;01mraise\u001b[39;00m \u001b[38;5;167;01mAttributeError\u001b[39;00m(\u001b[38;5;124m\"\u001b[39m\u001b[38;5;124mmodule \u001b[39m\u001b[38;5;132;01m{!r}\u001b[39;00m\u001b[38;5;124m has no attribute \u001b[39m\u001b[38;5;124m\"\u001b[39m\n\u001b[0;32m    348\u001b[0m                      \u001b[38;5;124m\"\u001b[39m\u001b[38;5;132;01m{!r}\u001b[39;00m\u001b[38;5;124m\"\u001b[39m\u001b[38;5;241m.\u001b[39mformat(\u001b[38;5;18m__name__\u001b[39m, attr))\n",
      "\u001b[1;31mAttributeError\u001b[0m: module 'numpy' has no attribute 'complex256'"
     ]
    }
   ],
   "source": [
    "tipos_complex = [complex, np.complex64, np.complex128, np.complex256]\n",
    "for s in tipos_complex:\n",
    "    print(np.finfo(s))"
   ]
  },
  {
   "cell_type": "markdown",
   "id": "2f6ca087",
   "metadata": {},
   "source": [
    "### Atributos de un array\n",
    "\n",
    "Existen varios atributos y funciones que describen las características de un array.\n",
    "\n",
    "**a.ndim** : Devuelve el número de dimensiones del array a.\n",
    "\n",
    "**a.shape**: Devuelve una tupla con las dimensiones del array a.\n",
    "\n",
    "**a.size** : Devuelve el número de elementos del array a.\n",
    "\n",
    "**a.dtype**: Devuelve el tipo de datos de los elementos del array a."
   ]
  },
  {
   "cell_type": "code",
   "execution_count": 14,
   "id": "f7ab500b",
   "metadata": {},
   "outputs": [
    {
     "name": "stdout",
     "output_type": "stream",
     "text": [
      "0\n",
      "1\n",
      "2\n",
      "3\n"
     ]
    }
   ],
   "source": [
    "print(array_0.ndim)\n",
    "print(array_1.ndim)\n",
    "print(array_2.ndim)\n",
    "print(array_3.ndim)"
   ]
  },
  {
   "cell_type": "code",
   "execution_count": 15,
   "id": "02ca13ae",
   "metadata": {},
   "outputs": [
    {
     "name": "stdout",
     "output_type": "stream",
     "text": [
      "()\n",
      "(6,)\n",
      "(2, 6)\n",
      "(2, 2, 6)\n"
     ]
    }
   ],
   "source": [
    "print(array_0.shape)\n",
    "print(array_1.shape)\n",
    "print(array_2.shape)\n",
    "print(array_3.shape)"
   ]
  },
  {
   "cell_type": "code",
   "execution_count": 16,
   "id": "d60348ed",
   "metadata": {},
   "outputs": [
    {
     "name": "stdout",
     "output_type": "stream",
     "text": [
      "1\n",
      "6\n",
      "12\n",
      "24\n"
     ]
    }
   ],
   "source": [
    "print(array_0.size)\n",
    "print(array_1.size)\n",
    "print(array_2.size)\n",
    "print(array_3.size)"
   ]
  },
  {
   "cell_type": "code",
   "execution_count": 17,
   "id": "37b20f3b",
   "metadata": {},
   "outputs": [
    {
     "name": "stdout",
     "output_type": "stream",
     "text": [
      "int32\n",
      "int32\n",
      "int32\n",
      "int32\n"
     ]
    }
   ],
   "source": [
    "print(array_0.dtype)\n",
    "print(array_1.dtype)\n",
    "print(array_2.dtype)\n",
    "print(array_3.dtype)"
   ]
  },
  {
   "cell_type": "markdown",
   "id": "a8a0f927",
   "metadata": {},
   "source": [
    "- Reshape: Da una nueva forma a un array sin cambiar sus datos\n",
    "\n",
    "\n",
    "Como apunte importante, cuando usamos el método reshape el\n",
    "número total de elementos en el array tras aplicar la\n",
    "transformación debe ser el mismo. De esta forma, se nos permite\n",
    "transformar un array con 4 filas y 5 columnas en uno con 10 filas y\n",
    "2 columnas pero no en uno con 5 filas y 5 columnas.\n",
    "\n",
    "\n",
    "https://numpy.org/doc/stable/reference/generated/numpy.reshape.html"
   ]
  },
  {
   "cell_type": "code",
   "execution_count": 18,
   "id": "60613cca",
   "metadata": {},
   "outputs": [
    {
     "data": {
      "text/plain": [
       "array([[[  1,   2,   3,   5,   7,  11],\n",
       "        [  1,   4,   9,  25,  49, 121]],\n",
       "\n",
       "       [[  1,   2,   3,   5,   7,  11],\n",
       "        [  1,   4,   9,  25,  49, 121]]])"
      ]
     },
     "execution_count": 18,
     "metadata": {},
     "output_type": "execute_result"
    }
   ],
   "source": [
    "array_3"
   ]
  },
  {
   "cell_type": "code",
   "execution_count": 19,
   "id": "2b5b2817",
   "metadata": {},
   "outputs": [
    {
     "data": {
      "text/plain": [
       "(2, 2, 6)"
      ]
     },
     "execution_count": 19,
     "metadata": {},
     "output_type": "execute_result"
    }
   ],
   "source": [
    "array_3.shape"
   ]
  },
  {
   "cell_type": "code",
   "execution_count": 20,
   "id": "893319d1",
   "metadata": {},
   "outputs": [
    {
     "data": {
      "text/plain": [
       "array([[  1,   2,   3,   5],\n",
       "       [  7,  11,   1,   4],\n",
       "       [  9,  25,  49, 121],\n",
       "       [  1,   2,   3,   5],\n",
       "       [  7,  11,   1,   4],\n",
       "       [  9,  25,  49, 121]])"
      ]
     },
     "execution_count": 20,
     "metadata": {},
     "output_type": "execute_result"
    }
   ],
   "source": [
    "array_3.reshape(6,4)"
   ]
  },
  {
   "cell_type": "code",
   "execution_count": 21,
   "id": "9ef4b832",
   "metadata": {},
   "outputs": [
    {
     "data": {
      "text/plain": [
       "array([[  1],\n",
       "       [  2],\n",
       "       [  3],\n",
       "       [  5],\n",
       "       [  7],\n",
       "       [ 11],\n",
       "       [  1],\n",
       "       [  4],\n",
       "       [  9],\n",
       "       [ 25],\n",
       "       [ 49],\n",
       "       [121],\n",
       "       [  1],\n",
       "       [  2],\n",
       "       [  3],\n",
       "       [  5],\n",
       "       [  7],\n",
       "       [ 11],\n",
       "       [  1],\n",
       "       [  4],\n",
       "       [  9],\n",
       "       [ 25],\n",
       "       [ 49],\n",
       "       [121]])"
      ]
     },
     "execution_count": 21,
     "metadata": {},
     "output_type": "execute_result"
    }
   ],
   "source": [
    "array_3.reshape(24,1)"
   ]
  },
  {
   "cell_type": "markdown",
   "id": "72dfd630",
   "metadata": {},
   "source": [
    "**np.empty(dimensiones)**: Crea y devuelve una referencia a un array vacío con las dimensiones especificadas en la tupla dimensiones.\n",
    "\n",
    "**np.zeros(dimensiones)** : Crea y devuelve una referencia a un array con las dimensiones especificadas en la tupla dimensiones cuyos elementos son todos ceros.\n",
    "\n",
    "**np.ones(dimensiones)** : Crea y devuelve una referencia a un array con las dimensiones especificadas en la tupla dimensiones cuyos elementos son todos unos.\n",
    "\n",
    "**np.full(dimensiones, valor)** : Crea y devuelve una referencia a un array con las dimensiones especificadas en la tupla dimensiones cuyos elementos son todos valor.\n",
    "\n",
    "**np.identity(n)** : Crea y devuelve una referencia a la matriz identidad de dimensión n.\n",
    "\n",
    "**np.arange(inicio, fin, salto)** : Crea y devuelve una referencia a un array de una dimensión cuyos elementos son la secuencia desde inicio hasta fin tomando valores cada salto.\n",
    "\n",
    "**np.linspace(inicio, fin, n)** : Crea y devuelve una referencia a un array de una dimensión cuyos elementos son la secuencia de n valores equidistantes desde inicio hasta fin.\n",
    "\n",
    "**np.random.randn(dimensiones)** : Crea y devuelve una referencia a un array con las dimensiones especificadas en la tupla dimensiones cuyos elementos son aleatorios."
   ]
  },
  {
   "cell_type": "markdown",
   "id": "a6c28af4",
   "metadata": {},
   "source": [
    "### Indexacion\n",
    "\n",
    "##### Introducción: Acceso a los elementos de un array\n",
    "\n",
    "Al igual que para listas, **los índices de cada dimensión comienzan en 0**.\n",
    "\n",
    "También es posible obtener **subarrays** con el operador dos puntos : indicando el índice inicial y el siguiente al final para cada dimensión, de nuevo separados por comas."
   ]
  },
  {
   "cell_type": "code",
   "execution_count": 22,
   "id": "c384a738",
   "metadata": {},
   "outputs": [
    {
     "data": {
      "text/plain": [
       "array([[[  1,   2,   3,   5,   7,  11],\n",
       "        [  1,   4,   9,  25,  49, 121]],\n",
       "\n",
       "       [[  1,   2,   3,   5,   7,  11],\n",
       "        [  1,   4,   9,  25,  49, 121]]])"
      ]
     },
     "execution_count": 22,
     "metadata": {},
     "output_type": "execute_result"
    }
   ],
   "source": [
    "array_3"
   ]
  },
  {
   "cell_type": "code",
   "execution_count": 23,
   "id": "4d91e01f",
   "metadata": {},
   "outputs": [
    {
     "data": {
      "text/plain": [
       "(2, 2, 6)"
      ]
     },
     "execution_count": 23,
     "metadata": {},
     "output_type": "execute_result"
    }
   ],
   "source": [
    "array_3.shape"
   ]
  },
  {
   "cell_type": "code",
   "execution_count": 24,
   "id": "f6e2b9ed",
   "metadata": {},
   "outputs": [
    {
     "data": {
      "text/plain": [
       "array([[  1,   2,   3,   5,   7,  11],\n",
       "       [  1,   4,   9,  25,  49, 121]])"
      ]
     },
     "execution_count": 24,
     "metadata": {},
     "output_type": "execute_result"
    }
   ],
   "source": [
    "array_3[0] # bloque 1"
   ]
  },
  {
   "cell_type": "code",
   "execution_count": 25,
   "id": "ca33081c",
   "metadata": {},
   "outputs": [
    {
     "data": {
      "text/plain": [
       "array([  1,   4,   9,  25,  49, 121])"
      ]
     },
     "execution_count": 25,
     "metadata": {},
     "output_type": "execute_result"
    }
   ],
   "source": [
    "array_3[0,1]  # bloque 1 segunda lista"
   ]
  },
  {
   "cell_type": "code",
   "execution_count": 26,
   "id": "cf3a25b0",
   "metadata": {},
   "outputs": [
    {
     "data": {
      "text/plain": [
       "9"
      ]
     },
     "execution_count": 26,
     "metadata": {},
     "output_type": "execute_result"
    }
   ],
   "source": [
    "array_3[0,1,2] ## bloque 1, segunda lista, tercer elemento"
   ]
  },
  {
   "cell_type": "code",
   "execution_count": 27,
   "id": "75a808ad",
   "metadata": {},
   "outputs": [
    {
     "data": {
      "text/plain": [
       "9"
      ]
     },
     "execution_count": 27,
     "metadata": {},
     "output_type": "execute_result"
    }
   ],
   "source": [
    "# otra forma de acceder\n",
    "array_3[0][1][2]"
   ]
  },
  {
   "cell_type": "code",
   "execution_count": 34,
   "id": "ab4664ed",
   "metadata": {},
   "outputs": [
    {
     "name": "stdout",
     "output_type": "stream",
     "text": [
      "[[[ 1  2  3  5  7 11]]\n",
      "\n",
      " [[ 1  2  3  5  7 11]]]\n"
     ]
    }
   ],
   "source": [
    "## subarray\n",
    "print(array_3[:, 0:1])"
   ]
  },
  {
   "cell_type": "markdown",
   "id": "c0337112",
   "metadata": {},
   "source": [
    "**Una diferencia importante respecto a las listas en Python, es que\n",
    "la seleccion de elementos es una vista del array original. Es decir,\n",
    "el subconjunto no es copiado, por lo que cualquier modificacion\n",
    "afecta al array original.**\n",
    "\n",
    "*Esta forma de trabajar es debido a que NumPy esta ideado para tratar conjuntos de datos de gran volumen. En caso de que queramos copiar una seleccion, podemos usar el metodo `copy()`.* \n",
    "\n",
    "\n",
    "- Otro tipo de indexacion que es muy util es la indexacion por medio\n",
    "de booleanos. Veamos un ejemplo:\n",
    "\n",
    "**a[condicion]** : Devuelve una lista con los elementos del array a que cumplen la condición condicion.\n"
   ]
  },
  {
   "cell_type": "code",
   "execution_count": 35,
   "id": "22624ae0",
   "metadata": {},
   "outputs": [
    {
     "data": {
      "text/plain": [
       "array(['Pepe', 'Jose', 'Maria', 'Pepe', 'Maria', 'Jose', 'Jose'],\n",
       "      dtype='<U5')"
      ]
     },
     "execution_count": 35,
     "metadata": {},
     "output_type": "execute_result"
    }
   ],
   "source": [
    "names = np.array([\"Pepe\", \"Jose\", \"Maria\", \"Pepe\", \"Maria\", \"Jose\", \"Jose\"])\n",
    "names"
   ]
  },
  {
   "cell_type": "code",
   "execution_count": 36,
   "id": "6d4845ec",
   "metadata": {},
   "outputs": [
    {
     "data": {
      "text/plain": [
       "array([[ 0.14081332, -0.65175639,  1.3323972 ,  0.02144229],\n",
       "       [ 1.15624765,  2.25361695, -0.44259119, -0.3252458 ],\n",
       "       [-0.43419779, -0.28365025,  0.7046103 , -0.77686772],\n",
       "       [ 0.85314988,  0.29093771, -1.09842223, -0.22173098],\n",
       "       [ 0.28205415,  1.51737794,  1.3886767 , -1.03536746],\n",
       "       [-0.5409784 , -0.24072195, -1.61913821, -1.47369829],\n",
       "       [-1.60794705,  0.30132463, -0.37706485, -0.21648181]])"
      ]
     },
     "execution_count": 36,
     "metadata": {},
     "output_type": "execute_result"
    }
   ],
   "source": [
    "data = np.random.randn(7, 4)\n",
    "data"
   ]
  },
  {
   "cell_type": "code",
   "execution_count": 37,
   "id": "1775dbd1",
   "metadata": {},
   "outputs": [
    {
     "data": {
      "text/plain": [
       "array([[ 1.14081332,  0.34824361,  2.3323972 ,  1.02144229],\n",
       "       [ 2.15624765,  3.25361695,  0.55740881,  0.6747542 ],\n",
       "       [ 0.56580221,  0.71634975,  1.7046103 ,  0.22313228],\n",
       "       [ 1.85314988,  1.29093771, -0.09842223,  0.77826902],\n",
       "       [ 1.28205415,  2.51737794,  2.3886767 , -0.03536746],\n",
       "       [ 0.4590216 ,  0.75927805, -0.61913821, -0.47369829],\n",
       "       [-0.60794705,  1.30132463,  0.62293515,  0.78351819]])"
      ]
     },
     "execution_count": 37,
     "metadata": {},
     "output_type": "execute_result"
    }
   ],
   "source": [
    "data + 1"
   ]
  },
  {
   "cell_type": "code",
   "execution_count": 38,
   "id": "ebd5fd6b",
   "metadata": {},
   "outputs": [
    {
     "data": {
      "text/plain": [
       "['Pepe', 'Jose', 'Maria', 'Pepe', 'Maria', 'Jose', 'Jose']"
      ]
     },
     "execution_count": 38,
     "metadata": {},
     "output_type": "execute_result"
    }
   ],
   "source": [
    "lista = [\"Pepe\", \"Jose\", \"Maria\", \"Pepe\", \"Maria\", \"Jose\", \"Jose\"];lista"
   ]
  },
  {
   "cell_type": "code",
   "execution_count": 39,
   "id": "0badc1f8",
   "metadata": {},
   "outputs": [
    {
     "data": {
      "text/plain": [
       "False"
      ]
     },
     "execution_count": 39,
     "metadata": {},
     "output_type": "execute_result"
    }
   ],
   "source": [
    "lista == 'Pepe'"
   ]
  },
  {
   "cell_type": "code",
   "execution_count": 40,
   "id": "df08a1cf",
   "metadata": {},
   "outputs": [],
   "source": [
    "filtro = names == 'Pepe'"
   ]
  },
  {
   "cell_type": "code",
   "execution_count": 41,
   "id": "69e21eb4",
   "metadata": {},
   "outputs": [
    {
     "data": {
      "text/plain": [
       "array([ True, False, False,  True, False, False, False])"
      ]
     },
     "execution_count": 41,
     "metadata": {},
     "output_type": "execute_result"
    }
   ],
   "source": [
    "filtro"
   ]
  },
  {
   "cell_type": "code",
   "execution_count": 42,
   "id": "131495f3",
   "metadata": {},
   "outputs": [],
   "source": [
    "data[filtro] = data[filtro] + 1"
   ]
  },
  {
   "cell_type": "code",
   "execution_count": 43,
   "id": "7c92d82d",
   "metadata": {},
   "outputs": [
    {
     "data": {
      "text/plain": [
       "array([[ 1.14081332,  0.34824361,  2.3323972 ,  1.02144229],\n",
       "       [ 1.15624765,  2.25361695, -0.44259119, -0.3252458 ],\n",
       "       [-0.43419779, -0.28365025,  0.7046103 , -0.77686772],\n",
       "       [ 1.85314988,  1.29093771, -0.09842223,  0.77826902],\n",
       "       [ 0.28205415,  1.51737794,  1.3886767 , -1.03536746],\n",
       "       [-0.5409784 , -0.24072195, -1.61913821, -1.47369829],\n",
       "       [-1.60794705,  0.30132463, -0.37706485, -0.21648181]])"
      ]
     },
     "execution_count": 43,
     "metadata": {},
     "output_type": "execute_result"
    }
   ],
   "source": [
    "data"
   ]
  },
  {
   "cell_type": "markdown",
   "id": "b11369b9",
   "metadata": {},
   "source": [
    "Como vemos, podemos filtrar los resultados dependiendo de si se\n",
    "cumple o no la condicion que queramos. Una condicion\n",
    "indispensable es que el array de booleanos debe tener el mismo\n",
    "tamaño que el array de datos.\n",
    "\n",
    "Ademas, podemos unir nuestro filtrado con booleanos con el otro\n",
    "tipo de indexacion visto previamente"
   ]
  },
  {
   "cell_type": "code",
   "execution_count": 44,
   "id": "56d8686e",
   "metadata": {},
   "outputs": [
    {
     "data": {
      "text/plain": [
       "array([[ 1.14081332,  0.34824361,  2.3323972 ,  1.02144229],\n",
       "       [ 1.15624765,  2.25361695, -0.44259119, -0.3252458 ],\n",
       "       [-0.43419779, -0.28365025,  0.7046103 , -0.77686772],\n",
       "       [ 1.85314988,  1.29093771, -0.09842223,  0.77826902],\n",
       "       [ 0.28205415,  1.51737794,  1.3886767 , -1.03536746],\n",
       "       [-0.5409784 , -0.24072195, -1.61913821, -1.47369829],\n",
       "       [-1.60794705,  0.30132463, -0.37706485, -0.21648181]])"
      ]
     },
     "execution_count": 44,
     "metadata": {},
     "output_type": "execute_result"
    }
   ],
   "source": [
    "data"
   ]
  },
  {
   "cell_type": "code",
   "execution_count": 45,
   "id": "7c5ee984",
   "metadata": {},
   "outputs": [],
   "source": [
    "filtro2 = data > 0"
   ]
  },
  {
   "cell_type": "code",
   "execution_count": 46,
   "id": "ae5fa0e3",
   "metadata": {},
   "outputs": [
    {
     "data": {
      "text/plain": [
       "array([[ True,  True,  True,  True],\n",
       "       [ True,  True, False, False],\n",
       "       [False, False,  True, False],\n",
       "       [ True,  True, False,  True],\n",
       "       [ True,  True,  True, False],\n",
       "       [False, False, False, False],\n",
       "       [False,  True, False, False]])"
      ]
     },
     "execution_count": 46,
     "metadata": {},
     "output_type": "execute_result"
    }
   ],
   "source": [
    "filtro2"
   ]
  },
  {
   "cell_type": "code",
   "execution_count": 47,
   "id": "c7ae591f",
   "metadata": {},
   "outputs": [
    {
     "data": {
      "text/plain": [
       "array([1.14081332, 0.34824361, 2.3323972 , 1.02144229, 1.15624765,\n",
       "       2.25361695, 0.7046103 , 1.85314988, 1.29093771, 0.77826902,\n",
       "       0.28205415, 1.51737794, 1.3886767 , 0.30132463])"
      ]
     },
     "execution_count": 47,
     "metadata": {},
     "output_type": "execute_result"
    }
   ],
   "source": [
    "data[filtro2]"
   ]
  },
  {
   "cell_type": "code",
   "execution_count": null,
   "id": "b1f38cdd",
   "metadata": {},
   "outputs": [],
   "source": []
  },
  {
   "cell_type": "code",
   "execution_count": 48,
   "id": "18d352fe",
   "metadata": {},
   "outputs": [
    {
     "data": {
      "text/plain": [
       "array([False, False, False, False, False, False, False])"
      ]
     },
     "execution_count": 48,
     "metadata": {},
     "output_type": "execute_result"
    }
   ],
   "source": [
    "filtro3 = (names == \"Bob\") | (names == \"Will\")\n",
    "filtro3"
   ]
  },
  {
   "cell_type": "code",
   "execution_count": 49,
   "id": "cb0bda85",
   "metadata": {},
   "outputs": [
    {
     "data": {
      "text/plain": [
       "array([[ 1.14081332,  0.34824361,  2.3323972 ,  1.02144229],\n",
       "       [ 1.15624765,  2.25361695, -0.44259119, -0.3252458 ],\n",
       "       [-0.43419779, -0.28365025,  0.7046103 , -0.77686772],\n",
       "       [ 1.85314988,  1.29093771, -0.09842223,  0.77826902],\n",
       "       [ 0.28205415,  1.51737794,  1.3886767 , -1.03536746],\n",
       "       [-0.5409784 , -0.24072195, -1.61913821, -1.47369829],\n",
       "       [-1.60794705,  0.30132463, -0.37706485, -0.21648181]])"
      ]
     },
     "execution_count": 49,
     "metadata": {},
     "output_type": "execute_result"
    }
   ],
   "source": [
    "data"
   ]
  },
  {
   "cell_type": "code",
   "execution_count": 50,
   "id": "9706a46f",
   "metadata": {},
   "outputs": [
    {
     "data": {
      "text/plain": [
       "array([], shape=(0, 4), dtype=float64)"
      ]
     },
     "execution_count": 50,
     "metadata": {},
     "output_type": "execute_result"
    }
   ],
   "source": [
    "data[filtro3]"
   ]
  },
  {
   "cell_type": "code",
   "execution_count": 51,
   "id": "e477aa0a",
   "metadata": {},
   "outputs": [
    {
     "data": {
      "text/plain": [
       "array([[ 1.14081332,  0.34824361,  2.3323972 ,  1.02144229],\n",
       "       [ 7.        ,  7.        ,  7.        ,  7.        ],\n",
       "       [ 7.        ,  7.        ,  7.        ,  7.        ],\n",
       "       [ 1.85314988,  1.29093771, -0.09842223,  0.77826902],\n",
       "       [ 7.        ,  7.        ,  7.        ,  7.        ],\n",
       "       [ 7.        ,  7.        ,  7.        ,  7.        ],\n",
       "       [ 7.        ,  7.        ,  7.        ,  7.        ]])"
      ]
     },
     "execution_count": 51,
     "metadata": {},
     "output_type": "execute_result"
    }
   ],
   "source": [
    "data[names != \"Pepe\"] = 7\n",
    "data"
   ]
  },
  {
   "cell_type": "markdown",
   "id": "17a1892d",
   "metadata": {},
   "source": [
    "### Slicing arrays\n",
    "\n",
    "Tomar elementos desde un índice dado a otro índice dado.\n",
    "\n",
    "**a[start:stop]** \n",
    "\n",
    "**a[start:]**    \n",
    "\n",
    "**a[:stop]**     \n",
    "\n",
    "**a[:]**   copia el array entero"
   ]
  },
  {
   "cell_type": "code",
   "execution_count": 52,
   "id": "26681da6",
   "metadata": {},
   "outputs": [
    {
     "data": {
      "text/plain": [
       "array([[[  1,   2,   3,   5,   7,  11],\n",
       "        [  1,   4,   9,  25,  49, 121]],\n",
       "\n",
       "       [[  1,   2,   3,   5,   7,  11],\n",
       "        [  1,   4,   9,  25,  49, 121]]])"
      ]
     },
     "execution_count": 52,
     "metadata": {},
     "output_type": "execute_result"
    }
   ],
   "source": [
    "array_3"
   ]
  },
  {
   "cell_type": "code",
   "execution_count": 53,
   "id": "b1dd8982",
   "metadata": {},
   "outputs": [
    {
     "data": {
      "text/plain": [
       "array([1, 4, 9])"
      ]
     },
     "execution_count": 53,
     "metadata": {},
     "output_type": "execute_result"
    }
   ],
   "source": [
    "array_3[0,1,0:3] ## del bloque 1, de la lista 2, los 3 primeros elementos"
   ]
  },
  {
   "cell_type": "code",
   "execution_count": 54,
   "id": "7978902c",
   "metadata": {},
   "outputs": [
    {
     "name": "stdout",
     "output_type": "stream",
     "text": [
      "[1 2 3]\n"
     ]
    }
   ],
   "source": [
    "array_1 = np.array([1, 2, 3, 5, 7, 11, 13, 17])\n",
    "print(array_1[0:3]) ## los 3 primeros elementos de este vector"
   ]
  },
  {
   "cell_type": "markdown",
   "id": "22fe8adb",
   "metadata": {},
   "source": [
    "### Operaciones matemáticas con arrays\n",
    "\n",
    "Existen dos formas de realizar operaciones matemáticas con arrays: **a nivel de elemento y a nivel de array**.\n",
    "\n",
    "Las operaciones a nivel de elemento operan los elementos que ocupan la misma posición en dos arrays. Se necesitan, por tanto, dos arrays con las mismas dimensiones y el resultado es una array de la misma dimensión.\n",
    "\n",
    "Los operadores mamemáticos +, -, *, /, %, ** se utilizan para la realizar suma, resta, producto, cociente, resto y potencia a nivel de elemento."
   ]
  },
  {
   "cell_type": "code",
   "execution_count": 55,
   "id": "90f3f2c4",
   "metadata": {},
   "outputs": [],
   "source": [
    "a = np.array([[1, 2, 3], [4, 5, 6]])\n",
    "b = np.array([[1, 1, 1], [2, 2, 2]])"
   ]
  },
  {
   "cell_type": "code",
   "execution_count": 56,
   "id": "67df1e7a",
   "metadata": {},
   "outputs": [
    {
     "data": {
      "text/plain": [
       "array([[1, 2, 3],\n",
       "       [4, 5, 6]])"
      ]
     },
     "execution_count": 56,
     "metadata": {},
     "output_type": "execute_result"
    }
   ],
   "source": [
    "a"
   ]
  },
  {
   "cell_type": "code",
   "execution_count": 57,
   "id": "7ecc17c0",
   "metadata": {},
   "outputs": [
    {
     "data": {
      "text/plain": [
       "array([[ 2,  4,  6],\n",
       "       [ 8, 10, 12]])"
      ]
     },
     "execution_count": 57,
     "metadata": {},
     "output_type": "execute_result"
    }
   ],
   "source": [
    "a*2"
   ]
  },
  {
   "cell_type": "code",
   "execution_count": 58,
   "id": "323bb68b",
   "metadata": {},
   "outputs": [
    {
     "data": {
      "text/plain": [
       "array([[1, 1, 1],\n",
       "       [2, 2, 2]])"
      ]
     },
     "execution_count": 58,
     "metadata": {},
     "output_type": "execute_result"
    }
   ],
   "source": [
    "b"
   ]
  },
  {
   "cell_type": "code",
   "execution_count": 59,
   "id": "37280860",
   "metadata": {},
   "outputs": [
    {
     "data": {
      "text/plain": [
       "array([[6, 6, 6],\n",
       "       [7, 7, 7]])"
      ]
     },
     "execution_count": 59,
     "metadata": {},
     "output_type": "execute_result"
    }
   ],
   "source": [
    "b+5"
   ]
  },
  {
   "cell_type": "code",
   "execution_count": 60,
   "id": "55dba6c4",
   "metadata": {},
   "outputs": [
    {
     "name": "stdout",
     "output_type": "stream",
     "text": [
      "[[2 3 4]\n",
      " [6 7 8]]\n"
     ]
    }
   ],
   "source": [
    "print(a + b)"
   ]
  },
  {
   "cell_type": "code",
   "execution_count": 61,
   "id": "61041d1e",
   "metadata": {},
   "outputs": [
    {
     "name": "stdout",
     "output_type": "stream",
     "text": [
      "[[1.  2.  3. ]\n",
      " [2.  2.5 3. ]]\n"
     ]
    }
   ],
   "source": [
    "print(a / b)"
   ]
  },
  {
   "cell_type": "code",
   "execution_count": 62,
   "id": "6021c59c",
   "metadata": {},
   "outputs": [
    {
     "name": "stdout",
     "output_type": "stream",
     "text": [
      "[[ 1  4  9]\n",
      " [16 25 36]]\n"
     ]
    }
   ],
   "source": [
    "print(a ** 2)"
   ]
  },
  {
   "cell_type": "markdown",
   "id": "6aa44a09",
   "metadata": {},
   "source": [
    "### Operaciones matemáticas a nivel de array\n",
    "\n",
    "Los arrays son importantes porque permiten expresar operaciones\n",
    "sobre muchos elementos sin la necesidad de escribir bucles. Esto es\n",
    "lo que se conoce como **vectorización.**\n",
    "\n",
    "Para realizar el producto matricial se utiliza el método\n",
    "\n",
    "**a.dot(b)** : Devuelve el array resultado del producto matricial de los arrays a y b siempre y cuando sus dimensiones sean compatibles.\n",
    "\n",
    "Y para trasponer una matriz se utiliza el método\n",
    "\n",
    "**a.T** : Devuelve el array resultado de trasponer el array a."
   ]
  },
  {
   "cell_type": "code",
   "execution_count": 63,
   "id": "20c19d61",
   "metadata": {},
   "outputs": [],
   "source": [
    "a = np.array([[1, 2, 3], [4, 5, 6]])\n",
    "b = np.array([[1, 1], [2, 2], [3, 3]])"
   ]
  },
  {
   "cell_type": "code",
   "execution_count": 64,
   "id": "38f965cf",
   "metadata": {},
   "outputs": [
    {
     "data": {
      "text/plain": [
       "array([[1, 2, 3],\n",
       "       [4, 5, 6]])"
      ]
     },
     "execution_count": 64,
     "metadata": {},
     "output_type": "execute_result"
    }
   ],
   "source": [
    "a"
   ]
  },
  {
   "cell_type": "code",
   "execution_count": 65,
   "id": "65629e69",
   "metadata": {},
   "outputs": [
    {
     "data": {
      "text/plain": [
       "array([[1, 1],\n",
       "       [2, 2],\n",
       "       [3, 3]])"
      ]
     },
     "execution_count": 65,
     "metadata": {},
     "output_type": "execute_result"
    }
   ],
   "source": [
    "b"
   ]
  },
  {
   "cell_type": "code",
   "execution_count": 66,
   "id": "3ff1b89d",
   "metadata": {},
   "outputs": [
    {
     "name": "stdout",
     "output_type": "stream",
     "text": [
      "[[14 14]\n",
      " [32 32]]\n"
     ]
    }
   ],
   "source": [
    "print(a.dot(b))"
   ]
  },
  {
   "cell_type": "code",
   "execution_count": 67,
   "id": "404f0f75",
   "metadata": {},
   "outputs": [
    {
     "data": {
      "text/plain": [
       "array([[1, 4],\n",
       "       [2, 5],\n",
       "       [3, 6]])"
      ]
     },
     "execution_count": 67,
     "metadata": {},
     "output_type": "execute_result"
    }
   ],
   "source": [
    "a.T"
   ]
  },
  {
   "cell_type": "code",
   "execution_count": 68,
   "id": "4a5d161f",
   "metadata": {},
   "outputs": [
    {
     "name": "stdout",
     "output_type": "stream",
     "text": [
      "(3, 2)\n"
     ]
    }
   ],
   "source": [
    "print(a.T.shape)"
   ]
  },
  {
   "cell_type": "markdown",
   "id": "e478bbe4",
   "metadata": {},
   "source": [
    "### Funciones universales de comparación"
   ]
  },
  {
   "cell_type": "code",
   "execution_count": 69,
   "id": "23db605c",
   "metadata": {},
   "outputs": [
    {
     "data": {
      "text/plain": [
       "array([[False, False,  True],\n",
       "       [False,  True,  True]])"
      ]
     },
     "execution_count": 69,
     "metadata": {},
     "output_type": "execute_result"
    }
   ],
   "source": [
    "array_a=np.array([[1, 2, 3],[1, 4, 9]])\n",
    "array_b=np.array([[1, 3, 2],[2, 2, 2]])\n",
    "\n",
    "array_a > array_b"
   ]
  },
  {
   "cell_type": "code",
   "execution_count": 70,
   "id": "0f07442a",
   "metadata": {},
   "outputs": [
    {
     "name": "stdout",
     "output_type": "stream",
     "text": [
      "[[False False  True]\n",
      " [False  True  True]]\n"
     ]
    }
   ],
   "source": [
    "array_a=np.array([[1, 2, 3],[1, 4, 9]])\n",
    "array_b=np.array([[1, 3, 2],[2, 2, 2]])\n",
    "\n",
    "print(np.greater(array_a,array_b))"
   ]
  },
  {
   "cell_type": "markdown",
   "id": "19608a5d",
   "metadata": {},
   "source": [
    "### Agregaciones"
   ]
  },
  {
   "cell_type": "code",
   "execution_count": 71,
   "id": "e0b64646",
   "metadata": {},
   "outputs": [
    {
     "data": {
      "text/plain": [
       "array([[1, 2, 3],\n",
       "       [1, 4, 9]])"
      ]
     },
     "execution_count": 71,
     "metadata": {},
     "output_type": "execute_result"
    }
   ],
   "source": [
    "array_a"
   ]
  },
  {
   "cell_type": "code",
   "execution_count": 72,
   "id": "de741fe3",
   "metadata": {},
   "outputs": [
    {
     "data": {
      "text/plain": [
       "array([[1, 3, 2],\n",
       "       [2, 2, 2]])"
      ]
     },
     "execution_count": 72,
     "metadata": {},
     "output_type": "execute_result"
    }
   ],
   "source": [
    "array_b"
   ]
  },
  {
   "cell_type": "code",
   "execution_count": 73,
   "id": "16c21b30",
   "metadata": {},
   "outputs": [
    {
     "data": {
      "text/plain": [
       "array([[ 2,  5,  5],\n",
       "       [ 3,  6, 11]])"
      ]
     },
     "execution_count": 73,
     "metadata": {},
     "output_type": "execute_result"
    }
   ],
   "source": [
    "np.add(array_a, array_b) ## suma los dos arrays"
   ]
  },
  {
   "cell_type": "code",
   "execution_count": 74,
   "id": "ab18bff2",
   "metadata": {},
   "outputs": [
    {
     "data": {
      "text/plain": [
       "array([[1, 2, 3],\n",
       "       [1, 4, 9]])"
      ]
     },
     "execution_count": 74,
     "metadata": {},
     "output_type": "execute_result"
    }
   ],
   "source": [
    "array_a"
   ]
  },
  {
   "cell_type": "code",
   "execution_count": 75,
   "id": "d03ca347",
   "metadata": {},
   "outputs": [
    {
     "data": {
      "text/plain": [
       "array([ 2,  6, 12])"
      ]
     },
     "execution_count": 75,
     "metadata": {},
     "output_type": "execute_result"
    }
   ],
   "source": [
    "array_a_reduced=np.add.reduce(array_a)\n",
    "array_a_reduced"
   ]
  },
  {
   "cell_type": "code",
   "execution_count": 76,
   "id": "930c4d94",
   "metadata": {},
   "outputs": [
    {
     "data": {
      "text/plain": [
       "20"
      ]
     },
     "execution_count": 76,
     "metadata": {},
     "output_type": "execute_result"
    }
   ],
   "source": [
    "np.add.reduce(array_a_reduced)"
   ]
  },
  {
   "cell_type": "code",
   "execution_count": 77,
   "id": "b4a38862",
   "metadata": {},
   "outputs": [
    {
     "data": {
      "text/plain": [
       "20"
      ]
     },
     "execution_count": 77,
     "metadata": {},
     "output_type": "execute_result"
    }
   ],
   "source": [
    "array_a.sum() # es lo mismo que lo anterior"
   ]
  },
  {
   "cell_type": "markdown",
   "id": "589df6b2",
   "metadata": {},
   "source": [
    "### Acumulados\n",
    "\n",
    "Acumula el resultado de aplicar el operador a todos los elementos."
   ]
  },
  {
   "cell_type": "code",
   "execution_count": 78,
   "id": "2ddc90d1",
   "metadata": {},
   "outputs": [
    {
     "data": {
      "text/plain": [
       "array([[1, 2, 3],\n",
       "       [1, 4, 9]])"
      ]
     },
     "execution_count": 78,
     "metadata": {},
     "output_type": "execute_result"
    }
   ],
   "source": [
    "array_a"
   ]
  },
  {
   "cell_type": "code",
   "execution_count": 79,
   "id": "6ebe4088",
   "metadata": {},
   "outputs": [
    {
     "data": {
      "text/plain": [
       "array([[ 1,  2,  3],\n",
       "       [ 2,  6, 12]])"
      ]
     },
     "execution_count": 79,
     "metadata": {},
     "output_type": "execute_result"
    }
   ],
   "source": [
    "np.add.accumulate(array_a)"
   ]
  },
  {
   "cell_type": "code",
   "execution_count": 80,
   "id": "d1b38d76",
   "metadata": {},
   "outputs": [
    {
     "data": {
      "text/plain": [
       "array([ 2,  8, 20])"
      ]
     },
     "execution_count": 80,
     "metadata": {},
     "output_type": "execute_result"
    }
   ],
   "source": [
    "np.add.accumulate(array_a_reduced)"
   ]
  },
  {
   "cell_type": "markdown",
   "id": "4ce365ee",
   "metadata": {},
   "source": [
    "### Operaciones con arrays"
   ]
  },
  {
   "cell_type": "code",
   "execution_count": 81,
   "id": "58587bc6",
   "metadata": {},
   "outputs": [
    {
     "data": {
      "text/plain": [
       "array([[1, 2, 3],\n",
       "       [1, 4, 9]])"
      ]
     },
     "execution_count": 81,
     "metadata": {},
     "output_type": "execute_result"
    }
   ],
   "source": [
    "array_a"
   ]
  },
  {
   "cell_type": "code",
   "execution_count": 82,
   "id": "dfdaa718",
   "metadata": {},
   "outputs": [
    {
     "data": {
      "text/plain": [
       "20"
      ]
     },
     "execution_count": 82,
     "metadata": {},
     "output_type": "execute_result"
    }
   ],
   "source": [
    "array_a.sum()"
   ]
  },
  {
   "cell_type": "code",
   "execution_count": 83,
   "id": "43489e4b",
   "metadata": {},
   "outputs": [
    {
     "data": {
      "text/plain": [
       "array([ 2,  6, 12])"
      ]
     },
     "execution_count": 83,
     "metadata": {},
     "output_type": "execute_result"
    }
   ],
   "source": [
    "array_a.sum(axis=0) "
   ]
  },
  {
   "cell_type": "code",
   "execution_count": 84,
   "id": "f75ed41c",
   "metadata": {},
   "outputs": [
    {
     "data": {
      "text/plain": [
       "array([ 6, 14])"
      ]
     },
     "execution_count": 84,
     "metadata": {},
     "output_type": "execute_result"
    }
   ],
   "source": [
    "array_a.sum(axis=1)"
   ]
  },
  {
   "cell_type": "markdown",
   "id": "e3c9a715",
   "metadata": {},
   "source": [
    "### Ordenación\n"
   ]
  },
  {
   "cell_type": "code",
   "execution_count": 85,
   "id": "a56eeda7",
   "metadata": {},
   "outputs": [
    {
     "data": {
      "text/plain": [
       "array([0.67750715, 0.70740058, 0.8824389 , 0.6751117 , 0.76830254,\n",
       "       0.18212359, 0.00556943, 0.8793164 , 0.86989088, 0.34404097])"
      ]
     },
     "execution_count": 85,
     "metadata": {},
     "output_type": "execute_result"
    }
   ],
   "source": [
    "array_1d=np.random.rand(10) # definimos array\n",
    "array_1d"
   ]
  },
  {
   "cell_type": "code",
   "execution_count": 86,
   "id": "96c9d256",
   "metadata": {},
   "outputs": [
    {
     "name": "stdout",
     "output_type": "stream",
     "text": [
      "[0.00556943 0.18212359 0.34404097 0.6751117  0.67750715 0.70740058\n",
      " 0.76830254 0.86989088 0.8793164  0.8824389 ]\n"
     ]
    }
   ],
   "source": [
    "print(np.sort(array_1d)) # ordenamos"
   ]
  },
  {
   "cell_type": "code",
   "execution_count": 87,
   "id": "96b0c7dd",
   "metadata": {},
   "outputs": [
    {
     "data": {
      "text/plain": [
       "array([[0.7851103 , 0.74001337, 0.50932438, 0.46097028],\n",
       "       [0.64577015, 0.03150132, 0.53686955, 0.47090284],\n",
       "       [0.26123958, 0.90994121, 0.55363211, 0.85071077]])"
      ]
     },
     "execution_count": 87,
     "metadata": {},
     "output_type": "execute_result"
    }
   ],
   "source": [
    "array_2d=np.random.rand(3,4) # definimos array\n",
    "array_2d"
   ]
  },
  {
   "cell_type": "code",
   "execution_count": 88,
   "id": "38fc1cc1",
   "metadata": {},
   "outputs": [
    {
     "name": "stdout",
     "output_type": "stream",
     "text": [
      "[[0.46097028 0.50932438 0.74001337 0.7851103 ]\n",
      " [0.03150132 0.47090284 0.53686955 0.64577015]\n",
      " [0.26123958 0.55363211 0.85071077 0.90994121]]\n"
     ]
    }
   ],
   "source": [
    "print(np.sort(array_2d)) # ordenamos"
   ]
  },
  {
   "cell_type": "code",
   "execution_count": 89,
   "id": "60c41958",
   "metadata": {},
   "outputs": [
    {
     "name": "stdout",
     "output_type": "stream",
     "text": [
      "[0.03150132 0.26123958 0.46097028 0.47090284 0.50932438 0.53686955\n",
      " 0.55363211 0.64577015 0.74001337 0.7851103  0.85071077 0.90994121]\n"
     ]
    }
   ],
   "source": [
    "print(np.sort(array_2d, None)) # ordenamos"
   ]
  },
  {
   "cell_type": "code",
   "execution_count": 90,
   "id": "4848cff8",
   "metadata": {},
   "outputs": [
    {
     "name": "stdout",
     "output_type": "stream",
     "text": [
      "[[0.26123958 0.03150132 0.50932438 0.46097028]\n",
      " [0.64577015 0.74001337 0.53686955 0.47090284]\n",
      " [0.7851103  0.90994121 0.55363211 0.85071077]]\n"
     ]
    }
   ],
   "source": [
    "print(np.sort(array_2d,axis=0)) # ordenamos"
   ]
  },
  {
   "cell_type": "code",
   "execution_count": 91,
   "id": "bdd4e45b",
   "metadata": {},
   "outputs": [
    {
     "name": "stdout",
     "output_type": "stream",
     "text": [
      "[[0.46097028 0.50932438 0.74001337 0.7851103 ]\n",
      " [0.03150132 0.47090284 0.53686955 0.64577015]\n",
      " [0.26123958 0.55363211 0.85071077 0.90994121]]\n"
     ]
    }
   ],
   "source": [
    "print(np.sort(array_2d,axis=1)) # ordenamos"
   ]
  },
  {
   "cell_type": "code",
   "execution_count": 92,
   "id": "9ea108e4",
   "metadata": {},
   "outputs": [],
   "source": [
    "array_2d.sort()"
   ]
  },
  {
   "cell_type": "markdown",
   "id": "150482df",
   "metadata": {},
   "source": [
    "### Localizar máximo y mínimo dentro de un array"
   ]
  },
  {
   "cell_type": "code",
   "execution_count": 93,
   "id": "143fe6f3",
   "metadata": {},
   "outputs": [
    {
     "data": {
      "text/plain": [
       "array([[0.972341  , 0.09571988, 0.2746544 , 0.10981867, 0.3124744 ],\n",
       "       [0.74547063, 0.50543132, 0.79493337, 0.04455721, 0.95384289]])"
      ]
     },
     "execution_count": 93,
     "metadata": {},
     "output_type": "execute_result"
    }
   ],
   "source": [
    "array = np.random.rand(2,5) # definimos array aleatorio\n",
    "array"
   ]
  },
  {
   "cell_type": "code",
   "execution_count": 94,
   "id": "5eb7e93c",
   "metadata": {},
   "outputs": [
    {
     "data": {
      "text/plain": [
       "0.9723410010856673"
      ]
     },
     "execution_count": 94,
     "metadata": {},
     "output_type": "execute_result"
    }
   ],
   "source": [
    "np.max(array)"
   ]
  },
  {
   "cell_type": "code",
   "execution_count": 95,
   "id": "78ba687a",
   "metadata": {},
   "outputs": [
    {
     "data": {
      "text/plain": [
       "0"
      ]
     },
     "execution_count": 95,
     "metadata": {},
     "output_type": "execute_result"
    }
   ],
   "source": [
    "np.argmax(array) # posición del array máximo"
   ]
  },
  {
   "cell_type": "code",
   "execution_count": 96,
   "id": "3fabbeb3",
   "metadata": {},
   "outputs": [],
   "source": [
    "kk = np.random.rand(1,10)"
   ]
  },
  {
   "cell_type": "code",
   "execution_count": 97,
   "id": "8d39ab7b",
   "metadata": {},
   "outputs": [
    {
     "data": {
      "text/plain": [
       "array([[0.6837182 , 0.52677604, 0.24829408, 0.32098789, 0.13799649,\n",
       "        0.72496705, 0.73215493, 0.14323287, 0.8199221 , 0.13451003]])"
      ]
     },
     "execution_count": 97,
     "metadata": {},
     "output_type": "execute_result"
    }
   ],
   "source": [
    "kk"
   ]
  },
  {
   "cell_type": "code",
   "execution_count": 98,
   "id": "9d3848f7",
   "metadata": {},
   "outputs": [],
   "source": [
    "kk_ord = np.sort(kk,axis=1)"
   ]
  },
  {
   "cell_type": "code",
   "execution_count": 99,
   "id": "01f0c84f",
   "metadata": {},
   "outputs": [
    {
     "data": {
      "text/plain": [
       "array([[0.13451003, 0.13799649, 0.14323287, 0.24829408, 0.32098789,\n",
       "        0.52677604, 0.6837182 , 0.72496705, 0.73215493, 0.8199221 ]])"
      ]
     },
     "execution_count": 99,
     "metadata": {},
     "output_type": "execute_result"
    }
   ],
   "source": [
    "kk_ord"
   ]
  },
  {
   "cell_type": "code",
   "execution_count": 100,
   "id": "d54f041b",
   "metadata": {},
   "outputs": [
    {
     "data": {
      "text/plain": [
       "array([[0.13451003, 0.13799649, 0.14323287, 0.24829408, 0.32098789,\n",
       "        0.52677604, 0.6837182 , 0.72496705, 0.73215493, 0.8199221 ]])"
      ]
     },
     "execution_count": 100,
     "metadata": {},
     "output_type": "execute_result"
    }
   ],
   "source": [
    "kk_ord[::-1]"
   ]
  },
  {
   "cell_type": "code",
   "execution_count": 101,
   "id": "6d172db3",
   "metadata": {},
   "outputs": [
    {
     "data": {
      "text/plain": [
       "0"
      ]
     },
     "execution_count": 101,
     "metadata": {},
     "output_type": "execute_result"
    }
   ],
   "source": [
    "np.argmax(array)"
   ]
  },
  {
   "cell_type": "code",
   "execution_count": 102,
   "id": "6901b8d4",
   "metadata": {},
   "outputs": [
    {
     "data": {
      "text/plain": [
       "array([0.972341])"
      ]
     },
     "execution_count": 102,
     "metadata": {},
     "output_type": "execute_result"
    }
   ],
   "source": [
    "array.reshape(10,-1)[np.argmax(array)] ## seleccionamos el elemento maximo a través de la posición"
   ]
  },
  {
   "cell_type": "code",
   "execution_count": 103,
   "id": "ebd6caf8",
   "metadata": {},
   "outputs": [
    {
     "data": {
      "text/plain": [
       "array([0, 1, 1, 0, 1], dtype=int64)"
      ]
     },
     "execution_count": 103,
     "metadata": {},
     "output_type": "execute_result"
    }
   ],
   "source": [
    "np.argmax(array, axis=0)"
   ]
  },
  {
   "cell_type": "code",
   "execution_count": 104,
   "id": "5eb58648",
   "metadata": {},
   "outputs": [
    {
     "data": {
      "text/plain": [
       "array([0, 4], dtype=int64)"
      ]
     },
     "execution_count": 104,
     "metadata": {},
     "output_type": "execute_result"
    }
   ],
   "source": [
    "np.argmax(array, axis=1)"
   ]
  },
  {
   "cell_type": "markdown",
   "id": "cf5f6b70",
   "metadata": {},
   "source": [
    "## CONCLUSIONES\n",
    "\n",
    "- NumPy es una librería a bajo nivel para el tratamiento óptimo\n",
    "de matrices\n",
    "\n",
    "- Servirá como la base en que se sustenta Pandas para realizar\n",
    "sus tareas\n",
    "\n",
    "- NumPy proporciona muchos métodos y opciones para un\n",
    "manejo óptimo de datos\n",
    "\n",
    "- De entre sus características podemos destacar la facilidad para\n",
    "indexar elementos, para definir tipos de datos y para aplicar\n",
    "operaciones sobre todos los elementos de un array de datos.\n",
    "\n",
    "- Además de Pandas, NumPy es la base de muchas otras\n",
    "librerías actuales enfocadas en el análisis y el modelado de\n",
    "datos."
   ]
  }
 ],
 "metadata": {
  "kernelspec": {
   "display_name": "Python 3 (ipykernel)",
   "language": "python",
   "name": "python3"
  },
  "language_info": {
   "codemirror_mode": {
    "name": "ipython",
    "version": 3
   },
   "file_extension": ".py",
   "mimetype": "text/x-python",
   "name": "python",
   "nbconvert_exporter": "python",
   "pygments_lexer": "ipython3",
   "version": "3.11.5"
  }
 },
 "nbformat": 4,
 "nbformat_minor": 5
}
