{
 "cells": [
  {
   "cell_type": "markdown",
   "id": "62cb9dea-1f9a-4914-a191-c4e09a341829",
   "metadata": {},
   "source": [
    "<!-- PROFILE LINK -->\n",
    "<h1 style = \"text-align:center; font-size: 30px\">PROGRAMACIÓN CONCURRENTE Y DISTRIBUIDA</h1>\n",
    "<a href =\"https://github.com/sukuzhanay\">\n",
    "<img src=\"https://avatars.githubusercontent.com/u/17354471?v=4\" style=\"float:left;vertical-align:centre\" width=\"110\" height=\"110\" title = \"Christian Vlaldimir Sucuzhanay Arevalo 21535220\">\n",
    "<a href =\"https://github.com/sukuzhanay?tab=repositories\">\n",
    "<img src=\"https://media-exp1.licdn.com/dms/image/C4D0BAQEu_Aa76fcmPw/company-logo_200_200/0/1630998679429?e=2159024400&v=beta&t=2feC9GG7RWCWizTqsK5HzDWB1TL2DOQuAVwnMf6FFvk\" title = \"M41\" alt=\"UE\" width=\"110\" height=\"110\" style=\"float:right;vertical-align:centre\">"
   ]
  },
  {
   "cell_type": "markdown",
   "id": "b5aae5fa",
   "metadata": {},
   "source": [
    "# Python crash course\n",
    "## *Session 2*"
   ]
  },
  {
   "cell_type": "markdown",
   "id": "08131300",
   "metadata": {},
   "source": [
    "En sesión anterior vimos que tenemos disponibles una serie de tipos básicos:\n",
    "* Cadenas de texto.\n",
    "* Booleanos.\n",
    "* Numéricos: entero, decimal, complejo.\n",
    "* Colecciones: listas, tuplas, conjuntos, diccionarios.\n",
    "Y como asignar valores a objetos (variables) para crearlos con el operador `=`.\n",
    "\n",
    "Adicionalmente tenemos funciones que nos permiten cambiar de tipo a los objetos:"
   ]
  },
  {
   "cell_type": "code",
   "execution_count": 1,
   "id": "e4d3f9f9",
   "metadata": {},
   "outputs": [],
   "source": [
    "x11 = 24\n",
    "x12 = int(24)\n",
    "x21 = 33\n",
    "x22 = float(33)\n",
    "z = complex(x11)\n",
    "\n",
    "l1 = [1,2,3]\n",
    "t1 = (4,5,6)\n",
    "l2 = tuple(l1)\n",
    "t2 = list(t1)\n",
    "\n",
    "c1 = set(l1)\n",
    "\n",
    "r1 = list()\n",
    "r2 = tuple()\n",
    "r3 = set()"
   ]
  },
  {
   "cell_type": "code",
   "execution_count": 2,
   "id": "388dfba6",
   "metadata": {},
   "outputs": [
    {
     "data": {
      "text/plain": [
       "float"
      ]
     },
     "execution_count": 2,
     "metadata": {},
     "output_type": "execute_result"
    }
   ],
   "source": [
    "type(x22)"
   ]
  },
  {
   "cell_type": "code",
   "execution_count": 3,
   "id": "6147afb8-efda-4e56-a18b-a60fa64c75b2",
   "metadata": {},
   "outputs": [
    {
     "data": {
      "text/plain": [
       "{1, 2, 3}"
      ]
     },
     "execution_count": 3,
     "metadata": {},
     "output_type": "execute_result"
    }
   ],
   "source": [
    "c1"
   ]
  },
  {
   "cell_type": "code",
   "execution_count": 4,
   "id": "61661ca6-0e28-4ac4-99b2-22ed7f897d38",
   "metadata": {},
   "outputs": [
    {
     "data": {
      "text/plain": [
       "set()"
      ]
     },
     "execution_count": 4,
     "metadata": {},
     "output_type": "execute_result"
    }
   ],
   "source": [
    "r3"
   ]
  },
  {
   "cell_type": "code",
   "execution_count": 5,
   "id": "0ac30058",
   "metadata": {},
   "outputs": [],
   "source": [
    "lista1 = [1,2,3]"
   ]
  },
  {
   "cell_type": "code",
   "execution_count": null,
   "id": "d5885448-c130-40ec-81e5-738e66f7bbf0",
   "metadata": {},
   "outputs": [],
   "source": []
  },
  {
   "cell_type": "code",
   "execution_count": 6,
   "id": "c95af80c",
   "metadata": {},
   "outputs": [],
   "source": [
    "lista2 = lista1"
   ]
  },
  {
   "cell_type": "code",
   "execution_count": 7,
   "id": "f563a2f2",
   "metadata": {},
   "outputs": [
    {
     "name": "stdout",
     "output_type": "stream",
     "text": [
      "[1, 2, 3]\n",
      "[1, 2, 3]\n"
     ]
    }
   ],
   "source": [
    "print(lista1)\n",
    "print(lista2)"
   ]
  },
  {
   "cell_type": "code",
   "execution_count": 8,
   "id": "f7740872",
   "metadata": {},
   "outputs": [],
   "source": [
    "lista2[1]= 99"
   ]
  },
  {
   "cell_type": "code",
   "execution_count": 9,
   "id": "e5cc913f",
   "metadata": {},
   "outputs": [
    {
     "name": "stdout",
     "output_type": "stream",
     "text": [
      "[1, 99, 3]\n",
      "[1, 99, 3]\n"
     ]
    }
   ],
   "source": [
    "print(lista1)\n",
    "print(lista2)"
   ]
  },
  {
   "cell_type": "code",
   "execution_count": 10,
   "id": "5dc75065",
   "metadata": {},
   "outputs": [],
   "source": [
    "lista1.append(88)"
   ]
  },
  {
   "cell_type": "code",
   "execution_count": 11,
   "id": "9fe1fc43",
   "metadata": {},
   "outputs": [
    {
     "name": "stdout",
     "output_type": "stream",
     "text": [
      "[1, 99, 3, 88]\n",
      "[1, 99, 3, 88]\n"
     ]
    }
   ],
   "source": [
    "print(lista1)\n",
    "print(lista2)"
   ]
  },
  {
   "cell_type": "code",
   "execution_count": 12,
   "id": "79a5c6b8",
   "metadata": {},
   "outputs": [],
   "source": [
    "lista3 = lista1.copy()"
   ]
  },
  {
   "cell_type": "code",
   "execution_count": 13,
   "id": "8d77c87a",
   "metadata": {},
   "outputs": [],
   "source": [
    "lista3.append(77)"
   ]
  },
  {
   "cell_type": "code",
   "execution_count": 14,
   "id": "dab59b3b",
   "metadata": {},
   "outputs": [
    {
     "name": "stdout",
     "output_type": "stream",
     "text": [
      "[1, 99, 3, 88]\n",
      "[1, 99, 3, 88]\n",
      "[1, 99, 3, 88, 77]\n"
     ]
    }
   ],
   "source": [
    "print(lista1)\n",
    "print(lista2)\n",
    "print(lista3)"
   ]
  },
  {
   "cell_type": "code",
   "execution_count": 15,
   "id": "9db397ad",
   "metadata": {},
   "outputs": [],
   "source": [
    "lista1.append(66)"
   ]
  },
  {
   "cell_type": "code",
   "execution_count": 16,
   "id": "4dd5f6aa",
   "metadata": {},
   "outputs": [
    {
     "name": "stdout",
     "output_type": "stream",
     "text": [
      "[1, 99, 3, 88, 66]\n",
      "[1, 99, 3, 88, 66]\n",
      "[1, 99, 3, 88, 77]\n"
     ]
    }
   ],
   "source": [
    "print(lista1)\n",
    "print(lista2)\n",
    "print(lista3)"
   ]
  },
  {
   "cell_type": "markdown",
   "id": "bde8ae70",
   "metadata": {},
   "source": [
    "También existe una función para comprobar si un objeto es de un determinado tipo"
   ]
  },
  {
   "cell_type": "code",
   "execution_count": 17,
   "id": "fafdbd92",
   "metadata": {},
   "outputs": [],
   "source": [
    "v1 = 99"
   ]
  },
  {
   "cell_type": "code",
   "execution_count": 18,
   "id": "7208f5ef",
   "metadata": {},
   "outputs": [
    {
     "name": "stdout",
     "output_type": "stream",
     "text": [
      "True False\n"
     ]
    }
   ],
   "source": [
    "print(isinstance(v1, int), isinstance(v1, float)) "
   ]
  },
  {
   "cell_type": "markdown",
   "id": "fe9b6d77",
   "metadata": {},
   "source": [
    "### El tipo conjunto\n",
    "\n",
    "Un conjunto es una colección de elementos no ordenados, no modificables y no permite duplicados.\n",
    "\n",
    "Su definición se realiza mediante llaves `{ }`.\n",
    "También existe el tipo `frozenset` que es una versión no inmutable del conjunto.\n",
    "\n",
    "Al tratarse de conjuntos vamos a poder aplicar las operaciones de conjuntos.\n",
    "* Inclusión\n",
    "* Intersección\n",
    "* Unión\n"
   ]
  },
  {
   "cell_type": "code",
   "execution_count": 19,
   "id": "6ab964e4",
   "metadata": {},
   "outputs": [
    {
     "name": "stdout",
     "output_type": "stream",
     "text": [
      "{(1+5j), 'casa', 1, 'perro', 90}\n",
      "{1, 90.0, 3.2, 25}\n"
     ]
    }
   ],
   "source": [
    "A = {'casa', 'perro', 1, 1+5j, 90, 90.0}; print(A)\n",
    "B = {1, 3.2, 25, 90.0}; print(B)"
   ]
  },
  {
   "cell_type": "code",
   "execution_count": 20,
   "id": "a7b1b656",
   "metadata": {},
   "outputs": [
    {
     "name": "stdout",
     "output_type": "stream",
     "text": [
      "False\n",
      "True\n"
     ]
    }
   ],
   "source": [
    "# INCLUSION DE ELEMENTOS\n",
    "print('gato' in A)\n",
    "print('perro' in A)"
   ]
  },
  {
   "cell_type": "code",
   "execution_count": 21,
   "id": "995f9ee2",
   "metadata": {},
   "outputs": [
    {
     "data": {
      "text/plain": [
       "False"
      ]
     },
     "execution_count": 21,
     "metadata": {},
     "output_type": "execute_result"
    }
   ],
   "source": [
    "{1, 90} in A"
   ]
  },
  {
   "cell_type": "code",
   "execution_count": 22,
   "id": "2b702814",
   "metadata": {},
   "outputs": [
    {
     "name": "stdout",
     "output_type": "stream",
     "text": [
      "{'casa', 1, 'perro', 3.2, (1+5j), 25, 90}\n",
      "{1, 'casa', 3.2, 'perro', (1+5j), 25, 90.0}\n"
     ]
    }
   ],
   "source": [
    "# UNION DE DOS O MAS CONJUNTOS\n",
    "print(A | B)\n",
    "print(B | A)"
   ]
  },
  {
   "cell_type": "code",
   "execution_count": 35,
   "id": "4653cb68",
   "metadata": {},
   "outputs": [
    {
     "name": "stdout",
     "output_type": "stream",
     "text": [
      "{(1+5j), 'casa', 1, 'perro', 6, 25, 90, 'gato'}\n"
     ]
    }
   ],
   "source": [
    "C={25,6,'gato'}\n",
    "\n",
    "# Esto no va, no se puede unir un conjunto y una tupla A | (25,6,'gato')\n",
    "print(A|C)"
   ]
  },
  {
   "cell_type": "code",
   "execution_count": 36,
   "id": "3974d32f",
   "metadata": {},
   "outputs": [
    {
     "data": {
      "text/plain": [
       "{(1+5j), 1, 25, 3.2, 90, 'casa', 'perro'}"
      ]
     },
     "execution_count": 36,
     "metadata": {},
     "output_type": "execute_result"
    }
   ],
   "source": [
    "A.union(B)"
   ]
  },
  {
   "cell_type": "code",
   "execution_count": 37,
   "id": "25112962",
   "metadata": {},
   "outputs": [
    {
     "data": {
      "text/plain": [
       "{(1+5j), 1, 25, 6, 90, 'casa', 'gato', 'perro'}"
      ]
     },
     "execution_count": 37,
     "metadata": {},
     "output_type": "execute_result"
    }
   ],
   "source": [
    "A.union((25,6,'gato'))"
   ]
  },
  {
   "cell_type": "code",
   "execution_count": 38,
   "id": "a7dd17b5",
   "metadata": {},
   "outputs": [
    {
     "data": {
      "text/plain": [
       "{1, 90.0}"
      ]
     },
     "execution_count": 38,
     "metadata": {},
     "output_type": "execute_result"
    }
   ],
   "source": [
    "# INTERSECCIÓN DE DOS O MÁS CONJUNTOS\n",
    "A & B"
   ]
  },
  {
   "cell_type": "code",
   "execution_count": 39,
   "id": "a5a44ed0",
   "metadata": {},
   "outputs": [
    {
     "data": {
      "text/plain": [
       "{1, 90.0}"
      ]
     },
     "execution_count": 39,
     "metadata": {},
     "output_type": "execute_result"
    }
   ],
   "source": [
    "B.intersection(A)"
   ]
  },
  {
   "cell_type": "code",
   "execution_count": 40,
   "id": "0e4af082",
   "metadata": {},
   "outputs": [],
   "source": [
    "# DIFERENCIA DE CONJUNTOS"
   ]
  },
  {
   "cell_type": "code",
   "execution_count": 41,
   "id": "d6396bba",
   "metadata": {},
   "outputs": [
    {
     "data": {
      "text/plain": [
       "{(1+5j), 'casa', 'perro'}"
      ]
     },
     "execution_count": 41,
     "metadata": {},
     "output_type": "execute_result"
    }
   ],
   "source": [
    "A - B"
   ]
  },
  {
   "cell_type": "code",
   "execution_count": 42,
   "id": "4b0ee20d",
   "metadata": {},
   "outputs": [
    {
     "data": {
      "text/plain": [
       "{(1+5j), 'casa', 'perro'}"
      ]
     },
     "execution_count": 42,
     "metadata": {},
     "output_type": "execute_result"
    }
   ],
   "source": [
    "A.difference(B)"
   ]
  },
  {
   "cell_type": "code",
   "execution_count": 43,
   "id": "ae1aeaf6",
   "metadata": {},
   "outputs": [
    {
     "data": {
      "text/plain": [
       "{(1+5j), 25, 3.2, 'casa', 'perro'}"
      ]
     },
     "execution_count": 43,
     "metadata": {},
     "output_type": "execute_result"
    }
   ],
   "source": [
    "# Diferencia simétrica\n",
    "A ^ B"
   ]
  },
  {
   "cell_type": "code",
   "execution_count": 44,
   "id": "442b4f27",
   "metadata": {},
   "outputs": [
    {
     "data": {
      "text/plain": [
       "{(1+5j), 25, 3.2, 'casa', 'perro'}"
      ]
     },
     "execution_count": 44,
     "metadata": {},
     "output_type": "execute_result"
    }
   ],
   "source": [
    "A.union(B).difference(A.intersection(B))"
   ]
  },
  {
   "cell_type": "code",
   "execution_count": 45,
   "id": "5cc8d7d8",
   "metadata": {},
   "outputs": [
    {
     "data": {
      "text/plain": [
       "False"
      ]
     },
     "execution_count": 45,
     "metadata": {},
     "output_type": "execute_result"
    }
   ],
   "source": [
    "# Comprobación de si existen elementos en común.\n",
    "A.isdisjoint(B)"
   ]
  },
  {
   "cell_type": "code",
   "execution_count": 46,
   "id": "e11ae7ad",
   "metadata": {},
   "outputs": [
    {
     "data": {
      "text/plain": [
       "True"
      ]
     },
     "execution_count": 46,
     "metadata": {},
     "output_type": "execute_result"
    }
   ],
   "source": [
    "{1, 90}.issubset(A) #inclusión de subconjuntos"
   ]
  },
  {
   "cell_type": "code",
   "execution_count": 47,
   "id": "14b094ef",
   "metadata": {},
   "outputs": [
    {
     "data": {
      "text/plain": [
       "True"
      ]
     },
     "execution_count": 47,
     "metadata": {},
     "output_type": "execute_result"
    }
   ],
   "source": [
    "{1, 90} < A"
   ]
  },
  {
   "cell_type": "code",
   "execution_count": 48,
   "id": "e3a763ec",
   "metadata": {},
   "outputs": [
    {
     "data": {
      "text/plain": [
       "True"
      ]
     },
     "execution_count": 48,
     "metadata": {},
     "output_type": "execute_result"
    }
   ],
   "source": [
    "{1, 90} <= A"
   ]
  },
  {
   "cell_type": "markdown",
   "id": "69bcfaf1",
   "metadata": {},
   "source": [
    "Cada tipo tiene asociados una serie de métodos (funciones) que nos permiten trabajar con ellos, los podíamos ver al pulsar tabulador después del punto que sigue al objeto que queremos tratar."
   ]
  },
  {
   "cell_type": "markdown",
   "id": "3ca059f4",
   "metadata": {},
   "source": [
    "#### Algunos métodos de cadenas de texto"
   ]
  },
  {
   "cell_type": "code",
   "execution_count": 49,
   "id": "e5d73780",
   "metadata": {},
   "outputs": [],
   "source": [
    "str1 = 'Hablen niños ratas de las UEM'"
   ]
  },
  {
   "cell_type": "code",
   "execution_count": 50,
   "id": "f413672d",
   "metadata": {},
   "outputs": [
    {
     "data": {
      "text/plain": [
       "['Hablen niños ratas de ', ' UEM']"
      ]
     },
     "execution_count": 50,
     "metadata": {},
     "output_type": "execute_result"
    }
   ],
   "source": [
    "str1.split('las') # Genera una lista con cada fragmento de la cadena en una posición según el separador indicado."
   ]
  },
  {
   "cell_type": "code",
   "execution_count": 51,
   "id": "f28f665f",
   "metadata": {},
   "outputs": [
    {
     "name": "stdout",
     "output_type": "stream",
     "text": [
      "hablen niños ratas de las uem\n",
      "HABLEN NIÑOS RATAS DE LAS UEM\n"
     ]
    }
   ],
   "source": [
    "print(str1.lower()) # en minúsculas\n",
    "print(str1.upper()) # en mayúsculas"
   ]
  },
  {
   "cell_type": "code",
   "execution_count": 52,
   "id": "fe811cb9",
   "metadata": {},
   "outputs": [
    {
     "data": {
      "text/plain": [
       "'Hablen niños ratas de las UEM'"
      ]
     },
     "execution_count": 52,
     "metadata": {},
     "output_type": "execute_result"
    }
   ],
   "source": [
    "str1.strip(' ') # elimina el caracter indicado."
   ]
  },
  {
   "cell_type": "markdown",
   "id": "d5c9fd5e",
   "metadata": {},
   "source": [
    "Existen algunas funciones básicas que son propias de Python base:"
   ]
  },
  {
   "cell_type": "code",
   "execution_count": 53,
   "id": "69df2e7b",
   "metadata": {},
   "outputs": [
    {
     "name": "stdout",
     "output_type": "stream",
     "text": [
      "Hablen niños ratas de las UEM\n"
     ]
    }
   ],
   "source": [
    "print(str1) # parar imprimir cadenas de texto."
   ]
  },
  {
   "cell_type": "code",
   "execution_count": 54,
   "id": "5c1f04ef",
   "metadata": {},
   "outputs": [
    {
     "data": {
      "text/plain": [
       "29"
      ]
     },
     "execution_count": 54,
     "metadata": {},
     "output_type": "execute_result"
    }
   ],
   "source": [
    "len(str1) #longitud de un objeto, que tenga medida"
   ]
  },
  {
   "cell_type": "code",
   "execution_count": 55,
   "id": "191cbdc6",
   "metadata": {},
   "outputs": [
    {
     "data": {
      "text/plain": [
       "{'__name__': '__main__',\n",
       " '__doc__': 'Automatically created module for IPython interactive environment',\n",
       " '__package__': None,\n",
       " '__loader__': None,\n",
       " '__spec__': None,\n",
       " '__builtin__': <module 'builtins' (built-in)>,\n",
       " '__builtins__': <module 'builtins' (built-in)>,\n",
       " '_ih': ['',\n",
       "  'x11 = 24\\nx12 = int(24)\\nx21 = 33\\nx22 = float(33)\\nz = complex(x11)\\n\\nl1 = [1,2,3]\\nt1 = (4,5,6)\\nl2 = tuple(l1)\\nt2 = list(t1)\\n\\nc1 = set(l1)\\n\\nr1 = list()\\nr2 = tuple()\\nr3 = set()',\n",
       "  'type(x22)',\n",
       "  'c1',\n",
       "  'r3',\n",
       "  'lista1 = [1,2,3]',\n",
       "  'lista2 = lista1',\n",
       "  'print(lista1)\\nprint(lista2)',\n",
       "  'lista2[1]= 99',\n",
       "  'print(lista1)\\nprint(lista2)',\n",
       "  'lista1.append(88)',\n",
       "  'print(lista1)\\nprint(lista2)',\n",
       "  'lista3 = lista1.copy()',\n",
       "  'lista3.append(77)',\n",
       "  'print(lista1)\\nprint(lista2)\\nprint(lista3)',\n",
       "  'lista1.append(66)',\n",
       "  'print(lista1)\\nprint(lista2)\\nprint(lista3)',\n",
       "  'v1 = 99',\n",
       "  'print(isinstance(v1, int), isinstance(v1, float)) ',\n",
       "  \"A = {'casa', 'perro', 1, 1+5j, 90, 90.0}; print(A)\\nB = {1, 3.2, 25, 90.0}; print(B)\",\n",
       "  \"# INCLUSION DE ELEMENTOS\\nprint('gato' in A)\\nprint('perro' in A)\",\n",
       "  '{1, 90} in A',\n",
       "  '# UNION DE DOS O MAS CONJUNTOS\\nprint(A | B)\\nprint(B | A)',\n",
       "  \"A | (25,6,'gato')\",\n",
       "  'B.intersection(A)',\n",
       "  '# DIFERENCIA DE CONJUNTOS',\n",
       "  'A - B',\n",
       "  'A.difference(B)',\n",
       "  \"A | (25,6,'gato')\",\n",
       "  'A.union(B)',\n",
       "  \"A.union((25,6,'gato'))\",\n",
       "  '# INTERSECCIÓN DE DOS O MÁS CONJUNTOS\\nA & B',\n",
       "  \"A | (25,6,'gato')\",\n",
       "  'A.union(B)',\n",
       "  \"C={25,6,'gato'}\\n\\n# Esto no va, no se puede unir un conjuntto y una tupla A | (25,6,'gato')\\nprint(A|C)\",\n",
       "  \"C={25,6,'gato'}\\n\\n# Esto no va, no se puede unir un conjunto y una tupla A | (25,6,'gato')\\nprint(A|C)\",\n",
       "  'A.union(B)',\n",
       "  \"A.union((25,6,'gato'))\",\n",
       "  '# INTERSECCIÓN DE DOS O MÁS CONJUNTOS\\nA & B',\n",
       "  'B.intersection(A)',\n",
       "  '# DIFERENCIA DE CONJUNTOS',\n",
       "  'A - B',\n",
       "  'A.difference(B)',\n",
       "  '# Diferencia simétrica\\nA ^ B',\n",
       "  'A.union(B).difference(A.intersection(B))',\n",
       "  '# Comprobación de si existen elementos en común.\\nA.isdisjoint(B)',\n",
       "  '{1, 90}.issubset(A) #inclusión de subconjuntos',\n",
       "  '{1, 90} < A',\n",
       "  '{1, 90} <= A',\n",
       "  \"str1 = 'Hablen niños ratas de las UEM'\",\n",
       "  \"str1.split('las') # Genera una lista con cada fragmento de la cadena en una posición según el separador indicado.\",\n",
       "  'print(str1.lower()) # en minúsculas\\nprint(str1.upper()) # en mayúsculas',\n",
       "  \"str1.strip(' ') # elimina el caracter indicado.\",\n",
       "  'print(str1) # parar imprimir cadenas de texto.',\n",
       "  'len(str1) #longitud de un objeto, que tenga medida',\n",
       "  'globals() #listar variables'],\n",
       " '_oh': {2: float,\n",
       "  3: {1, 2, 3},\n",
       "  4: set(),\n",
       "  21: False,\n",
       "  24: {1, 90.0},\n",
       "  26: {(1+5j), 'casa', 'perro'},\n",
       "  27: {(1+5j), 'casa', 'perro'},\n",
       "  29: {(1+5j), 1, 25, 3.2, 90, 'casa', 'perro'},\n",
       "  30: {(1+5j), 1, 25, 6, 90, 'casa', 'gato', 'perro'},\n",
       "  31: {1, 90.0},\n",
       "  33: {(1+5j), 1, 25, 3.2, 90, 'casa', 'perro'},\n",
       "  36: {(1+5j), 1, 25, 3.2, 90, 'casa', 'perro'},\n",
       "  37: {(1+5j), 1, 25, 6, 90, 'casa', 'gato', 'perro'},\n",
       "  38: {1, 90.0},\n",
       "  39: {1, 90.0},\n",
       "  41: {(1+5j), 'casa', 'perro'},\n",
       "  42: {(1+5j), 'casa', 'perro'},\n",
       "  43: {(1+5j), 25, 3.2, 'casa', 'perro'},\n",
       "  44: {(1+5j), 25, 3.2, 'casa', 'perro'},\n",
       "  45: False,\n",
       "  46: True,\n",
       "  47: True,\n",
       "  48: True,\n",
       "  50: ['Hablen niños ratas de ', ' UEM'],\n",
       "  52: 'Hablen niños ratas de las UEM',\n",
       "  54: 29},\n",
       " '_dh': [WindowsPath('C:/Users/user/PCD/PCD_2023/CrashCourse')],\n",
       " 'In': ['',\n",
       "  'x11 = 24\\nx12 = int(24)\\nx21 = 33\\nx22 = float(33)\\nz = complex(x11)\\n\\nl1 = [1,2,3]\\nt1 = (4,5,6)\\nl2 = tuple(l1)\\nt2 = list(t1)\\n\\nc1 = set(l1)\\n\\nr1 = list()\\nr2 = tuple()\\nr3 = set()',\n",
       "  'type(x22)',\n",
       "  'c1',\n",
       "  'r3',\n",
       "  'lista1 = [1,2,3]',\n",
       "  'lista2 = lista1',\n",
       "  'print(lista1)\\nprint(lista2)',\n",
       "  'lista2[1]= 99',\n",
       "  'print(lista1)\\nprint(lista2)',\n",
       "  'lista1.append(88)',\n",
       "  'print(lista1)\\nprint(lista2)',\n",
       "  'lista3 = lista1.copy()',\n",
       "  'lista3.append(77)',\n",
       "  'print(lista1)\\nprint(lista2)\\nprint(lista3)',\n",
       "  'lista1.append(66)',\n",
       "  'print(lista1)\\nprint(lista2)\\nprint(lista3)',\n",
       "  'v1 = 99',\n",
       "  'print(isinstance(v1, int), isinstance(v1, float)) ',\n",
       "  \"A = {'casa', 'perro', 1, 1+5j, 90, 90.0}; print(A)\\nB = {1, 3.2, 25, 90.0}; print(B)\",\n",
       "  \"# INCLUSION DE ELEMENTOS\\nprint('gato' in A)\\nprint('perro' in A)\",\n",
       "  '{1, 90} in A',\n",
       "  '# UNION DE DOS O MAS CONJUNTOS\\nprint(A | B)\\nprint(B | A)',\n",
       "  \"A | (25,6,'gato')\",\n",
       "  'B.intersection(A)',\n",
       "  '# DIFERENCIA DE CONJUNTOS',\n",
       "  'A - B',\n",
       "  'A.difference(B)',\n",
       "  \"A | (25,6,'gato')\",\n",
       "  'A.union(B)',\n",
       "  \"A.union((25,6,'gato'))\",\n",
       "  '# INTERSECCIÓN DE DOS O MÁS CONJUNTOS\\nA & B',\n",
       "  \"A | (25,6,'gato')\",\n",
       "  'A.union(B)',\n",
       "  \"C={25,6,'gato'}\\n\\n# Esto no va, no se puede unir un conjuntto y una tupla A | (25,6,'gato')\\nprint(A|C)\",\n",
       "  \"C={25,6,'gato'}\\n\\n# Esto no va, no se puede unir un conjunto y una tupla A | (25,6,'gato')\\nprint(A|C)\",\n",
       "  'A.union(B)',\n",
       "  \"A.union((25,6,'gato'))\",\n",
       "  '# INTERSECCIÓN DE DOS O MÁS CONJUNTOS\\nA & B',\n",
       "  'B.intersection(A)',\n",
       "  '# DIFERENCIA DE CONJUNTOS',\n",
       "  'A - B',\n",
       "  'A.difference(B)',\n",
       "  '# Diferencia simétrica\\nA ^ B',\n",
       "  'A.union(B).difference(A.intersection(B))',\n",
       "  '# Comprobación de si existen elementos en común.\\nA.isdisjoint(B)',\n",
       "  '{1, 90}.issubset(A) #inclusión de subconjuntos',\n",
       "  '{1, 90} < A',\n",
       "  '{1, 90} <= A',\n",
       "  \"str1 = 'Hablen niños ratas de las UEM'\",\n",
       "  \"str1.split('las') # Genera una lista con cada fragmento de la cadena en una posición según el separador indicado.\",\n",
       "  'print(str1.lower()) # en minúsculas\\nprint(str1.upper()) # en mayúsculas',\n",
       "  \"str1.strip(' ') # elimina el caracter indicado.\",\n",
       "  'print(str1) # parar imprimir cadenas de texto.',\n",
       "  'len(str1) #longitud de un objeto, que tenga medida',\n",
       "  'globals() #listar variables'],\n",
       " 'Out': {2: float,\n",
       "  3: {1, 2, 3},\n",
       "  4: set(),\n",
       "  21: False,\n",
       "  24: {1, 90.0},\n",
       "  26: {(1+5j), 'casa', 'perro'},\n",
       "  27: {(1+5j), 'casa', 'perro'},\n",
       "  29: {(1+5j), 1, 25, 3.2, 90, 'casa', 'perro'},\n",
       "  30: {(1+5j), 1, 25, 6, 90, 'casa', 'gato', 'perro'},\n",
       "  31: {1, 90.0},\n",
       "  33: {(1+5j), 1, 25, 3.2, 90, 'casa', 'perro'},\n",
       "  36: {(1+5j), 1, 25, 3.2, 90, 'casa', 'perro'},\n",
       "  37: {(1+5j), 1, 25, 6, 90, 'casa', 'gato', 'perro'},\n",
       "  38: {1, 90.0},\n",
       "  39: {1, 90.0},\n",
       "  41: {(1+5j), 'casa', 'perro'},\n",
       "  42: {(1+5j), 'casa', 'perro'},\n",
       "  43: {(1+5j), 25, 3.2, 'casa', 'perro'},\n",
       "  44: {(1+5j), 25, 3.2, 'casa', 'perro'},\n",
       "  45: False,\n",
       "  46: True,\n",
       "  47: True,\n",
       "  48: True,\n",
       "  50: ['Hablen niños ratas de ', ' UEM'],\n",
       "  52: 'Hablen niños ratas de las UEM',\n",
       "  54: 29},\n",
       " 'get_ipython': <bound method InteractiveShell.get_ipython of <ipykernel.zmqshell.ZMQInteractiveShell object at 0x000002830F951D90>>,\n",
       " 'exit': <IPython.core.autocall.ZMQExitAutocall at 0x2830f966690>,\n",
       " 'quit': <IPython.core.autocall.ZMQExitAutocall at 0x2830f966690>,\n",
       " 'open': <function io.open(file, mode='r', buffering=-1, encoding=None, errors=None, newline=None, closefd=True, opener=None)>,\n",
       " '_': 29,\n",
       " '__': 'Hablen niños ratas de las UEM',\n",
       " '___': ['Hablen niños ratas de ', ' UEM'],\n",
       " '__session__': 'C:\\\\Users\\\\user\\\\PCD\\\\PCD_2023\\\\CrashCourse\\\\Python_crash_course_session_2.ipynb',\n",
       " '_i': 'len(str1) #longitud de un objeto, que tenga medida',\n",
       " '_ii': 'print(str1) # parar imprimir cadenas de texto.',\n",
       " '_iii': \"str1.strip(' ') # elimina el caracter indicado.\",\n",
       " '_i1': 'x11 = 24\\nx12 = int(24)\\nx21 = 33\\nx22 = float(33)\\nz = complex(x11)\\n\\nl1 = [1,2,3]\\nt1 = (4,5,6)\\nl2 = tuple(l1)\\nt2 = list(t1)\\n\\nc1 = set(l1)\\n\\nr1 = list()\\nr2 = tuple()\\nr3 = set()',\n",
       " 'x11': 24,\n",
       " 'x12': 24,\n",
       " 'x21': 33,\n",
       " 'x22': 33.0,\n",
       " 'z': (24+0j),\n",
       " 'l1': [1, 2, 3],\n",
       " 't1': (4, 5, 6),\n",
       " 'l2': (1, 2, 3),\n",
       " 't2': [4, 5, 6],\n",
       " 'c1': {1, 2, 3},\n",
       " 'r1': [],\n",
       " 'r2': (),\n",
       " 'r3': set(),\n",
       " '_i2': 'type(x22)',\n",
       " '_2': float,\n",
       " '_i3': 'c1',\n",
       " '_3': {1, 2, 3},\n",
       " '_i4': 'r3',\n",
       " '_4': set(),\n",
       " '_i5': 'lista1 = [1,2,3]',\n",
       " 'lista1': [1, 99, 3, 88, 66],\n",
       " '_i6': 'lista2 = lista1',\n",
       " 'lista2': [1, 99, 3, 88, 66],\n",
       " '_i7': 'print(lista1)\\nprint(lista2)',\n",
       " '_i8': 'lista2[1]= 99',\n",
       " '_i9': 'print(lista1)\\nprint(lista2)',\n",
       " '_i10': 'lista1.append(88)',\n",
       " '_i11': 'print(lista1)\\nprint(lista2)',\n",
       " '_i12': 'lista3 = lista1.copy()',\n",
       " 'lista3': [1, 99, 3, 88, 77],\n",
       " '_i13': 'lista3.append(77)',\n",
       " '_i14': 'print(lista1)\\nprint(lista2)\\nprint(lista3)',\n",
       " '_i15': 'lista1.append(66)',\n",
       " '_i16': 'print(lista1)\\nprint(lista2)\\nprint(lista3)',\n",
       " '_i17': 'v1 = 99',\n",
       " 'v1': 99,\n",
       " '_i18': 'print(isinstance(v1, int), isinstance(v1, float)) ',\n",
       " '_i19': \"A = {'casa', 'perro', 1, 1+5j, 90, 90.0}; print(A)\\nB = {1, 3.2, 25, 90.0}; print(B)\",\n",
       " 'A': {(1+5j), 1, 90, 'casa', 'perro'},\n",
       " 'B': {1, 3.2, 25, 90.0},\n",
       " '_i20': \"# INCLUSION DE ELEMENTOS\\nprint('gato' in A)\\nprint('perro' in A)\",\n",
       " '_i21': '{1, 90} in A',\n",
       " '_21': False,\n",
       " '_i22': '# UNION DE DOS O MAS CONJUNTOS\\nprint(A | B)\\nprint(B | A)',\n",
       " '_i23': \"A | (25,6,'gato')\",\n",
       " '_i24': 'B.intersection(A)',\n",
       " '_24': {1, 90.0},\n",
       " '_i25': '# DIFERENCIA DE CONJUNTOS',\n",
       " '_i26': 'A - B',\n",
       " '_26': {(1+5j), 'casa', 'perro'},\n",
       " '_i27': 'A.difference(B)',\n",
       " '_27': {(1+5j), 'casa', 'perro'},\n",
       " '_i28': \"A | (25,6,'gato')\",\n",
       " '_i29': 'A.union(B)',\n",
       " '_29': {(1+5j), 1, 25, 3.2, 90, 'casa', 'perro'},\n",
       " '_i30': \"A.union((25,6,'gato'))\",\n",
       " '_30': {(1+5j), 1, 25, 6, 90, 'casa', 'gato', 'perro'},\n",
       " '_i31': '# INTERSECCIÓN DE DOS O MÁS CONJUNTOS\\nA & B',\n",
       " '_31': {1, 90.0},\n",
       " '_i32': \"A | (25,6,'gato')\",\n",
       " '_i33': 'A.union(B)',\n",
       " '_33': {(1+5j), 1, 25, 3.2, 90, 'casa', 'perro'},\n",
       " '_i34': \"C={25,6,'gato'}\\n\\n# Esto no va, no se puede unir un conjuntto y una tupla A | (25,6,'gato')\\nprint(A|C)\",\n",
       " 'C': {25, 6, 'gato'},\n",
       " '_i35': \"C={25,6,'gato'}\\n\\n# Esto no va, no se puede unir un conjunto y una tupla A | (25,6,'gato')\\nprint(A|C)\",\n",
       " '_i36': 'A.union(B)',\n",
       " '_36': {(1+5j), 1, 25, 3.2, 90, 'casa', 'perro'},\n",
       " '_i37': \"A.union((25,6,'gato'))\",\n",
       " '_37': {(1+5j), 1, 25, 6, 90, 'casa', 'gato', 'perro'},\n",
       " '_i38': '# INTERSECCIÓN DE DOS O MÁS CONJUNTOS\\nA & B',\n",
       " '_38': {1, 90.0},\n",
       " '_i39': 'B.intersection(A)',\n",
       " '_39': {1, 90.0},\n",
       " '_i40': '# DIFERENCIA DE CONJUNTOS',\n",
       " '_i41': 'A - B',\n",
       " '_41': {(1+5j), 'casa', 'perro'},\n",
       " '_i42': 'A.difference(B)',\n",
       " '_42': {(1+5j), 'casa', 'perro'},\n",
       " '_i43': '# Diferencia simétrica\\nA ^ B',\n",
       " '_43': {(1+5j), 25, 3.2, 'casa', 'perro'},\n",
       " '_i44': 'A.union(B).difference(A.intersection(B))',\n",
       " '_44': {(1+5j), 25, 3.2, 'casa', 'perro'},\n",
       " '_i45': '# Comprobación de si existen elementos en común.\\nA.isdisjoint(B)',\n",
       " '_45': False,\n",
       " '_i46': '{1, 90}.issubset(A) #inclusión de subconjuntos',\n",
       " '_46': True,\n",
       " '_i47': '{1, 90} < A',\n",
       " '_47': True,\n",
       " '_i48': '{1, 90} <= A',\n",
       " '_48': True,\n",
       " '_i49': \"str1 = 'Hablen niños ratas de las UEM'\",\n",
       " 'str1': 'Hablen niños ratas de las UEM',\n",
       " '_i50': \"str1.split('las') # Genera una lista con cada fragmento de la cadena en una posición según el separador indicado.\",\n",
       " '_50': ['Hablen niños ratas de ', ' UEM'],\n",
       " '_i51': 'print(str1.lower()) # en minúsculas\\nprint(str1.upper()) # en mayúsculas',\n",
       " '_i52': \"str1.strip(' ') # elimina el caracter indicado.\",\n",
       " '_52': 'Hablen niños ratas de las UEM',\n",
       " '_i53': 'print(str1) # parar imprimir cadenas de texto.',\n",
       " '_i54': 'len(str1) #longitud de un objeto, que tenga medida',\n",
       " '_54': 29,\n",
       " '_i55': 'globals() #listar variables'}"
      ]
     },
     "execution_count": 55,
     "metadata": {},
     "output_type": "execute_result"
    }
   ],
   "source": [
    "globals() #listar variables"
   ]
  },
  {
   "cell_type": "code",
   "execution_count": 56,
   "id": "0372790f",
   "metadata": {},
   "outputs": [
    {
     "data": {
      "text/plain": [
       "['A',\n",
       " 'B',\n",
       " 'C',\n",
       " 'In',\n",
       " 'Out',\n",
       " '_',\n",
       " '_2',\n",
       " '_21',\n",
       " '_24',\n",
       " '_26',\n",
       " '_27',\n",
       " '_29',\n",
       " '_3',\n",
       " '_30',\n",
       " '_31',\n",
       " '_33',\n",
       " '_36',\n",
       " '_37',\n",
       " '_38',\n",
       " '_39',\n",
       " '_4',\n",
       " '_41',\n",
       " '_42',\n",
       " '_43',\n",
       " '_44',\n",
       " '_45',\n",
       " '_46',\n",
       " '_47',\n",
       " '_48',\n",
       " '_50',\n",
       " '_52',\n",
       " '_54',\n",
       " '_55',\n",
       " '__',\n",
       " '___',\n",
       " '__builtin__',\n",
       " '__builtins__',\n",
       " '__doc__',\n",
       " '__loader__',\n",
       " '__name__',\n",
       " '__package__',\n",
       " '__session__',\n",
       " '__spec__',\n",
       " '_dh',\n",
       " '_i',\n",
       " '_i1',\n",
       " '_i10',\n",
       " '_i11',\n",
       " '_i12',\n",
       " '_i13',\n",
       " '_i14',\n",
       " '_i15',\n",
       " '_i16',\n",
       " '_i17',\n",
       " '_i18',\n",
       " '_i19',\n",
       " '_i2',\n",
       " '_i20',\n",
       " '_i21',\n",
       " '_i22',\n",
       " '_i23',\n",
       " '_i24',\n",
       " '_i25',\n",
       " '_i26',\n",
       " '_i27',\n",
       " '_i28',\n",
       " '_i29',\n",
       " '_i3',\n",
       " '_i30',\n",
       " '_i31',\n",
       " '_i32',\n",
       " '_i33',\n",
       " '_i34',\n",
       " '_i35',\n",
       " '_i36',\n",
       " '_i37',\n",
       " '_i38',\n",
       " '_i39',\n",
       " '_i4',\n",
       " '_i40',\n",
       " '_i41',\n",
       " '_i42',\n",
       " '_i43',\n",
       " '_i44',\n",
       " '_i45',\n",
       " '_i46',\n",
       " '_i47',\n",
       " '_i48',\n",
       " '_i49',\n",
       " '_i5',\n",
       " '_i50',\n",
       " '_i51',\n",
       " '_i52',\n",
       " '_i53',\n",
       " '_i54',\n",
       " '_i55',\n",
       " '_i56',\n",
       " '_i6',\n",
       " '_i7',\n",
       " '_i8',\n",
       " '_i9',\n",
       " '_ih',\n",
       " '_ii',\n",
       " '_iii',\n",
       " '_oh',\n",
       " 'c1',\n",
       " 'exit',\n",
       " 'get_ipython',\n",
       " 'l1',\n",
       " 'l2',\n",
       " 'lista1',\n",
       " 'lista2',\n",
       " 'lista3',\n",
       " 'open',\n",
       " 'quit',\n",
       " 'r1',\n",
       " 'r2',\n",
       " 'r3',\n",
       " 'str1',\n",
       " 't1',\n",
       " 't2',\n",
       " 'v1',\n",
       " 'x11',\n",
       " 'x12',\n",
       " 'x21',\n",
       " 'x22',\n",
       " 'z']"
      ]
     },
     "execution_count": 56,
     "metadata": {},
     "output_type": "execute_result"
    }
   ],
   "source": [
    "dir() #lista de variables"
   ]
  },
  {
   "cell_type": "markdown",
   "id": "f94c366d",
   "metadata": {},
   "source": [
    "Existen disferentes comandos _mágicos_ del notebook que nos permiten hacer otras cosas"
   ]
  },
  {
   "cell_type": "code",
   "execution_count": 57,
   "id": "15c65af2",
   "metadata": {},
   "outputs": [
    {
     "name": "stdout",
     "output_type": "stream",
     "text": [
      "A\t B\t C\t c1\t l1\t l2\t lista1\t lista2\t lista3\t \n",
      "r1\t r2\t r3\t str1\t t1\t t2\t v1\t x11\t x12\t \n",
      "x21\t x22\t z\t \n"
     ]
    }
   ],
   "source": [
    "# listar variables\n",
    "%who "
   ]
  },
  {
   "cell_type": "code",
   "execution_count": 58,
   "id": "c5d7070f",
   "metadata": {},
   "outputs": [
    {
     "name": "stdout",
     "output_type": "stream",
     "text": [
      "Variable   Type       Data/Info\n",
      "-------------------------------\n",
      "A          set        {(1+5j), 'casa', 1, 'perro', 90}\n",
      "B          set        {1, 90.0, 3.2, 25}\n",
      "C          set        {25, 'gato', 6}\n",
      "c1         set        {1, 2, 3}\n",
      "l1         list       n=3\n",
      "l2         tuple      n=3\n",
      "lista1     list       n=5\n",
      "lista2     list       n=5\n",
      "lista3     list       n=5\n",
      "r1         list       n=0\n",
      "r2         tuple      n=0\n",
      "r3         set        set()\n",
      "str1       str        Hablen niños ratas de las UEM\n",
      "t1         tuple      n=3\n",
      "t2         list       n=3\n",
      "v1         int        99\n",
      "x11        int        24\n",
      "x12        int        24\n",
      "x21        int        33\n",
      "x22        float      33.0\n",
      "z          complex    (24+0j)\n"
     ]
    }
   ],
   "source": [
    "#Listar variables tipo y valor\n",
    "%whos"
   ]
  },
  {
   "cell_type": "code",
   "execution_count": 59,
   "id": "c0489500",
   "metadata": {},
   "outputs": [],
   "source": [
    "%timeit\n",
    "x=1"
   ]
  },
  {
   "cell_type": "code",
   "execution_count": 60,
   "id": "d557d888",
   "metadata": {},
   "outputs": [],
   "source": [
    "# eliminar una o varias variables\n",
    "del x12"
   ]
  },
  {
   "cell_type": "code",
   "execution_count": 61,
   "id": "8c93146e",
   "metadata": {},
   "outputs": [
    {
     "name": "stdout",
     "output_type": "stream",
     "text": [
      "A\t B\t C\t c1\t l1\t l2\t lista1\t lista2\t lista3\t \n",
      "r1\t r2\t r3\t str1\t t1\t t2\t v1\t x\t x11\t \n",
      "x21\t x22\t z\t \n"
     ]
    }
   ],
   "source": [
    "%who"
   ]
  },
  {
   "cell_type": "markdown",
   "id": "c73bdf8e",
   "metadata": {},
   "source": [
    "#### Algunos métodos de las listas"
   ]
  },
  {
   "cell_type": "code",
   "execution_count": 62,
   "id": "02aa94e2",
   "metadata": {},
   "outputs": [],
   "source": [
    "lista = [1,2,3,4,5,6,7,8,9,10]"
   ]
  },
  {
   "cell_type": "code",
   "execution_count": 63,
   "id": "4e5926d4",
   "metadata": {},
   "outputs": [],
   "source": [
    "lista.append(25) # Añade valor al final de la lista"
   ]
  },
  {
   "cell_type": "code",
   "execution_count": 64,
   "id": "0213e2a1",
   "metadata": {},
   "outputs": [
    {
     "data": {
      "text/plain": [
       "25"
      ]
     },
     "execution_count": 64,
     "metadata": {},
     "output_type": "execute_result"
    }
   ],
   "source": [
    "lista.pop() # Devuelve el último valor de la lista y lo elimina."
   ]
  },
  {
   "cell_type": "code",
   "execution_count": 65,
   "id": "c2830062",
   "metadata": {},
   "outputs": [],
   "source": [
    "otra_lista = lista.copy() # Permite copiar los valores de una lista a otra."
   ]
  },
  {
   "cell_type": "code",
   "execution_count": 66,
   "id": "6529879d",
   "metadata": {},
   "outputs": [],
   "source": [
    "lista.reverse() #invierte el orden"
   ]
  },
  {
   "cell_type": "code",
   "execution_count": 67,
   "id": "e236dc5c",
   "metadata": {},
   "outputs": [],
   "source": [
    "lista.sort() #orden la lista"
   ]
  },
  {
   "cell_type": "code",
   "execution_count": 68,
   "id": "11f5c45b",
   "metadata": {},
   "outputs": [],
   "source": [
    "lista.clear() #elimina todos los elementos."
   ]
  },
  {
   "cell_type": "markdown",
   "id": "61fcd75d",
   "metadata": {},
   "source": [
    "# Ejercicios"
   ]
  },
  {
   "cell_type": "code",
   "execution_count": 69,
   "id": "b3ae26c1",
   "metadata": {},
   "outputs": [],
   "source": [
    "from random import seed, random, randint, gauss, choice, sample"
   ]
  },
  {
   "cell_type": "code",
   "execution_count": 72,
   "id": "72c1bba7",
   "metadata": {},
   "outputs": [
    {
     "name": "stdout",
     "output_type": "stream",
     "text": [
      "[0.5714025946899135, 0.4288890546751146, 0.5780913011344704, 0.20609823213950174, 0.81332125135732, 0.8235888725334455, 0.6534725339011758, 0.16022955651881965, 0.5206693596399246, 0.32777281162209315, 0.24999667668640035, 0.9528169091459117, 0.9965569925394552, 0.04455638245043303, 0.860161037286291, 0.603190610968185, 0.3816059859191179, 0.28361821790671515, 0.674964847134956, 0.45683115105830563, 0.6858614854745947, 0.6618463200523511, 0.1329781447122128, 0.7678378139439905, 0.9824132490111909, 0.9693881604049188, 0.613326820546709, 0.0442606328646209, 0.004055144158407464, 0.13397252704913387, 0.941002271395834, 0.3028605620290723, 0.3661456016604264, 0.8981962445391883, 0.31436380495645067, 0.5489821840124055, 0.43603095762412225, 0.06499417612685054, 0.5845462257019302, 0.8440678976619022, 0.1564189183874064, 0.2242989686860415, 0.41287020771484073, 0.03692486905862902, 0.4966034986165482, 0.8179828644296319, 0.6578909387591091, 0.5334837356527721, 0.8551257407736, 0.14968813497140154, 0.5672354768631239, 0.3741748177480889, 0.6013045471136395, 0.11291570189443623, 0.7755127010728279, 0.09660583318435267, 0.16636374579324753, 0.8074497520247557, 0.9476939242234907, 0.4332315025514858, 0.41408083174830124, 0.24548187614075512, 0.274703391965577, 0.6172527709741663, 0.17846041072072527, 0.11948250433077712, 0.45573485868103825, 0.1649378065796322, 0.648724831216227, 0.821055674361497, 0.7775113893753993, 0.48013339022434753, 0.34757125622081697, 0.4347105489944344, 0.005008574909348362, 0.7125732007896374, 0.33165722263549546, 0.31942323776053394, 0.07992503242021254, 0.44805592600101607, 0.5828489673005941, 0.390586941842884, 0.8695455453974028, 0.6733532167485129, 0.2414082418108049, 0.5253538488765902, 0.9105338176465975, 0.5201096943214129, 0.6021048687389493, 0.06277362381152096, 0.48938611652176434, 0.4614412627964344, 0.4011298800689024, 0.4204353581465221, 0.5849350493343958, 0.5386670484231432, 0.4898957587909363, 0.16579644053220766, 0.4413468174535875, 0.9686781985609425, 0.4151736932178327, 0.035317829787831156, 0.002830426682370324, 0.5354184513162129, 0.05057294182209637, 0.09274340534219172, 0.10875641262696911, 0.4540783303488197, 0.9926880657637538, 0.48505535080507134]\n"
     ]
    }
   ],
   "source": [
    "seed(10)\n",
    "lista = [random() for i in range(110)]\n",
    "print(lista)"
   ]
  },
  {
   "cell_type": "markdown",
   "id": "65b6aa1e",
   "metadata": {},
   "source": [
    "### Suma de los elementos de una lista"
   ]
  },
  {
   "cell_type": "code",
   "execution_count": 73,
   "id": "72562a98",
   "metadata": {},
   "outputs": [
    {
     "name": "stdout",
     "output_type": "stream",
     "text": [
      "51.49819082364045\n"
     ]
    }
   ],
   "source": [
    "suma = 0\n",
    "for numero in lista:\n",
    "    suma = suma + numero\n",
    "print(suma)\n"
   ]
  },
  {
   "cell_type": "markdown",
   "id": "859e60e1",
   "metadata": {},
   "source": [
    "### Recuento de los elementos de una lista"
   ]
  },
  {
   "cell_type": "code",
   "execution_count": 82,
   "id": "8fcfaaee",
   "metadata": {},
   "outputs": [
    {
     "name": "stdout",
     "output_type": "stream",
     "text": [
      "110\n"
     ]
    }
   ],
   "source": [
    "recuento = 0\n",
    "for numero in lista:\n",
    "    recuento = recuento + 1\n",
    "print(recuento)"
   ]
  },
  {
   "cell_type": "code",
   "execution_count": 83,
   "id": "ae768438",
   "metadata": {},
   "outputs": [],
   "source": [
    "def recuento(ls1):\n",
    "    \"\"\"Función que aceptada como entrada una lista de números y \n",
    "    realiza la suma de sus elementos\"\"\"\n",
    "    x = 0\n",
    "    for i in ls1:\n",
    "        x = x + 1\n",
    "    return x"
   ]
  },
  {
   "cell_type": "code",
   "execution_count": 77,
   "id": "6291c6af",
   "metadata": {},
   "outputs": [
    {
     "name": "stdout",
     "output_type": "stream",
     "text": [
      "Help on function recuento in module __main__:\n",
      "\n",
      "recuento(ls1)\n",
      "    Función que aceptada como entrada una lista de números y \n",
      "    realiza la suma de sus elementos\n",
      "\n"
     ]
    }
   ],
   "source": [
    "help(recuento)"
   ]
  },
  {
   "cell_type": "code",
   "execution_count": 78,
   "id": "17ec775b",
   "metadata": {},
   "outputs": [],
   "source": [
    "n = recuento(lista)"
   ]
  },
  {
   "cell_type": "code",
   "execution_count": 79,
   "id": "2c94d219-2603-4edc-8658-93e77ce4d434",
   "metadata": {},
   "outputs": [
    {
     "name": "stdout",
     "output_type": "stream",
     "text": [
      "110\n"
     ]
    }
   ],
   "source": [
    "print(n)"
   ]
  },
  {
   "cell_type": "markdown",
   "id": "05d92aff",
   "metadata": {},
   "source": [
    "### Programa una función que devuelva la varianza y desviación típica de los valores de una lista\n",
    "$$S^2=\\frac{1}{n}\\sum_{i=1}^n (x_i - \\bar{x})^2$$"
   ]
  },
  {
   "cell_type": "code",
   "execution_count": 97,
   "id": "2a7b2dd8",
   "metadata": {},
   "outputs": [],
   "source": [
    "def varianza(ls):\n",
    "    \"\"\"Función que calcula la varianza y desviación típica de los valores de \n",
    "    una lista de números.\"\"\"\n",
    "    suma = 0\n",
    "    recuento = 0\n",
    "    for x in ls:\n",
    "        suma = suma + x\n",
    "        recuento = recuento + 1\n",
    "    media = suma / recuento\n",
    "    \n",
    "    var = 0\n",
    "    for x in ls:\n",
    "        var = var + (x - media)**2\n",
    "    var = var / recuento\n",
    "    \n",
    "    sd = var**(1/2)\n",
    "    \n",
    "    return [var, sd]\n",
    "import math\n",
    "def calcular_varianza_desviacion(lista):\n",
    "    if len(lista) == 0:\n",
    "        return {\"varianza\": None, \"desviacion_estandar\": None}\n",
    "\n",
    "    # Calcula la media de la lista\n",
    "    media = sum(lista) / len(lista)\n",
    "\n",
    "    # Calcula la varianza\n",
    "    varianza = sum((x - media) ** 2 for x in lista) / len(lista)\n",
    "\n",
    "    # Calcula la desviación estándar (raíz cuadrada de la varianza)\n",
    "    desviacion_estandar = math.sqrt(varianza)\n",
    "\n",
    "    resultado = {\n",
    "        \"varianza\": varianza,\n",
    "        \"desviacion_estandar\": desviacion_estandar\n",
    "    }\n",
    "\n",
    "    return resultado"
   ]
  },
  {
   "cell_type": "code",
   "execution_count": 98,
   "id": "a3a55898",
   "metadata": {},
   "outputs": [
    {
     "name": "stdout",
     "output_type": "stream",
     "text": [
      "[0.07734847071724686, 0.27811593035503535]\n"
     ]
    },
    {
     "data": {
      "text/plain": [
       "{'varianza': 0.07734847071724686, 'desviacion_estandar': 0.27811593035503535}"
      ]
     },
     "execution_count": 98,
     "metadata": {},
     "output_type": "execute_result"
    }
   ],
   "source": [
    "print(varianza(lista))\n",
    "calcular_varianza_desviacion(lista)"
   ]
  },
  {
   "cell_type": "markdown",
   "id": "960aaf95",
   "metadata": {},
   "source": [
    "### Factorial de un número\n",
    "\n",
    "$$n!=1\\cdot 2\\cdot...\\cdot (n-1)\\cdot n = n\\cdot (n-1)!$$"
   ]
  },
  {
   "cell_type": "code",
   "execution_count": 100,
   "id": "56db99cc",
   "metadata": {},
   "outputs": [],
   "source": [
    "def factorial(n):\n",
    "    if n < 0:\n",
    "        return None  # El factorial no está definido para números negativos\n",
    "    if n == 0:\n",
    "        return 1  # El factorial de 0 es 1\n",
    "\n",
    "    resultado = 1\n",
    "    for i in range(1, n + 1):\n",
    "        resultado *= i\n",
    "    return resultado"
   ]
  },
  {
   "cell_type": "code",
   "execution_count": 103,
   "id": "051eb8a9",
   "metadata": {},
   "outputs": [
    {
     "name": "stdout",
     "output_type": "stream",
     "text": [
      "121 ns ± 3.67 ns per loop (mean ± std. dev. of 7 runs, 10,000,000 loops each)\n"
     ]
    }
   ],
   "source": [
    "%%timeit\n",
    "factorial(0)"
   ]
  },
  {
   "cell_type": "code",
   "execution_count": 106,
   "id": "10c073c7-a294-4f1b-8ff6-57710f6b05ad",
   "metadata": {},
   "outputs": [
    {
     "name": "stdout",
     "output_type": "stream",
     "text": [
      "3628800\n"
     ]
    }
   ],
   "source": [
    "print(factorial(10))"
   ]
  },
  {
   "cell_type": "code",
   "execution_count": 107,
   "id": "6cc35b43",
   "metadata": {},
   "outputs": [],
   "source": [
    "def factorial2(n):\n",
    "    \"\"\"...\"\"\"\n",
    "    if n in (0,1):\n",
    "        return 1\n",
    "    else:\n",
    "        return n * factorial2(n-1)"
   ]
  },
  {
   "cell_type": "code",
   "execution_count": 108,
   "id": "be225cdd",
   "metadata": {},
   "outputs": [
    {
     "data": {
      "text/plain": [
       "3628800"
      ]
     },
     "execution_count": 108,
     "metadata": {},
     "output_type": "execute_result"
    }
   ],
   "source": [
    "factorial2(10)"
   ]
  },
  {
   "cell_type": "markdown",
   "id": "ff9b7c42",
   "metadata": {},
   "source": [
    "### Programa una función que compruebe si un número es par"
   ]
  },
  {
   "cell_type": "code",
   "execution_count": 109,
   "id": "1e627b55",
   "metadata": {},
   "outputs": [],
   "source": [
    "def es_par(x):\n",
    "    \"\"\"...\"\"\"\n",
    "    return (x % 2) == 0"
   ]
  },
  {
   "cell_type": "code",
   "execution_count": 110,
   "id": "f976eed3",
   "metadata": {},
   "outputs": [],
   "source": [
    "def es_par(x):\n",
    "    \"\"\"...\"\"\"\n",
    "    if (x % 2) == 0:\n",
    "        return True\n",
    "    else:\n",
    "        return False"
   ]
  },
  {
   "cell_type": "code",
   "execution_count": 111,
   "id": "2b506dd5",
   "metadata": {},
   "outputs": [
    {
     "data": {
      "text/plain": [
       "True"
      ]
     },
     "execution_count": 111,
     "metadata": {},
     "output_type": "execute_result"
    }
   ],
   "source": [
    "es_par(14)"
   ]
  },
  {
   "cell_type": "markdown",
   "id": "38381873",
   "metadata": {},
   "source": [
    "# Serie de Fibonacci\n",
    "\n",
    "La secuencia de Fibonacci se define como $X_n = X_{n-1} + X_{n-2}$ con $X_0 = 0$ y $X_1 = 1$.\n",
    "\n",
    "Definamos una función que nos calcule el valor de la serie hasta un valor n.\n",
    "0, 1, 1, 2, 3, 5, 8, 13, 21,..."
   ]
  },
  {
   "cell_type": "code",
   "execution_count": 112,
   "id": "cd3a1ed7",
   "metadata": {},
   "outputs": [
    {
     "name": "stdout",
     "output_type": "stream",
     "text": [
      "[1, 1]\n",
      "[1, 1, 2]\n",
      "[1, 1, 2, 3]\n",
      "[1, 1, 2, 3, 5]\n"
     ]
    }
   ],
   "source": [
    "x = [1, 1];print(x)\n",
    "i = 1\n",
    "x = x + [x[0] + x[1]]\n",
    "print(x)\n",
    "x = x + [x[1] + x[2]]\n",
    "print(x)\n",
    "x = x + [x[2] + x[3]]\n",
    "print(x)"
   ]
  },
  {
   "cell_type": "code",
   "execution_count": 113,
   "id": "2f56f8f3",
   "metadata": {},
   "outputs": [
    {
     "name": "stdout",
     "output_type": "stream",
     "text": [
      "[1, 1]\n",
      "[1, 1, 2]\n",
      "[1, 1, 2, 3]\n",
      "[1, 1, 2, 3, 5]\n",
      "[1, 1, 2, 3, 5, 8]\n"
     ]
    }
   ],
   "source": [
    "x = [1, 1];print(x)\n",
    "i = 1\n",
    "x = x + [x[i-1] + x[i]]\n",
    "print(x)\n",
    "i += 1\n",
    "x = x + [x[i-1] + x[i]]\n",
    "print(x)\n",
    "i += 1\n",
    "x = x + [x[i-1] + x[i]]\n",
    "print(x)\n",
    "i += 1\n",
    "x = x + [x[i-1] + x[i]]\n",
    "print(x)"
   ]
  },
  {
   "cell_type": "code",
   "execution_count": 114,
   "id": "5c0574d2",
   "metadata": {},
   "outputs": [
    {
     "name": "stdout",
     "output_type": "stream",
     "text": [
      "[1, 1]\n"
     ]
    }
   ],
   "source": [
    "x = [1, 1]\n",
    "n = 2\n",
    "for i in range(1, n - 1):\n",
    "    x = x + [x[i] + x[i-1]]\n",
    "print(x)"
   ]
  },
  {
   "cell_type": "code",
   "execution_count": 138,
   "id": "bf71975c",
   "metadata": {},
   "outputs": [],
   "source": [
    "def serie_fibonacci(n_elem):\n",
    "    salida = []\n",
    "    a, b = 0, 1\n",
    "    for i in range(n_elem):\n",
    "        salida.append(a)\n",
    "        a, b = b, a + b\n",
    "    return salida"
   ]
  },
  {
   "cell_type": "code",
   "execution_count": 139,
   "id": "8124e1c4-e237-4a19-9af2-904840209f00",
   "metadata": {},
   "outputs": [
    {
     "data": {
      "text/plain": [
       "[0, 1, 1, 2, 3, 5, 8, 13, 21, 34]"
      ]
     },
     "execution_count": 139,
     "metadata": {},
     "output_type": "execute_result"
    }
   ],
   "source": [
    "serie_fibonacci(10)"
   ]
  },
  {
   "cell_type": "code",
   "execution_count": 140,
   "id": "21f14d82",
   "metadata": {},
   "outputs": [],
   "source": [
    "def serie_fibonacci2(n_elem=0):\n",
    "    aux = [1, 1]\n",
    "    if n_elem < 1:\n",
    "        print(\"Se debe indicar como mínimo un elemento.\")\n",
    "    elif n_elem <= 2:\n",
    "        return aux[:n_elem]\n",
    "    else:\n",
    "        for i in range(2, n_elem):\n",
    "            aux.append(sum(aux[(i-2):i]))\n",
    "        return aux"
   ]
  },
  {
   "cell_type": "markdown",
   "id": "84af9562",
   "metadata": {},
   "source": [
    "No ha sido muy complicado, pero hay otra forma de realizar su definición:"
   ]
  },
  {
   "cell_type": "code",
   "execution_count": 145,
   "id": "9dc6dce7",
   "metadata": {},
   "outputs": [
    {
     "data": {
      "text/plain": [
       "[1, 1, 2, 3, 5, 8, 13, 21, 34, 55]"
      ]
     },
     "execution_count": 145,
     "metadata": {},
     "output_type": "execute_result"
    }
   ],
   "source": [
    "def fibonacci(n):\n",
    "    a, b = 0, 1\n",
    "    for i in range(n):\n",
    "        a, b = b, a + b\n",
    "    return a\n",
    "\n",
    "serie_fibonacci2(10)"
   ]
  },
  {
   "cell_type": "code",
   "execution_count": 142,
   "id": "2abecf08",
   "metadata": {},
   "outputs": [],
   "source": [
    "def fibonacci_rec(n):\n",
    "    if n == 0:\n",
    "        resultado = 0\n",
    "    elif n == 1:\n",
    "        resultado = 1\n",
    "    else:\n",
    "        resultado = fibonacci_rec(n - 1) + fibonacci_rec(n - 2)\n",
    "    return resultado"
   ]
  },
  {
   "cell_type": "markdown",
   "id": "70797d2b",
   "metadata": {},
   "source": [
    "Como podemos ver para definir la función estamos haciendo uso de ella misma, esto es la recursión.\n",
    "\n",
    "¿cuál de las dos crees que es más rápida?\n",
    "\n",
    "<div class=\"alert alert-success\"><b>Consejo:</b> \n",
    "    \n",
    "Explora los operadores mágicos `%%time` y `%%timeit`, recuerda que debes ponerlo al principio de la celda.\n",
    "</div>\n",
    "\n",
    "Prueba a definir una función que calcule el factorial de un número natural de forma recursiva y no recursiva."
   ]
  },
  {
   "cell_type": "code",
   "execution_count": 146,
   "id": "975b0242",
   "metadata": {},
   "outputs": [
    {
     "name": "stdout",
     "output_type": "stream",
     "text": [
      "834 ns ± 41.5 ns per loop (mean ± std. dev. of 7 runs, 1,000,000 loops each)\n"
     ]
    }
   ],
   "source": [
    "%%timeit\n",
    "fibonacci(10)"
   ]
  },
  {
   "cell_type": "code",
   "execution_count": 147,
   "id": "dd599d47",
   "metadata": {},
   "outputs": [
    {
     "name": "stdout",
     "output_type": "stream",
     "text": [
      "23.3 µs ± 23.4 ns per loop (mean ± std. dev. of 7 runs, 10,000 loops each)\n"
     ]
    }
   ],
   "source": [
    "%%timeit\n",
    "fibonacci_rec(10)"
   ]
  },
  {
   "cell_type": "markdown",
   "id": "d09066e6",
   "metadata": {},
   "source": [
    "### Programa una función que aproxime al número $\\pi$ hasta cierta precisión `eps` utilizando el bucle `while` y la siguiente expresión.\n",
    "\n",
    "$$\\pi = \\sum_{k=0}^{\\infty}\\frac{2(-1)^k3^{\\frac{1}{2}-k}}{2k+1}$$\n",
    "\n",
    "$$\\frac{\\pi}{4}=\\sum_{n=0}^{\\infty}\\frac{(-1)^n}{2n+1}$$"
   ]
  },
  {
   "cell_type": "code",
   "execution_count": null,
   "id": "239f42fc",
   "metadata": {},
   "outputs": [],
   "source": [
    "2 * ((-1) ** k) * (3 ** (1 / 2 - k)) / (2 * k + 1)"
   ]
  },
  {
   "cell_type": "code",
   "execution_count": 163,
   "id": "032581ec",
   "metadata": {},
   "outputs": [
    {
     "name": "stdout",
     "output_type": "stream",
     "text": [
      "3.14159051093808\n"
     ]
    }
   ],
   "source": [
    "pi = 0\n",
    "for k in range(10):\n",
    "    pi += 2 * ((-1) ** k) * (3 ** (1 / 2 - k)) / (2 * k + 1)\n",
    "\n",
    "print(pi)"
   ]
  },
  {
   "cell_type": "code",
   "execution_count": 176,
   "id": "bb6fac11",
   "metadata": {},
   "outputs": [],
   "source": [
    "def aproxima_pi(eps):\n",
    "    \"\"\"...\"\"\"\n",
    "    pi = 0\n",
    "    k = 0\n",
    "    while (k <= 10):\n",
    "        pi += 2 * ((-1) ** k) * (3 ** (1 / 2 - k)) / (2 * k + 1)\n",
    "        print(pi)\n",
    "        k += 1\n",
    "        \n",
    "    return pi"
   ]
  },
  {
   "cell_type": "code",
   "execution_count": 177,
   "id": "ab685f52",
   "metadata": {},
   "outputs": [
    {
     "name": "stdout",
     "output_type": "stream",
     "text": [
      "3.4641016151377544\n",
      "3.0792014356780038\n",
      "3.156181471569954\n",
      "3.13785289159568\n",
      "3.1426047456630846\n",
      "3.141308785462883\n",
      "3.1416743126988376\n",
      "3.141568715941784\n",
      "3.141599773811506\n",
      "3.14159051093808\n",
      "3.1415933045030817\n"
     ]
    },
    {
     "data": {
      "text/plain": [
       "3.1415933045030817"
      ]
     },
     "execution_count": 177,
     "metadata": {},
     "output_type": "execute_result"
    }
   ],
   "source": [
    "aproxima_pi(1)"
   ]
  },
  {
   "cell_type": "markdown",
   "id": "420ad51e",
   "metadata": {},
   "source": [
    "## Programa una función que dado un número lo multiplique por 2."
   ]
  },
  {
   "cell_type": "code",
   "execution_count": 179,
   "id": "1c23d6cb",
   "metadata": {},
   "outputs": [],
   "source": [
    "def multiplica_por_dos(numero):\n",
    "    resultado = numero * 2\n",
    "    return resultado"
   ]
  },
  {
   "cell_type": "code",
   "execution_count": 181,
   "id": "81bb751e",
   "metadata": {},
   "outputs": [
    {
     "data": {
      "text/plain": [
       "4"
      ]
     },
     "execution_count": 181,
     "metadata": {},
     "output_type": "execute_result"
    }
   ],
   "source": [
    "por_dos(2)"
   ]
  },
  {
   "cell_type": "markdown",
   "id": "72a71bb5",
   "metadata": {},
   "source": [
    "## Programa una función que dados dos números proporcione su suma y su producto."
   ]
  },
  {
   "cell_type": "code",
   "execution_count": 185,
   "id": "a36c0f3e",
   "metadata": {},
   "outputs": [
    {
     "name": "stdout",
     "output_type": "stream",
     "text": [
      "La suma de 2 y 4 es 6 y el producto es 8\n"
     ]
    }
   ],
   "source": [
    "def suma_y_producto(num1, num2):\n",
    "    suma = num1 + num2\n",
    "    producto = num1 * num2\n",
    "    return suma, producto\n",
    "\n",
    "n1=2\n",
    "n2=4\n",
    "suma, producto = suma_y_producto(n1,n2)\n",
    "print(f\"La suma de {n1} y {n2} es {suma} y el producto es {producto}\")\n"
   ]
  },
  {
   "cell_type": "markdown",
   "id": "d16e4732",
   "metadata": {},
   "source": [
    "## Programa una función que calcule el área y perímetro de un rectángulo dado los dos lados"
   ]
  },
  {
   "cell_type": "code",
   "execution_count": 188,
   "id": "f121283f",
   "metadata": {},
   "outputs": [
    {
     "name": "stdout",
     "output_type": "stream",
     "text": [
      "area=  8\n",
      "perimetro=  12\n"
     ]
    }
   ],
   "source": [
    "def area_y_perimetro(lado1, lado2):\n",
    "    area = lado1 * lado2\n",
    "    perimetro = 2 * (lado1 + lado2)\n",
    "    return [area, perimetro]\n",
    "l1=2\n",
    "l2=4\n",
    "area, perimetro = area_y_perimetro(l1,l2)\n",
    "print('area= ',area)\n",
    "print('perimetro= ', perimetro)"
   ]
  },
  {
   "cell_type": "markdown",
   "id": "dedb1eed",
   "metadata": {},
   "source": [
    "## Programa una función que calcula el área y perímetro de una circunferenica dado el radio. Como salida debe proporcionar un diccionario."
   ]
  },
  {
   "cell_type": "code",
   "execution_count": 189,
   "id": "70262d06",
   "metadata": {},
   "outputs": [
    {
     "data": {
      "text/plain": [
       "3.141592653589793"
      ]
     },
     "execution_count": 189,
     "metadata": {},
     "output_type": "execute_result"
    }
   ],
   "source": [
    "import math\n",
    "\n",
    "math.pi"
   ]
  },
  {
   "cell_type": "code",
   "execution_count": 208,
   "id": "0d87bbfa",
   "metadata": {},
   "outputs": [],
   "source": [
    "def calcular_area_perimetro_circunferencia(radio):\n",
    "    if radio < 0:\n",
    "        return None \n",
    "\n",
    "    area = math.pi * radio ** 2\n",
    "    perimetro = 2 * math.pi * radio\n",
    "\n",
    "    resultado = {\n",
    "        \"area\": area,\n",
    "        \"perimetro\": perimetro\n",
    "    }\n",
    "\n",
    "    return resultado\n"
   ]
  },
  {
   "cell_type": "code",
   "execution_count": 211,
   "id": "d9d01b98",
   "metadata": {},
   "outputs": [],
   "source": [
    "Diccionario_area_perimetro = calcular_area_perimetro_circunferencia(6)"
   ]
  },
  {
   "cell_type": "code",
   "execution_count": 212,
   "id": "6dbe22ad",
   "metadata": {},
   "outputs": [
    {
     "name": "stdout",
     "output_type": "stream",
     "text": [
      "113.09733552923255\n",
      "37.69911184307752\n"
     ]
    }
   ],
   "source": [
    "print(Diccionario_area_perimetro['area'])\n",
    "print(Diccionario_area_perimetro['perimetro'])"
   ]
  },
  {
   "cell_type": "markdown",
   "id": "336f25e1",
   "metadata": {},
   "source": [
    "## Programa una función que dado un número proporcione su tabla de multiplicar."
   ]
  },
  {
   "cell_type": "code",
   "execution_count": 218,
   "id": "2678e6f8",
   "metadata": {},
   "outputs": [
    {
     "name": "stdout",
     "output_type": "stream",
     "text": [
      "9  x  1  =  9\n",
      "9  x  2  =  18\n",
      "9  x  3  =  27\n",
      "9  x  4  =  36\n",
      "9  x  5  =  45\n",
      "9  x  6  =  54\n",
      "9  x  7  =  63\n",
      "9  x  8  =  72\n",
      "9  x  9  =  81\n",
      "9  x  10  =  90\n",
      "9  x  11  =  99\n",
      "9  x  12  =  108\n",
      "9  x  13  =  117\n",
      "9  x  14  =  126\n",
      "9  x  15  =  135\n",
      "9  x  16  =  144\n",
      "9  x  17  =  153\n",
      "9  x  18  =  162\n",
      "9  x  19  =  171\n",
      "9  x  20  =  180\n"
     ]
    }
   ],
   "source": [
    "def tabla_de_multiplicar(numero, limite):\n",
    "    tabla = {}\n",
    "    for i in range(1, limite + 1):\n",
    "        producto = numero * i\n",
    "        tabla[i] = producto\n",
    "    return tabla\n",
    "\n",
    "numero= 9\n",
    "limite= 20\n",
    "\n",
    "resultado = tabla_de_multiplicar(numero,limite)\n",
    "for multiplicador, producto in resultado.items():\n",
    "    print(numero,' x ', multiplicador,\" = \",producto)"
   ]
  },
  {
   "cell_type": "markdown",
   "id": "fc283a70",
   "metadata": {},
   "source": [
    "## Programa una función que transforme grados Celsius a grados Fahrenheit $$F=\\frac{9}{5}C+32$$"
   ]
  },
  {
   "cell_type": "code",
   "execution_count": 221,
   "id": "92c166b4",
   "metadata": {},
   "outputs": [
    {
     "name": "stdout",
     "output_type": "stream",
     "text": [
      "41 a fahrenheit son 105.8\n"
     ]
    }
   ],
   "source": [
    "def celsius_a_fahrenheit(grados_celsius):\n",
    "    grados_fahrenheit = (9/5) * grados_celsius + 32\n",
    "    return grados_fahrenheit\n",
    "grados=41\n",
    "print(grados, \"a fahrenheit son\", celsius_a_fahrenheit(grados))"
   ]
  },
  {
   "cell_type": "markdown",
   "id": "d969f908",
   "metadata": {},
   "source": [
    "## Utilizando la función anterior crea un programa que proporcione una tabla de conversión de 0ºC a 100ºC de 10 en 10."
   ]
  },
  {
   "cell_type": "code",
   "execution_count": 227,
   "id": "8c044d84",
   "metadata": {},
   "outputs": [
    {
     "name": "stdout",
     "output_type": "stream",
     "text": [
      "0 a fahrenheit son 32.0\n",
      "10 a fahrenheit son 50.0\n",
      "20 a fahrenheit son 68.0\n",
      "30 a fahrenheit son 86.0\n",
      "40 a fahrenheit son 104.0\n",
      "50 a fahrenheit son 122.0\n",
      "60 a fahrenheit son 140.0\n",
      "70 a fahrenheit son 158.0\n",
      "80 a fahrenheit son 176.0\n",
      "90 a fahrenheit son 194.0\n",
      "100 a fahrenheit son 212.0\n"
     ]
    }
   ],
   "source": [
    "for grados in range(0, 101, 10):\n",
    "    print(grados, \"a fahrenheit son\", celsius_a_fahrenheit(grados))"
   ]
  },
  {
   "cell_type": "markdown",
   "id": "d7aed536",
   "metadata": {},
   "source": [
    "## Escribe un programa que reciba un número $n$ por parámetro e imprima los primeros $n$ números triangulares, junto con su índice. Los números triangulares se obtienen mediante la suma de los números naturales desde 1 hasta $n$.\n",
    "\n",
    "## Hazlo usando y sin usar la fórmula $\\sum_{i=1}^n i=n(n+1)/2$.\n",
    "¿hay diferencia en el tiempo de ejecución?"
   ]
  },
  {
   "cell_type": "code",
   "execution_count": 239,
   "id": "36fc7ab2",
   "metadata": {},
   "outputs": [
    {
     "name": "stdout",
     "output_type": "stream",
     "text": [
      "Índice: 1, Triangular: 1\n",
      "Índice: 2, Triangular: 3\n",
      "Índice: 3, Triangular: 6\n",
      "Índice: 4, Triangular: 10\n",
      "Índice: 5, Triangular: 15\n",
      "Índice: 6, Triangular: 21\n",
      "Índice: 7, Triangular: 28\n",
      "Índice: 8, Triangular: 36\n",
      "Índice: 9, Triangular: 45\n",
      "Índice: 10, Triangular: 55\n",
      "CPU times: total: 0 ns\n",
      "Wall time: 998 µs\n",
      "Índice: 1, Triangular: 1\n",
      "Índice: 2, Triangular: 3\n",
      "Índice: 3, Triangular: 6\n",
      "Índice: 4, Triangular: 10\n",
      "Índice: 5, Triangular: 15\n",
      "Índice: 6, Triangular: 21\n",
      "Índice: 7, Triangular: 28\n",
      "Índice: 8, Triangular: 36\n",
      "Índice: 9, Triangular: 45\n",
      "Índice: 10, Triangular: 55\n",
      "CPU times: total: 0 ns\n",
      "Wall time: 0 ns\n"
     ]
    }
   ],
   "source": [
    "# Usando la fórmula\n",
    "def numeros_triangulares_formula(n):\n",
    "    for i in range(1, n + 1):\n",
    "        triangular = i * (i + 1) // 2\n",
    "        print(f\"Índice: {i}, Triangular: {triangular}\")\n",
    "\n",
    "%time numeros_triangulares_formula(10)\n",
    "\n",
    "# Sin usar la fórmula\n",
    "def numeros_triangulares_sin_formula(n):\n",
    "    triangular = 0\n",
    "    for i in range(1, n + 1):\n",
    "        triangular += i\n",
    "        print(f\"Índice: {i}, Triangular: {triangular}\")\n",
    "\n",
    "%time numeros_triangulares_sin_formula(10)\n"
   ]
  },
  {
   "cell_type": "markdown",
   "id": "d21866f1",
   "metadata": {},
   "source": [
    "## Escribe un programa que imprima todas las fichas de dominó (una por línea) sin repetir."
   ]
  },
  {
   "cell_type": "code",
   "execution_count": 240,
   "id": "ece4a4aa",
   "metadata": {},
   "outputs": [
    {
     "name": "stdout",
     "output_type": "stream",
     "text": [
      "[0|0]\n",
      "[0|1]\n",
      "[0|2]\n",
      "[0|3]\n",
      "[0|4]\n",
      "[0|5]\n",
      "[0|6]\n",
      "[1|1]\n",
      "[1|2]\n",
      "[1|3]\n",
      "[1|4]\n",
      "[1|5]\n",
      "[1|6]\n",
      "[2|2]\n",
      "[2|3]\n",
      "[2|4]\n",
      "[2|5]\n",
      "[2|6]\n",
      "[3|3]\n",
      "[3|4]\n",
      "[3|5]\n",
      "[3|6]\n",
      "[4|4]\n",
      "[4|5]\n",
      "[4|6]\n",
      "[5|5]\n",
      "[5|6]\n",
      "[6|6]\n"
     ]
    }
   ],
   "source": [
    "def fichas_de_domino():\n",
    "    for i in range(7):\n",
    "        for j in range(i, 7):\n",
    "            print(f\"[{i}|{j}]\")\n",
    "\n",
    "fichas_de_domino()\n"
   ]
  },
  {
   "cell_type": "markdown",
   "id": "e4d95645",
   "metadata": {},
   "source": [
    "## Escribe una función que dado un número indique si es par o no y si es primo o no."
   ]
  },
  {
   "cell_type": "code",
   "execution_count": 244,
   "id": "e24b1060",
   "metadata": {},
   "outputs": [
    {
     "name": "stdout",
     "output_type": "stream",
     "text": [
      "2 es un número par.\n",
      "2 es un número primo.\n"
     ]
    }
   ],
   "source": [
    "def es_par_y_primo(numero):\n",
    "    # Verificar si el número es par\n",
    "    es_par = numero % 2 == 0\n",
    "\n",
    "    # Verificar si el número es primo\n",
    "    es_primo = True\n",
    "    if numero < 2:\n",
    "        es_primo = False\n",
    "    else:\n",
    "        for i in range(2, int(numero ** 0.5) + 1):\n",
    "            if numero % i == 0:\n",
    "                es_primo = False\n",
    "                break\n",
    "\n",
    "    resultado = {\n",
    "        \"es_par\": es_par,\n",
    "        \"es_primo\": es_primo\n",
    "    }\n",
    "\n",
    "    return resultado\n",
    "\n",
    "numero = 2\n",
    "resultado = es_par_y_primo(numero)\n",
    "\n",
    "es_par_mensaje = f\"{numero} es un número par.\" if resultado[\"es_par\"] else f\"{numero} no es un número par.\"\n",
    "es_primo_mensaje = f\"{numero} es un número primo.\" if resultado[\"es_primo\"] else f\"{numero} no es un número primo.\"\n",
    "\n",
    "print(es_par_mensaje)\n",
    "print(es_primo_mensaje)"
   ]
  },
  {
   "cell_type": "markdown",
   "id": "ef4c6b71",
   "metadata": {},
   "source": [
    "## Programa una implementación de la función $abs$."
   ]
  },
  {
   "cell_type": "code",
   "execution_count": 246,
   "id": "202ee7ba",
   "metadata": {},
   "outputs": [
    {
     "name": "stdout",
     "output_type": "stream",
     "text": [
      "El valor absoluto de -5 es 5\n"
     ]
    }
   ],
   "source": [
    "def absoluto(n):\n",
    "    if n > 0:\n",
    "        return n\n",
    "    else:\n",
    "        return -1*n\n",
    "\n",
    "numero = -5\n",
    "valor_absoluto = abs(numero)\n",
    "print(f\"El valor absoluto de {numero} es {valor_absoluto}\")"
   ]
  },
  {
   "cell_type": "markdown",
   "id": "5c75fa01",
   "metadata": {},
   "source": [
    "## Programa una implementción de la función $signo$."
   ]
  },
  {
   "cell_type": "code",
   "execution_count": 251,
   "id": "0751e9f8",
   "metadata": {},
   "outputs": [
    {
     "name": "stdout",
     "output_type": "stream",
     "text": [
      "El signo de 1 es 1\n"
     ]
    }
   ],
   "source": [
    "def signo(numero):\n",
    "    if numero > 0:\n",
    "        return 1\n",
    "    elif numero < 0:\n",
    "        return -1\n",
    "    else:\n",
    "        return 0\n",
    "\n",
    "numero = 1\n",
    "signo_resultado = signo(numero)\n",
    "print(f\"El signo de {numero} es {signo_resultado}\")"
   ]
  },
  {
   "cell_type": "markdown",
   "id": "c15e53ef",
   "metadata": {},
   "source": [
    "## Escribe funciónes que permitan encontrar las soluciones de un polinomio de grado dos dados sus coeficientes $a$, $b$ y $c$.\n",
    "\n",
    "## Que muestre el mínimo o máximo del polinomio."
   ]
  },
  {
   "cell_type": "code",
   "execution_count": 265,
   "id": "17be99a8",
   "metadata": {},
   "outputs": [
    {
     "name": "stdout",
     "output_type": "stream",
     "text": [
      "Soluciones: (-0.25, -1.0)\n",
      "El polinomio 4x^2 + 5x + 1 Tiene un mínimo.\n"
     ]
    }
   ],
   "source": [
    "import math\n",
    "\n",
    "def ecuacion_cuadratica(a, b, c):\n",
    "    discriminante = b**2 - 4*a*c\n",
    "    if discriminante > 0:\n",
    "        x1 = (-b + math.sqrt(discriminante)) / (2 * a)\n",
    "        x2 = (-b - math.sqrt(discriminante)) / (2 * a)\n",
    "        return x1, x2\n",
    "    elif discriminante == 0:\n",
    "        x = -b / (2 * a)\n",
    "        return x\n",
    "    else:\n",
    "        return None  # No hay soluciones reales\n",
    "\n",
    "def tiene_minimo_o_maximo(a):\n",
    "    if a > 0:\n",
    "        return \"Tiene un mínimo.\"\n",
    "    elif a < 0:\n",
    "        return \"Tiene un máximo.\"\n",
    "    else:\n",
    "        return \"No tiene ni mínimo ni máximo (lineal).\"\n",
    "\n",
    "# Ejemplo de uso:\n",
    "coeficiente_a = 4\n",
    "coeficiente_b = 5\n",
    "coeficiente_c = 1\n",
    "\n",
    "soluciones = ecuacion_cuadratica(coeficiente_a, coeficiente_b, coeficiente_c)\n",
    "tipo_extremo = tiene_minimo_o_maximo(coeficiente_a)\n",
    "\n",
    "print(f\"Soluciones: {soluciones}\")\n",
    "print(f\"El polinomio {coeficiente_a}x^2 + {coeficiente_b}x + {coeficiente_c} {tipo_extremo}\")\n"
   ]
  },
  {
   "cell_type": "markdown",
   "id": "45bd8725",
   "metadata": {},
   "source": [
    "## Escribe una función que dado un número entero devuelva su descomposición en factores primos."
   ]
  },
  {
   "cell_type": "code",
   "execution_count": 271,
   "id": "77853595",
   "metadata": {},
   "outputs": [
    {
     "name": "stdout",
     "output_type": "stream",
     "text": [
      "Descomposición en factores primos de 9: [3, 3]\n"
     ]
    }
   ],
   "source": [
    "def descomposicion_en_factores_primos(numero):\n",
    "    factores_primos = []\n",
    "    divisor = 2\n",
    "\n",
    "    while numero > 1:\n",
    "        while numero % divisor == 0:\n",
    "            factores_primos.append(divisor)\n",
    "            numero //= divisor\n",
    "        divisor += 1\n",
    "\n",
    "    return factores_primos\n",
    "\n",
    "\n",
    "numero = 9 \n",
    "factores = descomposicion_en_factores_primos(numero)\n",
    "print(f\"Descomposición en factores primos de {numero}: {factores}\")\n"
   ]
  },
  {
   "cell_type": "markdown",
   "id": "760932c8",
   "metadata": {},
   "source": [
    "## Programa una función que solicite por pantalla un número y permita al usuario introducirlo para luego imprimirlo por pantalla.\n",
    "\n",
    "## Usa la función `input` de python."
   ]
  },
  {
   "cell_type": "code",
   "execution_count": 272,
   "id": "00d2def5",
   "metadata": {},
   "outputs": [
    {
     "name": "stdin",
     "output_type": "stream",
     "text": [
      " 1\n"
     ]
    }
   ],
   "source": [
    "x = input()"
   ]
  },
  {
   "cell_type": "code",
   "execution_count": 273,
   "id": "16c88ab9",
   "metadata": {},
   "outputs": [
    {
     "name": "stdout",
     "output_type": "stream",
     "text": [
      "Introduzca un valor:\n"
     ]
    },
    {
     "name": "stdin",
     "output_type": "stream",
     "text": [
      " 3\n"
     ]
    },
    {
     "name": "stdout",
     "output_type": "stream",
     "text": [
      "El numero introducido es 3\n"
     ]
    }
   ],
   "source": [
    "print('Introduzca un valor:')\n",
    "x = int(input())\n",
    "print(\"El numero introducido es\",x)"
   ]
  },
  {
   "cell_type": "code",
   "execution_count": 274,
   "id": "99d1389b-aa33-4bbb-9aa9-3d6137eeb645",
   "metadata": {},
   "outputs": [
    {
     "data": {
      "text/plain": [
       "4"
      ]
     },
     "execution_count": 274,
     "metadata": {},
     "output_type": "execute_result"
    }
   ],
   "source": [
    "1+x"
   ]
  },
  {
   "cell_type": "code",
   "execution_count": 276,
   "id": "f84b4a2a-9367-4235-8ea1-22801c345576",
   "metadata": {},
   "outputs": [
    {
     "name": "stdin",
     "output_type": "stream",
     "text": [
      "Por favor, ingresa un número:  9\n"
     ]
    },
    {
     "name": "stdout",
     "output_type": "stream",
     "text": [
      "El número ingresado es: 9\n"
     ]
    }
   ],
   "source": [
    "def solicitar_numero():\n",
    "    numero = input(\"Por favor, ingresa un número: \")\n",
    "    print(\"El número ingresado es:\", numero)\n",
    "\n",
    "\n",
    "solicitar_numero()\n"
   ]
  },
  {
   "cell_type": "markdown",
   "id": "bca767ff",
   "metadata": {},
   "source": [
    "## Escribe una función que tenga una contraseña inventada, que le pregunte la contraseña inventada y no le permita continuar al usuario hasta que la haya ingresado correctamente."
   ]
  },
  {
   "cell_type": "code",
   "execution_count": 281,
   "id": "95f1623f-d406-42a6-b936-44e57804b59a",
   "metadata": {},
   "outputs": [
    {
     "name": "stdin",
     "output_type": "stream",
     "text": [
      "Ingresa la contraseña:  123\n"
     ]
    },
    {
     "name": "stdout",
     "output_type": "stream",
     "text": [
      "¡Contraseña correcta! Acceso permitido.\n"
     ]
    }
   ],
   "source": [
    "def verificar_contrasena():\n",
    "    contrasena_correcta = \"123\" \n",
    "    seguir= True\n",
    "    while seguir:\n",
    "        contrasena_ingresada = input(\"Ingresa la contraseña: \")\n",
    "\n",
    "        if contrasena_ingresada == contrasena_correcta:\n",
    "            print(\"¡Contraseña correcta! Acceso permitido.\")\n",
    "            seguir=False\n",
    "        else:\n",
    "            print(\"Contraseña incorrecta. Inténtalo de nuevo.\")\n",
    "\n",
    "# Llama a la función para verificar la contraseña\n",
    "verificar_contrasena()\n"
   ]
  },
  {
   "cell_type": "markdown",
   "id": "26ac9952",
   "metadata": {},
   "source": [
    "## Modificación la función anterior para que solo permita un número determinado de intentos y le indique al usuario cuántos intentos le quedan."
   ]
  },
  {
   "cell_type": "code",
   "execution_count": 284,
   "id": "e93e9b07",
   "metadata": {},
   "outputs": [
    {
     "name": "stdin",
     "output_type": "stream",
     "text": [
      "Ingresa la contraseña:  1\n"
     ]
    },
    {
     "name": "stdout",
     "output_type": "stream",
     "text": [
      "Contraseña incorrecta. Te quedan 2 intentos.\n"
     ]
    },
    {
     "name": "stdin",
     "output_type": "stream",
     "text": [
      "Ingresa la contraseña:  1\n"
     ]
    },
    {
     "name": "stdout",
     "output_type": "stream",
     "text": [
      "Contraseña incorrecta. Te quedan 1 intentos.\n"
     ]
    },
    {
     "name": "stdin",
     "output_type": "stream",
     "text": [
      "Ingresa la contraseña:  1\n"
     ]
    },
    {
     "name": "stdout",
     "output_type": "stream",
     "text": [
      "Has agotado todos los intentos. Acceso denegado.\n"
     ]
    }
   ],
   "source": [
    "def verificar_contrasena(intentos_maximos):\n",
    "    contrasena_correcta = \"123\"  \n",
    "    intentos = 0\n",
    "    seguir = True\n",
    "    while seguir and intentos < intentos_maximos:\n",
    "        contrasena_ingresada = input(\"Ingresa la contraseña: \")\n",
    "\n",
    "        if contrasena_ingresada == contrasena_correcta:\n",
    "            print(\"¡Contraseña correcta! Acceso permitido.\")\n",
    "            seguir=False\n",
    "        else:\n",
    "            intentos += 1\n",
    "            intentos_restantes = intentos_maximos - intentos\n",
    "            if intentos_restantes > 0:\n",
    "                print(f\"Contraseña incorrecta. Te quedan {intentos_restantes} intentos.\")\n",
    "            else:\n",
    "                print(\"Has agotado todos los intentos. Acceso denegado.\")\n",
    "                break\n",
    "\n",
    "# Llama a la función para verificar la contraseña con un máximo de 3 intentos\n",
    "intentos_maximos=3\n",
    "verificar_contrasena(intentos_maximos)\n"
   ]
  },
  {
   "cell_type": "markdown",
   "id": "c36d6550",
   "metadata": {},
   "source": [
    "## Programa una función que genere un número aleatorio entero en un rango determinado. Y que le permita al usuario introducir números indicando si son mayores o menores hasta que acierte el número."
   ]
  },
  {
   "cell_type": "code",
   "execution_count": 285,
   "id": "105044e0",
   "metadata": {},
   "outputs": [],
   "source": [
    "from random import randint"
   ]
  },
  {
   "cell_type": "code",
   "execution_count": 286,
   "id": "aae534c1",
   "metadata": {},
   "outputs": [
    {
     "data": {
      "text/plain": [
       "7"
      ]
     },
     "execution_count": 286,
     "metadata": {},
     "output_type": "execute_result"
    }
   ],
   "source": [
    "randint(0, 10)"
   ]
  },
  {
   "cell_type": "code",
   "execution_count": 290,
   "id": "8ff11ade",
   "metadata": {},
   "outputs": [
    {
     "name": "stdout",
     "output_type": "stream",
     "text": [
      "Adivina el número entre 1 y 100.\n"
     ]
    },
    {
     "name": "stdin",
     "output_type": "stream",
     "text": [
      "Ingresa tu número:  100\n"
     ]
    },
    {
     "name": "stdout",
     "output_type": "stream",
     "text": [
      "El número secreto es menor. Intenta de nuevo.\n"
     ]
    },
    {
     "name": "stdin",
     "output_type": "stream",
     "text": [
      "Ingresa tu número:  50\n"
     ]
    },
    {
     "name": "stdout",
     "output_type": "stream",
     "text": [
      "El número secreto es mayor. Intenta de nuevo.\n"
     ]
    },
    {
     "name": "stdin",
     "output_type": "stream",
     "text": [
      "Ingresa tu número:  75\n"
     ]
    },
    {
     "name": "stdout",
     "output_type": "stream",
     "text": [
      "El número secreto es menor. Intenta de nuevo.\n"
     ]
    },
    {
     "name": "stdin",
     "output_type": "stream",
     "text": [
      "Ingresa tu número:  60\n"
     ]
    },
    {
     "name": "stdout",
     "output_type": "stream",
     "text": [
      "El número secreto es mayor. Intenta de nuevo.\n"
     ]
    },
    {
     "name": "stdin",
     "output_type": "stream",
     "text": [
      "Ingresa tu número:  65\n"
     ]
    },
    {
     "name": "stdout",
     "output_type": "stream",
     "text": [
      "¡Felicitaciones! Adivinaste el número secreto 65 en 5 intentos.\n"
     ]
    }
   ],
   "source": [
    "def acierto(n_min=0, n_max=10):\n",
    "    x = randint(n_min, n_max)\n",
    "    fallo = True\n",
    "    while fallo == True:\n",
    "        print('Introduce un numero:')\n",
    "        numero = int(input())\n",
    "        if numero == x:\n",
    "            print('Has acertado')\n",
    "            fallo = False\n",
    "        elif numero < x:\n",
    "            print('Es mayor que ', numero)\n",
    "        else:\n",
    "            print('Es menor que ', numero)\n",
    "###################################################################################3\n",
    "def adivinar_numero(rango_minimo, rango_maximo):\n",
    "    numero_secreto = random.randint(rango_minimo, rango_maximo)\n",
    "    intentos = 0\n",
    "\n",
    "    print(f\"Adivina el número entre {rango_minimo} y {rango_maximo}.\")\n",
    "\n",
    "    while True:\n",
    "        intento = int(input(\"Ingresa tu número: \"))\n",
    "        intentos += 1\n",
    "\n",
    "        if intento < numero_secreto:\n",
    "            print(\"El número secreto es mayor. Intenta de nuevo.\")\n",
    "        elif intento > numero_secreto:\n",
    "            print(\"El número secreto es menor. Intenta de nuevo.\")\n",
    "        else:\n",
    "            print(f\"¡Felicitaciones! Adivinaste el número secreto {numero_secreto} en {intentos} intentos.\")\n",
    "            break\n",
    "\n",
    "# Llama a la función para adivinar un número en el rango de 1 a 100\n",
    "adivinar_numero(1, 100)\n"
   ]
  },
  {
   "cell_type": "code",
   "execution_count": 288,
   "id": "c55fbb77",
   "metadata": {},
   "outputs": [
    {
     "name": "stdout",
     "output_type": "stream",
     "text": [
      "Introduce un numero:\n"
     ]
    },
    {
     "name": "stdin",
     "output_type": "stream",
     "text": [
      " 3\n"
     ]
    },
    {
     "name": "stdout",
     "output_type": "stream",
     "text": [
      "Es mayor que  3\n",
      "Introduce un numero:\n"
     ]
    },
    {
     "name": "stdin",
     "output_type": "stream",
     "text": [
      " 5\n"
     ]
    },
    {
     "name": "stdout",
     "output_type": "stream",
     "text": [
      "Es mayor que  5\n",
      "Introduce un numero:\n"
     ]
    },
    {
     "name": "stdin",
     "output_type": "stream",
     "text": [
      " 6\n"
     ]
    },
    {
     "name": "stdout",
     "output_type": "stream",
     "text": [
      "Has acertado\n"
     ]
    }
   ],
   "source": [
    "acierto()"
   ]
  },
  {
   "cell_type": "markdown",
   "id": "d00c2bda",
   "metadata": {},
   "source": [
    "## Programa una función que implemente el algoritmo de Euclides para calcular el máximo común divisor de dos números $n$ y $m$. Dado por los siguientes pasos:\n",
    "1. Se calcula el resto ($r$) de $m/n$.\n",
    "2. Si $r$ es cero entonces $n$ es el MCD de los valores iniciales.\n",
    "3. Si no, se asigna $m \\leftarrow n$, $n \\leftarrow r$ y se vuelve al primer paso.\n"
   ]
  },
  {
   "cell_type": "code",
   "execution_count": 293,
   "id": "44658142",
   "metadata": {},
   "outputs": [
    {
     "name": "stdout",
     "output_type": "stream",
     "text": [
      "El Máximo Común Divisor de 18 y 48 es 6\n"
     ]
    }
   ],
   "source": [
    "def algoritmo_euclides(n, m):\n",
    "    while m % n != 0:\n",
    "        r = m % n\n",
    "        m, n = n, r\n",
    "    return n\n",
    "\n",
    "numero1 = 18\n",
    "numero2 = 48\n",
    "\n",
    "mcd = algoritmo_euclides(numero1, numero2)\n",
    "print(f\"El Máximo Común Divisor de {numero1} y {numero2} es {mcd}\")\n"
   ]
  },
  {
   "cell_type": "code",
   "execution_count": null,
   "id": "c762161e-41e6-48a1-891f-a245eb54f677",
   "metadata": {},
   "outputs": [],
   "source": []
  }
 ],
 "metadata": {
  "kernelspec": {
   "display_name": "Python 3 (ipykernel)",
   "language": "python",
   "name": "python3"
  },
  "language_info": {
   "codemirror_mode": {
    "name": "ipython",
    "version": 3
   },
   "file_extension": ".py",
   "mimetype": "text/x-python",
   "name": "python",
   "nbconvert_exporter": "python",
   "pygments_lexer": "ipython3",
   "version": "3.11.5"
  }
 },
 "nbformat": 4,
 "nbformat_minor": 5
}
