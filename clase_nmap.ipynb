{
 "cells": [
  {
   "cell_type": "code",
   "execution_count": 8,
   "id": "20064585-38e0-4a33-8f03-35a20bf6d7ff",
   "metadata": {},
   "outputs": [
    {
     "name": "stdout",
     "output_type": "stream",
     "text": [
      "Requirement already satisfied: python3-nmap in c:\\users\\user\\appdata\\local\\programs\\python\\python311\\lib\\site-packages (1.6.0)\n",
      "Requirement already satisfied: simplejson in c:\\users\\user\\appdata\\local\\programs\\python\\python311\\lib\\site-packages (from python3-nmap) (3.19.1)\n"
     ]
    }
   ],
   "source": [
    "!pip install python3-nmap"
   ]
  },
  {
   "cell_type": "code",
   "execution_count": 9,
   "id": "91863cdd-33e6-4fff-8c72-9b79150df95b",
   "metadata": {},
   "outputs": [],
   "source": [
    "import nmap3 as nmap"
   ]
  },
  {
   "cell_type": "code",
   "execution_count": null,
   "id": "0d5c1410-d44b-40da-802d-8fcac26e5e42",
   "metadata": {},
   "outputs": [],
   "source": []
  }
 ],
 "metadata": {
  "kernelspec": {
   "display_name": "Python 3 (ipykernel)",
   "language": "python",
   "name": "python3"
  },
  "language_info": {
   "codemirror_mode": {
    "name": "ipython",
    "version": 3
   },
   "file_extension": ".py",
   "mimetype": "text/x-python",
   "name": "python",
   "nbconvert_exporter": "python",
   "pygments_lexer": "ipython3",
   "version": "3.11.5"
  }
 },
 "nbformat": 4,
 "nbformat_minor": 5
}
