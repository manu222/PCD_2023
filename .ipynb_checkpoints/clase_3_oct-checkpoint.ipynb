{
 "cells": [
  {
   "cell_type": "markdown",
   "id": "a14a35c1-8756-42a7-ad62-a6367e842cee",
   "metadata": {},
   "source": [
    "# 3/OCT/2023\n",
    "# Threads"
   ]
  },
  {
   "cell_type": "markdown",
   "id": "a19b61d8-c0d4-4b8f-a25f-5fa15803fe58",
   "metadata": {},
   "source": [
    "## Import libs,manage threads"
   ]
  },
  {
   "cell_type": "code",
   "execution_count": 2,
   "id": "8719b26f-c3d4-49a9-988b-e0863d69a0bb",
   "metadata": {},
   "outputs": [],
   "source": [
    "import threading as th"
   ]
  },
  {
   "cell_type": "code",
   "execution_count": 3,
   "id": "80c74ac4-d274-4df5-a03d-1b569b8daa65",
   "metadata": {},
   "outputs": [
    {
     "data": {
      "text/plain": [
       "6"
      ]
     },
     "execution_count": 3,
     "metadata": {},
     "output_type": "execute_result"
    }
   ],
   "source": [
    "th.active_count()"
   ]
  },
  {
   "cell_type": "code",
   "execution_count": 5,
   "id": "ba656664-2ffa-4fe8-8254-74b57a595bbc",
   "metadata": {},
   "outputs": [
    {
     "data": {
      "text/plain": [
       "[<_MainThread(MainThread, started 12240)>,\n",
       " <Thread(IOPub, started daemon 11664)>,\n",
       " <Heartbeat(Heartbeat, started daemon 1984)>,\n",
       " <ControlThread(Control, started daemon 15380)>,\n",
       " <HistorySavingThread(IPythonHistorySavingThread, started 6680)>,\n",
       " <ParentPollerWindows(Thread-4, started daemon 15696)>]"
      ]
     },
     "execution_count": 5,
     "metadata": {},
     "output_type": "execute_result"
    }
   ],
   "source": [
    "th.enumerate()"
   ]
  },
  {
   "cell_type": "markdown",
   "id": "261fe2c7-56df-4efa-bb28-7bc2e84cda65",
   "metadata": {},
   "source": [
    "# Who is the parent?"
   ]
  },
  {
   "cell_type": "code",
   "execution_count": 6,
   "id": "e168ae4e-65f6-40f8-96a8-ceb70260fa6d",
   "metadata": {},
   "outputs": [],
   "source": [
    "import os "
   ]
  },
  {
   "cell_type": "code",
   "execution_count": 25,
   "id": "7a397fbb-67c0-447b-a761-f2716615c326",
   "metadata": {},
   "outputs": [
    {
     "data": {
      "text/plain": [
       "9664"
      ]
     },
     "execution_count": 25,
     "metadata": {},
     "output_type": "execute_result"
    }
   ],
   "source": [
    "os.getpid()"
   ]
  },
  {
   "cell_type": "code",
   "execution_count": 32,
   "id": "afaad07d-0217-418a-a133-846f8215de5d",
   "metadata": {},
   "outputs": [],
   "source": [
    "from IPython import display as dp"
   ]
  },
  {
   "cell_type": "code",
   "execution_count": 38,
   "id": "fd2dd6e6-41d5-4bfe-bf76-4c8fe2b19526",
   "metadata": {},
   "outputs": [
    {
     "name": "stderr",
     "output_type": "stream",
     "text": [
      "\"pwd\" no se reconoce como un comando interno o externo,\n",
      "programa o archivo por lotes ejecutable.\n"
     ]
    }
   ],
   "source": [
    "dp.display()"
   ]
  },
  {
   "cell_type": "markdown",
   "id": "53f2823f-1c5f-4073-8cca-811c5f7b4048",
   "metadata": {},
   "source": [
    "### Cuantos hilos puedo instanciar?"
   ]
  },
  {
   "cell_type": "code",
   "execution_count": null,
   "id": "a18aac3f-7f48-4312-8b83-5bccb66d828b",
   "metadata": {},
   "outputs": [],
   "source": []
  },
  {
   "cell_type": "markdown",
   "id": "76403c28-1297-43dd-91b2-d85ff4f37226",
   "metadata": {},
   "source": [
    "### Import libs, manage process (cores)"
   ]
  },
  {
   "cell_type": "code",
   "execution_count": 28,
   "id": "dc15244f-0ee2-4080-8b21-3517ca24fba5",
   "metadata": {},
   "outputs": [],
   "source": [
    "import multiprocessing as mp # manage cores"
   ]
  },
  {
   "cell_type": "code",
   "execution_count": 29,
   "id": "b8bf7799-19a8-4920-80b7-f8393b6b0365",
   "metadata": {},
   "outputs": [
    {
     "data": {
      "text/plain": [
       "12"
      ]
     },
     "execution_count": 29,
     "metadata": {},
     "output_type": "execute_result"
    }
   ],
   "source": [
    "mp.cpu_count()"
   ]
  },
  {
   "cell_type": "code",
   "execution_count": 11,
   "id": "3476977a-22cc-4428-8d44-76cf44ff0215",
   "metadata": {},
   "outputs": [
    {
     "data": {
      "text/plain": [
       "<_MainProcess name='MainProcess' parent=None started>"
      ]
     },
     "execution_count": 11,
     "metadata": {},
     "output_type": "execute_result"
    }
   ],
   "source": [
    "mp.current_process()"
   ]
  },
  {
   "cell_type": "markdown",
   "id": "8ae6cb48-6887-40ca-ab78-0213fe6f5e94",
   "metadata": {},
   "source": [
    "## Cual es mi interprete de python?"
   ]
  },
  {
   "cell_type": "code",
   "execution_count": 16,
   "id": "c55fb081-32d4-4558-99f5-ebf8b4bdba1f",
   "metadata": {},
   "outputs": [
    {
     "name": "stdout",
     "output_type": "stream",
     "text": [
      "Python 3.11.5\n"
     ]
    }
   ],
   "source": [
    "! python --version"
   ]
  },
  {
   "cell_type": "code",
   "execution_count": 17,
   "id": "7ed7fdf2-b3d4-400f-a9a9-a01b43b1f39e",
   "metadata": {},
   "outputs": [],
   "source": [
    "import platform as pt"
   ]
  },
  {
   "cell_type": "code",
   "execution_count": 18,
   "id": "3f680acb-8db6-48ae-8cc3-4c684f6d653f",
   "metadata": {},
   "outputs": [
    {
     "data": {
      "text/plain": [
       "'CPython'"
      ]
     },
     "execution_count": 18,
     "metadata": {},
     "output_type": "execute_result"
    }
   ],
   "source": [
    "pt.python_implementation()"
   ]
  },
  {
   "cell_type": "code",
   "execution_count": 25,
   "id": "ea6258e2-0aec-4126-a068-70df8f38fdb0",
   "metadata": {},
   "outputs": [
    {
     "data": {
      "text/plain": [
       "'MSC v.1936 64 bit (AMD64)'"
      ]
     },
     "execution_count": 25,
     "metadata": {},
     "output_type": "execute_result"
    }
   ],
   "source": [
    "pt.python_compiler()"
   ]
  },
  {
   "cell_type": "code",
   "execution_count": 26,
   "id": "1ab50bd9-31bb-40a6-9bb3-a8ca1c9e7d2c",
   "metadata": {},
   "outputs": [
    {
     "data": {
      "text/plain": [
       "([1, 2, 3, 4], [4, 6, 7])"
      ]
     },
     "execution_count": 26,
     "metadata": {},
     "output_type": "execute_result"
    }
   ],
   "source": [
    "[[1,2,3,4],[46,7,5]]"
   ]
  },
  {
   "cell_type": "code",
   "execution_count": null,
   "id": "694b6beb-7e5a-4138-87e7-35ea7f0c27de",
   "metadata": {},
   "outputs": [],
   "source": []
  }
 ],
 "metadata": {
  "kernelspec": {
   "display_name": "Python 3 (ipykernel)",
   "language": "python",
   "name": "python3"
  },
  "language_info": {
   "codemirror_mode": {
    "name": "ipython",
    "version": 3
   },
   "file_extension": ".py",
   "mimetype": "text/x-python",
   "name": "python",
   "nbconvert_exporter": "python",
   "pygments_lexer": "ipython3",
   "version": "3.11.5"
  }
 },
 "nbformat": 4,
 "nbformat_minor": 5
}
