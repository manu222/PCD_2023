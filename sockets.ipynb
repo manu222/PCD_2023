{
 "cells": [
  {
   "cell_type": "markdown",
   "id": "47c3b026-a3d6-4295-8eea-37039339cafb",
   "metadata": {},
   "source": [
    "## SOCKETS (communication btw 2 independent programs)"
   ]
  },
  {
   "cell_type": "markdown",
   "id": "cc1ea9e1-2836-41d6-976e-4df0bf180f73",
   "metadata": {},
   "source": [
    "# Cliente"
   ]
  },
  {
   "cell_type": "code",
   "execution_count": 13,
   "id": "3113630d-3d10-41dd-95ca-75808a4bf2ff",
   "metadata": {
    "scrolled": true
   },
   "outputs": [
    {
     "name": "stdout",
     "output_type": "stream",
     "text": [
      "ManuDesk\n"
     ]
    },
    {
     "name": "stdin",
     "output_type": "stream",
     "text": [
      "Que puerto desea usar? 3030\n",
      "IP del servidor que desea usar 192.168.1.57\n"
     ]
    },
    {
     "ename": "ConnectionRefusedError",
     "evalue": "[WinError 10061] No se puede establecer una conexión ya que el equipo de destino denegó expresamente dicha conexión",
     "output_type": "error",
     "traceback": [
      "\u001b[1;31m---------------------------------------------------------------------------\u001b[0m",
      "\u001b[1;31mConnectionRefusedError\u001b[0m                    Traceback (most recent call last)",
      "Cell \u001b[1;32mIn[13], line 9\u001b[0m\n\u001b[0;32m      7\u001b[0m \u001b[38;5;66;03m#192.168.1.57\u001b[39;00m\n\u001b[0;32m      8\u001b[0m host \u001b[38;5;241m=\u001b[39m \u001b[38;5;28minput\u001b[39m(\u001b[38;5;124m\"\u001b[39m\u001b[38;5;124mIP del servidor que desea usar\u001b[39m\u001b[38;5;124m\"\u001b[39m)\n\u001b[1;32m----> 9\u001b[0m \u001b[43ms\u001b[49m\u001b[38;5;241;43m.\u001b[39;49m\u001b[43mconnect\u001b[49m\u001b[43m(\u001b[49m\u001b[43m(\u001b[49m\u001b[43mhost\u001b[49m\u001b[43m,\u001b[49m\u001b[38;5;28;43mint\u001b[39;49m\u001b[43m(\u001b[49m\u001b[43mport\u001b[49m\u001b[43m)\u001b[49m\u001b[43m)\u001b[49m\u001b[43m)\u001b[49m\n",
      "\u001b[1;31mConnectionRefusedError\u001b[0m: [WinError 10061] No se puede establecer una conexión ya que el equipo de destino denegó expresamente dicha conexión"
     ]
    }
   ],
   "source": [
    "from IPython import display as dp\n",
    "import socket as sc\n",
    "\n",
    "s=sc.socket()\n",
    "print(sc.gethostname())\n",
    "port = input(\"Que puerto desea usar?\")\n",
    "#192.168.1.57\n",
    "host = input(\"IP del servidor que desea usar\")\n",
    "s.connect((host,int(port)))"
   ]
  },
  {
   "cell_type": "markdown",
   "id": "489bee85-cee7-4d21-950f-e21f2df2f813",
   "metadata": {},
   "source": [
    "# Server"
   ]
  },
  {
   "cell_type": "code",
   "execution_count": 8,
   "id": "22476003-20c6-41a0-9238-367f5b15d227",
   "metadata": {},
   "outputs": [],
   "source": [
    "import threading as th\n",
    "th.Thread(target=accept,daemon=True).start()\n",
    "th.Thread(target=process,daemon=True).start()\n",
    "\n",
    "class Server():\n",
    "    def __init__()\n",
    "\n",
    "def accept():\n",
    "    pass\n",
    "def process():\n",
    "    pass\n",
    "def broadcast():\n",
    "    pass"
   ]
  }
 ],
 "metadata": {
  "kernelspec": {
   "display_name": "Python 3 (ipykernel)",
   "language": "python",
   "name": "python3"
  },
  "language_info": {
   "codemirror_mode": {
    "name": "ipython",
    "version": 3
   },
   "file_extension": ".py",
   "mimetype": "text/x-python",
   "name": "python",
   "nbconvert_exporter": "python",
   "pygments_lexer": "ipython3",
   "version": "3.12.0"
  }
 },
 "nbformat": 4,
 "nbformat_minor": 5
}
